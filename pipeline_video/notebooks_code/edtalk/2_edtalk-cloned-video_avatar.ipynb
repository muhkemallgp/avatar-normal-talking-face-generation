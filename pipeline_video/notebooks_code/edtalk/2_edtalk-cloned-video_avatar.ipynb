{
 "cells": [
  {
   "cell_type": "code",
   "execution_count": 1,
   "id": "9016d878",
   "metadata": {},
   "outputs": [
    {
     "name": "stdout",
     "output_type": "stream",
     "text": [
      "/home/ldap-users-2/lathifgalih-k/clone-video/edtalk-exp/EDTalk\n"
     ]
    }
   ],
   "source": [
    "import os\n",
    "os.getcwd()\n",
    "%cd EDTalk/"
   ]
  },
  {
   "cell_type": "code",
   "execution_count": 2,
   "id": "2d0399c3",
   "metadata": {},
   "outputs": [
    {
     "name": "stdout",
     "output_type": "stream",
     "text": [
      "/home/is/lathifgalih-k/miniconda3/envs/EDTalk/bin/python\n"
     ]
    }
   ],
   "source": [
    "import sys\n",
    "print(sys.executable)"
   ]
  },
  {
   "cell_type": "markdown",
   "id": "afc971de",
   "metadata": {},
   "source": [
    "#### Preprocess Data Video n Generation Video"
   ]
  },
  {
   "cell_type": "code",
   "execution_count": 1,
   "id": "d19493aa",
   "metadata": {},
   "outputs": [],
   "source": [
    "import os\n",
    "import subprocess\n",
    "from pathlib import Path\n",
    "import shutil\n",
    "from tqdm import tqdm\n",
    "import yaml\n",
    "import random\n",
    "\n",
    "# Configuration\n",
    "BASE_DIR = \"/home/is/lathifgalih-k/research_naist/multimodal-clone/clone-video\"\n",
    "MUSE_AUDIO_DIR = f\"{BASE_DIR}/muse-exp/MuseTalk/data/audio\" \n",
    "AVATAR_IMAGE_DIR = f\"{BASE_DIR}/avatar-cloned/image-editing/output_image\"\n",
    "EDTALK_DIR = f\"{BASE_DIR}/edtalk-exp/EDTalk\"\n",
    "OUTPUT_DIR = f\"{EDTALK_DIR}/results\"\n",
    "\n",
    "def run_edtalk_avatar_inference(source_img, audio_path, output_path):\n",
    "    \"\"\"Run EDTalk inference with avatar image as source\"\"\"\n",
    "    cmd = f'python demo_lip_pose.py --fix_pose --source_path \"{source_img}\" --audio_driving_path \"{audio_path}\" --save_path \"{output_path}\" --face_sr'\n",
    "    result = subprocess.run(cmd, shell=True, capture_output=True, cwd=EDTALK_DIR)\n",
    "    \n",
    "    # Print error output for debugging\n",
    "    if result.returncode != 0:\n",
    "        print(f\"Error output: {result.stderr.decode() if result.stderr else 'No error message'}\")\n",
    "        print(f\"Stdout: {result.stdout.decode() if result.stdout else 'No stdout'}\")\n",
    "    \n",
    "    return result.returncode == 0\n",
    "\n",
    "def get_random_avatar_image(subject_id, subject_type):\n",
    "    \"\"\"Get a random avatar image for the subject\"\"\"\n",
    "    avatar_folder = f\"{AVATAR_IMAGE_DIR}/{subject_type}/{subject_id}\"\n",
    "    \n",
    "    if not os.path.exists(avatar_folder):\n",
    "        print(f\"Avatar folder not found: {avatar_folder}\")\n",
    "        return None\n",
    "    \n",
    "    # Get all avatar images (excluding grid image)\n",
    "    avatar_files = [f for f in os.listdir(avatar_folder) \n",
    "                   if f.endswith('.png') and not f.endswith('_grid.png')]\n",
    "    \n",
    "    if not avatar_files:\n",
    "        print(f\"No avatar images found in: {avatar_folder}\")\n",
    "        return None\n",
    "    \n",
    "    # Randomly select one avatar image\n",
    "    selected_avatar = random.choice(avatar_files)\n",
    "    avatar_path = os.path.join(avatar_folder, selected_avatar)\n",
    "    \n",
    "    print(f\"Selected avatar for {subject_id}: {selected_avatar}\")\n",
    "    return avatar_path\n",
    "\n",
    "def get_audio_type_from_path(audio_path):\n",
    "    \"\"\"Extract audio type from path\"\"\"\n",
    "    if \"CosyVoice2\" in audio_path:\n",
    "        return \"CV\"\n",
    "    elif \"XTTSv2\" in audio_path:\n",
    "        return \"XT\"\n",
    "    elif \"YourTTS\" in audio_path:\n",
    "        return \"YT\"\n",
    "    return \"Unknown\"\n",
    "\n",
    "def get_dataset_type_from_path(audio_path):\n",
    "    \"\"\"Extract dataset type from path\"\"\"\n",
    "    if \"VCTK\" in audio_path:\n",
    "        return \"VCTK\"\n",
    "    elif \"Raw\" in audio_path:\n",
    "        return \"Raw\"\n",
    "    return \"Unknown\"\n",
    "\n",
    "def get_subject_task_from_audio(audio_path):\n",
    "    \"\"\"Extract subject and task from audio filename\"\"\"\n",
    "    filename = os.path.basename(audio_path)\n",
    "    # Remove prefix (CV_, XT_, YT_) and suffix (_cloned.wav)\n",
    "    parts = filename.replace(\"CV_\", \"\").replace(\"XT_\", \"\").replace(\"YT_\", \"\").replace(\"_cloned.wav\", \"\")\n",
    "    \n",
    "    if \"_VCTK\" in parts:\n",
    "        parts = parts.replace(\"_VCTK\", \"\")\n",
    "    \n",
    "    return parts\n",
    "\n",
    "def create_output_filename_avatar(subject_id, audio_path, avatar_filename):\n",
    "    \"\"\"Create output filename based on subject, audio, and avatar\"\"\"\n",
    "    audio_type = get_audio_type_from_path(audio_path)\n",
    "    subject_task = get_subject_task_from_audio(audio_path)\n",
    "    avatar_id = Path(avatar_filename).stem  # e.g., A002_avatar_00\n",
    "    \n",
    "    return f\"{avatar_id}_{audio_type}_{subject_task}_cloned.mp4\"\n",
    "\n",
    "def scan_and_process_avatar_files():\n",
    "    \"\"\"Scan available avatar images and audio files, then process them\"\"\"\n",
    "    \n",
    "    # Create output directories\n",
    "    os.makedirs(f\"{OUTPUT_DIR}/test_raw/avatar/RAW\", exist_ok=True)\n",
    "    os.makedirs(f\"{OUTPUT_DIR}/test_vctk/avatar/VCTK\", exist_ok=True)\n",
    "    \n",
    "    # Scan available audio folders\n",
    "    audio_base_folders = [\n",
    "        \"ALS-Raw\", \"ALS-VCTK\", \"Stroke-Raw\", \"Stroke-VCTK\"\n",
    "    ]\n",
    "    \n",
    "    all_tasks = []\n",
    "    \n",
    "    # Scan avatar directories\n",
    "    subject_types = [\"ALS\", \"Stroke\"]\n",
    "    \n",
    "    for subject_type in subject_types:\n",
    "        avatar_type_dir = f\"{AVATAR_IMAGE_DIR}/{subject_type}\"\n",
    "        if not os.path.exists(avatar_type_dir):\n",
    "            continue\n",
    "        \n",
    "        # Get all subject directories\n",
    "        for subject_id in os.listdir(avatar_type_dir):\n",
    "            subject_path = os.path.join(avatar_type_dir, subject_id)\n",
    "            if not os.path.isdir(subject_path):\n",
    "                continue\n",
    "            \n",
    "            # Get random avatar image for this subject\n",
    "            avatar_image_path = get_random_avatar_image(subject_id, subject_type)\n",
    "            if not avatar_image_path:\n",
    "                continue\n",
    "            \n",
    "            # Find corresponding audio files\n",
    "            for audio_base_folder in audio_base_folders:\n",
    "                if not (subject_type in audio_base_folder):\n",
    "                    continue\n",
    "                    \n",
    "                audio_folder_path = f\"{MUSE_AUDIO_DIR}/{audio_base_folder}\"\n",
    "                if not os.path.exists(audio_folder_path):\n",
    "                    continue\n",
    "                \n",
    "                # Check each audio type folder\n",
    "                for audio_type_folder in [\"CosyVoice2\", \"XTTSv2\", \"YourTTS\"]:\n",
    "                    audio_type_path = f\"{audio_folder_path}/{audio_type_folder}\"\n",
    "                    if not os.path.exists(audio_type_path):\n",
    "                        continue\n",
    "                    \n",
    "                    # Find matching audio files\n",
    "                    for audio_file in os.listdir(audio_type_path):\n",
    "                        if not audio_file.endswith('.wav'):\n",
    "                            continue\n",
    "                        \n",
    "                        # Check if audio file matches the subject\n",
    "                        if subject_id in audio_file:\n",
    "                            audio_path = os.path.join(audio_type_path, audio_file)\n",
    "                            \n",
    "                            task = {\n",
    "                                \"avatar_path\": avatar_image_path,\n",
    "                                \"audio_path\": audio_path,\n",
    "                                \"subject_id\": subject_id,\n",
    "                                \"subject_type\": subject_type,\n",
    "                                \"dataset_type\": \"Raw\" if \"Raw\" in audio_base_folder else \"VCTK\",\n",
    "                                \"avatar_filename\": os.path.basename(avatar_image_path)\n",
    "                            }\n",
    "                            all_tasks.append(task)\n",
    "    \n",
    "    print(f\"Found {len(all_tasks)} avatar-audio pairs to process\")\n",
    "    \n",
    "    # Process all tasks\n",
    "    for task in tqdm(all_tasks, desc=\"Processing all avatar tasks\"):\n",
    "        avatar_path = task[\"avatar_path\"]\n",
    "        audio_path = task[\"audio_path\"]\n",
    "        subject_id = task[\"subject_id\"]\n",
    "        subject_type = task[\"subject_type\"]\n",
    "        dataset_type = task[\"dataset_type\"]\n",
    "        avatar_filename = task[\"avatar_filename\"]\n",
    "        \n",
    "        # Create output filename\n",
    "        output_filename = create_output_filename_avatar(subject_id, audio_path, avatar_filename)\n",
    "        \n",
    "        if dataset_type == \"Raw\":\n",
    "            output_path = f\"{OUTPUT_DIR}/test_raw/avatar/RAW/{output_filename}\"\n",
    "        else:  # VCTK\n",
    "            output_path = f\"{OUTPUT_DIR}/test_vctk/avatar/VCTK/{output_filename}\"\n",
    "        \n",
    "        # Skip if output already exists\n",
    "        if os.path.exists(output_path):\n",
    "            print(f\"Skipping existing: {output_filename}\")\n",
    "            continue\n",
    "        \n",
    "        # Check if avatar image exists\n",
    "        if not os.path.exists(avatar_path):\n",
    "            print(f\"Avatar image not found: {avatar_path}\")\n",
    "            continue\n",
    "        \n",
    "        # Check if audio file exists\n",
    "        if not os.path.exists(audio_path):\n",
    "            print(f\"Audio file not found: {audio_path}\")\n",
    "            continue\n",
    "        \n",
    "        # Use avatar image directly without cropping\n",
    "        source_img = avatar_path\n",
    "        \n",
    "        # Run EDTalk inference\n",
    "        print(f\"Processing: {output_filename}\")\n",
    "        print(f\"Avatar: {os.path.basename(avatar_path)}\")\n",
    "        print(f\"Audio: {os.path.basename(audio_path)}\")\n",
    "        \n",
    "        success = run_edtalk_avatar_inference(source_img, audio_path, output_path)\n",
    "        \n",
    "        if success:\n",
    "            print(f\"✓ Generated: {output_path}\")\n",
    "        else:\n",
    "            print(f\"✗ Failed: {output_path}\")\n",
    "\n",
    "def scan_and_process_avatar_files_with_pose():\n",
    "    \"\"\"Scan available avatar images and process them with pose from original videos\"\"\"\n",
    "    \n",
    "    # Create output directories\n",
    "    os.makedirs(f\"{OUTPUT_DIR}/test_raw/avatar_pose/RAW\", exist_ok=True)\n",
    "    os.makedirs(f\"{OUTPUT_DIR}/test_vctk/avatar_pose/VCTK\", exist_ok=True)\n",
    "    \n",
    "    # Video directories for pose reference\n",
    "    MUSE_VIDEO_DIR = f\"{BASE_DIR}/muse-exp/MuseTalk/data/video\"\n",
    "    video_folders = {\n",
    "        \"als-input\": f\"{MUSE_VIDEO_DIR}/als-input\",\n",
    "        \"stroke-input\": f\"{MUSE_VIDEO_DIR}/stroke-input\"\n",
    "    }\n",
    "    \n",
    "    # Scan available audio folders\n",
    "    audio_base_folders = [\n",
    "        \"ALS-Raw\", \"ALS-VCTK\", \"Stroke-Raw\", \"Stroke-VCTK\"\n",
    "    ]\n",
    "    \n",
    "    all_tasks = []\n",
    "    \n",
    "    # Scan avatar directories\n",
    "    subject_types = [\"ALS\", \"Stroke\"]\n",
    "    \n",
    "    for subject_type in subject_types:\n",
    "        avatar_type_dir = f\"{AVATAR_IMAGE_DIR}/{subject_type}\"\n",
    "        if not os.path.exists(avatar_type_dir):\n",
    "            continue\n",
    "        \n",
    "        # Get all subject directories\n",
    "        for subject_id in os.listdir(avatar_type_dir):\n",
    "            subject_path = os.path.join(avatar_type_dir, subject_id)\n",
    "            if not os.path.isdir(subject_path):\n",
    "                continue\n",
    "            \n",
    "            # Get random avatar image for this subject\n",
    "            avatar_image_path = get_random_avatar_image(subject_id, subject_type)\n",
    "            if not avatar_image_path:\n",
    "                continue\n",
    "            \n",
    "            # Find corresponding video for pose reference\n",
    "            video_folder = video_folders[\"als-input\"] if subject_type == \"ALS\" else video_folders[\"stroke-input\"]\n",
    "            pose_video_path = None\n",
    "            \n",
    "            if os.path.exists(video_folder):\n",
    "                for video_file in os.listdir(video_folder):\n",
    "                    if video_file.startswith(subject_id) and video_file.endswith('.mp4'):\n",
    "                        pose_video_path = os.path.join(video_folder, video_file)\n",
    "                        break\n",
    "            \n",
    "            if not pose_video_path:\n",
    "                print(f\"No pose video found for {subject_id}, skipping pose generation\")\n",
    "                continue\n",
    "            \n",
    "            # Find corresponding audio files\n",
    "            for audio_base_folder in audio_base_folders:\n",
    "                if not (subject_type in audio_base_folder):\n",
    "                    continue\n",
    "                    \n",
    "                audio_folder_path = f\"{MUSE_AUDIO_DIR}/{audio_base_folder}\"\n",
    "                if not os.path.exists(audio_folder_path):\n",
    "                    continue\n",
    "                \n",
    "                # Check each audio type folder\n",
    "                for audio_type_folder in [\"CosyVoice2\", \"XTTSv2\", \"YourTTS\"]:\n",
    "                    audio_type_path = f\"{audio_folder_path}/{audio_type_folder}\"\n",
    "                    if not os.path.exists(audio_type_path):\n",
    "                        continue\n",
    "                    \n",
    "                    # Find matching audio files\n",
    "                    for audio_file in os.listdir(audio_type_path):\n",
    "                        if not audio_file.endswith('.wav'):\n",
    "                            continue\n",
    "                        \n",
    "                        # Check if audio file matches the subject\n",
    "                        if subject_id in audio_file:\n",
    "                            audio_path = os.path.join(audio_type_path, audio_file)\n",
    "                            \n",
    "                            task = {\n",
    "                                \"avatar_path\": avatar_image_path,\n",
    "                                \"audio_path\": audio_path,\n",
    "                                \"pose_video_path\": pose_video_path,\n",
    "                                \"subject_id\": subject_id,\n",
    "                                \"subject_type\": subject_type,\n",
    "                                \"dataset_type\": \"Raw\" if \"Raw\" in audio_base_folder else \"VCTK\",\n",
    "                                \"avatar_filename\": os.path.basename(avatar_image_path)\n",
    "                            }\n",
    "                            all_tasks.append(task)\n",
    "    \n",
    "    print(f\"Found {len(all_tasks)} avatar-audio-pose pairs to process\")\n",
    "    \n",
    "    # Process all tasks\n",
    "    for task in tqdm(all_tasks, desc=\"Processing all avatar pose tasks\"):\n",
    "        avatar_path = task[\"avatar_path\"]\n",
    "        audio_path = task[\"audio_path\"]\n",
    "        pose_video_path = task[\"pose_video_path\"]\n",
    "        subject_id = task[\"subject_id\"]\n",
    "        subject_type = task[\"subject_type\"]\n",
    "        dataset_type = task[\"dataset_type\"]\n",
    "        avatar_filename = task[\"avatar_filename\"]\n",
    "        \n",
    "        # Create output filename\n",
    "        output_filename = create_output_filename_avatar(subject_id, audio_path, avatar_filename)\n",
    "        \n",
    "        if dataset_type == \"Raw\":\n",
    "            output_path = f\"{OUTPUT_DIR}/test_raw/avatar_pose/RAW/{output_filename}\"\n",
    "        else:  # VCTK\n",
    "            output_path = f\"{OUTPUT_DIR}/test_vctk/avatar_pose/VCTK/{output_filename}\"\n",
    "        \n",
    "        # Skip if output already exists\n",
    "        if os.path.exists(output_path):\n",
    "            print(f\"Skipping existing: {output_filename}\")\n",
    "            continue\n",
    "        \n",
    "        # Check if files exist\n",
    "        if not os.path.exists(avatar_path):\n",
    "            print(f\"Avatar image not found: {avatar_path}\")\n",
    "            continue\n",
    "        \n",
    "        if not os.path.exists(audio_path):\n",
    "            print(f\"Audio file not found: {audio_path}\")\n",
    "            continue\n",
    "            \n",
    "        if not os.path.exists(pose_video_path):\n",
    "            print(f\"Pose video not found: {pose_video_path}\")\n",
    "            continue\n",
    "        \n",
    "        # Use avatar image directly without cropping\n",
    "        source_img = avatar_path\n",
    "        \n",
    "        # Run EDTalk inference with pose\n",
    "        print(f\"Processing: {output_filename}\")\n",
    "        print(f\"Avatar: {os.path.basename(avatar_path)}\")\n",
    "        print(f\"Audio: {os.path.basename(audio_path)}\")\n",
    "        print(f\"Pose video: {os.path.basename(pose_video_path)}\")\n",
    "        \n",
    "        cmd = f'python demo_lip_pose.py --source_path \"{source_img}\" --audio_driving_path \"{audio_path}\" --pose_driving_path \"{pose_video_path}\" --save_path \"{output_path}\" --face_sr'\n",
    "        result = subprocess.run(cmd, shell=True, capture_output=True, cwd=EDTALK_DIR)\n",
    "        \n",
    "        success = result.returncode == 0\n",
    "        \n",
    "        if not success:\n",
    "            print(f\"Error output: {result.stderr.decode() if result.stderr else 'No error message'}\")\n",
    "            print(f\"Stdout: {result.stdout.decode() if result.stdout else 'No stdout'}\")\n",
    "        \n",
    "        if success:\n",
    "            print(f\"✓ Generated: {output_path}\")\n",
    "        else:\n",
    "            print(f\"✗ Failed: {output_path}\")\n",
    "\n",
    "# Set random seed for reproducible avatar selection\n",
    "random.seed(42)"
   ]
  },
  {
   "cell_type": "markdown",
   "id": "ee05d46b",
   "metadata": {},
   "source": [
    "##### Fixed Pose"
   ]
  },
  {
   "cell_type": "code",
   "execution_count": 2,
   "id": "720e1796",
   "metadata": {},
   "outputs": [
    {
     "name": "stdout",
     "output_type": "stream",
     "text": [
      "=== Processing Avatar Images with Fixed Pose ===\n",
      "Selected avatar for A010: A010_avatar_02.png\n",
      "Selected avatar for A017: A017_avatar_01.png\n",
      "Selected avatar for A014: A014_avatar_01.png\n",
      "Selected avatar for A016: A016_avatar_03.png\n",
      "Selected avatar for A002: A002_avatar_03.png\n",
      "Selected avatar for A008: A008_avatar_03.png\n",
      "Selected avatar for A011: A011_avatar_03.png\n",
      "Selected avatar for A015: A015_avatar_01.png\n",
      "Selected avatar for A006: A006_avatar_01.png\n",
      "Selected avatar for S001: S001_avatar_03.png\n",
      "Selected avatar for S012: S012_avatar_00.png\n",
      "Selected avatar for S006: S006_avatar_00.png\n",
      "Selected avatar for S008: S008_avatar_03.png\n",
      "Selected avatar for S002: S002_avatar_03.png\n",
      "Selected avatar for S011: S011_avatar_00.png\n",
      "Selected avatar for S005: S005_avatar_00.png\n",
      "Selected avatar for S007: S007_avatar_01.png\n",
      "Selected avatar for S013: S013_avatar_00.png\n",
      "Selected avatar for S003: S003_avatar_03.png\n",
      "Selected avatar for S009: S009_avatar_00.png\n",
      "Found 120 avatar-audio pairs to process\n"
     ]
    },
    {
     "name": "stderr",
     "output_type": "stream",
     "text": [
      "Processing all avatar tasks:   0%|          | 0/120 [00:00<?, ?it/s]"
     ]
    },
    {
     "name": "stdout",
     "output_type": "stream",
     "text": [
      "Processing: A010_avatar_02_CV_A010_BBP_cloned.mp4\n",
      "Avatar: A010_avatar_02.png\n",
      "Audio: CV_A010_BBP_cloned.wav\n"
     ]
    },
    {
     "name": "stderr",
     "output_type": "stream",
     "text": [
      "Processing all avatar tasks:   1%|          | 1/120 [01:12<2:24:21, 72.79s/it]"
     ]
    },
    {
     "name": "stdout",
     "output_type": "stream",
     "text": [
      "✓ Generated: /home/is/lathifgalih-k/research_naist/multimodal-clone/clone-video/edtalk-exp/EDTalk/results/test_raw/avatar/RAW/A010_avatar_02_CV_A010_BBP_cloned.mp4\n",
      "Processing: A010_avatar_02_XT_A010_BBP_cloned.mp4\n",
      "Avatar: A010_avatar_02.png\n",
      "Audio: XT_A010_BBP_cloned.wav\n"
     ]
    },
    {
     "name": "stderr",
     "output_type": "stream",
     "text": [
      "Processing all avatar tasks:   2%|▏         | 2/120 [02:27<2:25:01, 73.74s/it]"
     ]
    },
    {
     "name": "stdout",
     "output_type": "stream",
     "text": [
      "✓ Generated: /home/is/lathifgalih-k/research_naist/multimodal-clone/clone-video/edtalk-exp/EDTalk/results/test_raw/avatar/RAW/A010_avatar_02_XT_A010_BBP_cloned.mp4\n",
      "Processing: A010_avatar_02_YT_A010_BBP_cloned.mp4\n",
      "Avatar: A010_avatar_02.png\n",
      "Audio: YT_A010_BBP_cloned.wav\n"
     ]
    },
    {
     "name": "stderr",
     "output_type": "stream",
     "text": [
      "Processing all avatar tasks:   2%|▎         | 3/120 [03:21<2:06:10, 64.70s/it]"
     ]
    },
    {
     "name": "stdout",
     "output_type": "stream",
     "text": [
      "✓ Generated: /home/is/lathifgalih-k/research_naist/multimodal-clone/clone-video/edtalk-exp/EDTalk/results/test_raw/avatar/RAW/A010_avatar_02_YT_A010_BBP_cloned.mp4\n",
      "Processing: A010_avatar_02_CV_A010_cloned.mp4\n",
      "Avatar: A010_avatar_02.png\n",
      "Audio: CV_A010_VCTK_cloned.wav\n"
     ]
    },
    {
     "name": "stderr",
     "output_type": "stream",
     "text": [
      "Processing all avatar tasks:   3%|▎         | 4/120 [04:16<1:58:12, 61.14s/it]"
     ]
    },
    {
     "name": "stdout",
     "output_type": "stream",
     "text": [
      "✓ Generated: /home/is/lathifgalih-k/research_naist/multimodal-clone/clone-video/edtalk-exp/EDTalk/results/test_vctk/avatar/VCTK/A010_avatar_02_CV_A010_cloned.mp4\n",
      "Processing: A010_avatar_02_XT_A010_cloned.mp4\n",
      "Avatar: A010_avatar_02.png\n",
      "Audio: XT_A010_VCTK_cloned.wav\n"
     ]
    },
    {
     "name": "stderr",
     "output_type": "stream",
     "text": [
      "Processing all avatar tasks:   4%|▍         | 5/120 [05:21<1:59:40, 62.44s/it]"
     ]
    },
    {
     "name": "stdout",
     "output_type": "stream",
     "text": [
      "✓ Generated: /home/is/lathifgalih-k/research_naist/multimodal-clone/clone-video/edtalk-exp/EDTalk/results/test_vctk/avatar/VCTK/A010_avatar_02_XT_A010_cloned.mp4\n",
      "Processing: A010_avatar_02_YT_A010_cloned.mp4\n",
      "Avatar: A010_avatar_02.png\n",
      "Audio: YT_A010_VCTK_cloned.wav\n"
     ]
    },
    {
     "name": "stderr",
     "output_type": "stream",
     "text": [
      "Processing all avatar tasks:   5%|▌         | 6/120 [06:13<1:51:59, 58.94s/it]"
     ]
    },
    {
     "name": "stdout",
     "output_type": "stream",
     "text": [
      "✓ Generated: /home/is/lathifgalih-k/research_naist/multimodal-clone/clone-video/edtalk-exp/EDTalk/results/test_vctk/avatar/VCTK/A010_avatar_02_YT_A010_cloned.mp4\n",
      "Processing: A017_avatar_01_CV_A017_BBP_cloned.mp4\n",
      "Avatar: A017_avatar_01.png\n",
      "Audio: CV_A017_BBP_cloned.wav\n"
     ]
    },
    {
     "name": "stderr",
     "output_type": "stream",
     "text": [
      "Processing all avatar tasks:   6%|▌         | 7/120 [07:21<1:56:15, 61.73s/it]"
     ]
    },
    {
     "name": "stdout",
     "output_type": "stream",
     "text": [
      "✓ Generated: /home/is/lathifgalih-k/research_naist/multimodal-clone/clone-video/edtalk-exp/EDTalk/results/test_raw/avatar/RAW/A017_avatar_01_CV_A017_BBP_cloned.mp4\n",
      "Processing: A017_avatar_01_XT_A017_BBP_cloned.mp4\n",
      "Avatar: A017_avatar_01.png\n",
      "Audio: XT_A017_BBP_cloned.wav\n"
     ]
    },
    {
     "name": "stderr",
     "output_type": "stream",
     "text": [
      "Processing all avatar tasks:   7%|▋         | 8/120 [08:39<2:04:50, 66.88s/it]"
     ]
    },
    {
     "name": "stdout",
     "output_type": "stream",
     "text": [
      "✓ Generated: /home/is/lathifgalih-k/research_naist/multimodal-clone/clone-video/edtalk-exp/EDTalk/results/test_raw/avatar/RAW/A017_avatar_01_XT_A017_BBP_cloned.mp4\n",
      "Processing: A017_avatar_01_YT_A017_BBP_cloned.mp4\n",
      "Avatar: A017_avatar_01.png\n",
      "Audio: YT_A017_BBP_cloned.wav\n"
     ]
    },
    {
     "name": "stderr",
     "output_type": "stream",
     "text": [
      "Processing all avatar tasks:   8%|▊         | 9/120 [09:33<1:56:17, 62.86s/it]"
     ]
    },
    {
     "name": "stdout",
     "output_type": "stream",
     "text": [
      "✓ Generated: /home/is/lathifgalih-k/research_naist/multimodal-clone/clone-video/edtalk-exp/EDTalk/results/test_raw/avatar/RAW/A017_avatar_01_YT_A017_BBP_cloned.mp4\n",
      "Processing: A017_avatar_01_CV_A017_cloned.mp4\n",
      "Avatar: A017_avatar_01.png\n",
      "Audio: CV_A017_VCTK_cloned.wav\n"
     ]
    },
    {
     "name": "stderr",
     "output_type": "stream",
     "text": [
      "Processing all avatar tasks:   8%|▊         | 10/120 [10:47<2:01:39, 66.36s/it]"
     ]
    },
    {
     "name": "stdout",
     "output_type": "stream",
     "text": [
      "✓ Generated: /home/is/lathifgalih-k/research_naist/multimodal-clone/clone-video/edtalk-exp/EDTalk/results/test_vctk/avatar/VCTK/A017_avatar_01_CV_A017_cloned.mp4\n",
      "Processing: A017_avatar_01_XT_A017_cloned.mp4\n",
      "Avatar: A017_avatar_01.png\n",
      "Audio: XT_A017_VCTK_cloned.wav\n"
     ]
    },
    {
     "name": "stderr",
     "output_type": "stream",
     "text": [
      "Processing all avatar tasks:   9%|▉         | 11/120 [11:52<1:59:52, 65.98s/it]"
     ]
    },
    {
     "name": "stdout",
     "output_type": "stream",
     "text": [
      "✓ Generated: /home/is/lathifgalih-k/research_naist/multimodal-clone/clone-video/edtalk-exp/EDTalk/results/test_vctk/avatar/VCTK/A017_avatar_01_XT_A017_cloned.mp4\n",
      "Processing: A017_avatar_01_YT_A017_cloned.mp4\n",
      "Avatar: A017_avatar_01.png\n",
      "Audio: YT_A017_VCTK_cloned.wav\n"
     ]
    },
    {
     "name": "stderr",
     "output_type": "stream",
     "text": [
      "Processing all avatar tasks:  10%|█         | 12/120 [12:44<1:51:18, 61.84s/it]"
     ]
    },
    {
     "name": "stdout",
     "output_type": "stream",
     "text": [
      "✓ Generated: /home/is/lathifgalih-k/research_naist/multimodal-clone/clone-video/edtalk-exp/EDTalk/results/test_vctk/avatar/VCTK/A017_avatar_01_YT_A017_cloned.mp4\n",
      "Processing: A014_avatar_01_CV_A014_BBP_cloned.mp4\n",
      "Avatar: A014_avatar_01.png\n",
      "Audio: CV_A014_BBP_cloned.wav\n"
     ]
    },
    {
     "name": "stderr",
     "output_type": "stream",
     "text": [
      "Processing all avatar tasks:  11%|█         | 13/120 [13:33<1:42:55, 57.72s/it]"
     ]
    },
    {
     "name": "stdout",
     "output_type": "stream",
     "text": [
      "✓ Generated: /home/is/lathifgalih-k/research_naist/multimodal-clone/clone-video/edtalk-exp/EDTalk/results/test_raw/avatar/RAW/A014_avatar_01_CV_A014_BBP_cloned.mp4\n",
      "Processing: A014_avatar_01_XT_A014_BBP_cloned.mp4\n",
      "Avatar: A014_avatar_01.png\n",
      "Audio: XT_A014_BBP_cloned.wav\n"
     ]
    },
    {
     "name": "stderr",
     "output_type": "stream",
     "text": [
      "Processing all avatar tasks:  12%|█▏        | 14/120 [14:38<1:46:06, 60.06s/it]"
     ]
    },
    {
     "name": "stdout",
     "output_type": "stream",
     "text": [
      "✓ Generated: /home/is/lathifgalih-k/research_naist/multimodal-clone/clone-video/edtalk-exp/EDTalk/results/test_raw/avatar/RAW/A014_avatar_01_XT_A014_BBP_cloned.mp4\n",
      "Processing: A014_avatar_01_YT_A014_BBP_cloned.mp4\n",
      "Avatar: A014_avatar_01.png\n",
      "Audio: YT_A014_BBP_cloned.wav\n"
     ]
    },
    {
     "name": "stderr",
     "output_type": "stream",
     "text": [
      "Processing all avatar tasks:  12%|█▎        | 15/120 [15:26<1:38:42, 56.40s/it]"
     ]
    },
    {
     "name": "stdout",
     "output_type": "stream",
     "text": [
      "✓ Generated: /home/is/lathifgalih-k/research_naist/multimodal-clone/clone-video/edtalk-exp/EDTalk/results/test_raw/avatar/RAW/A014_avatar_01_YT_A014_BBP_cloned.mp4\n",
      "Processing: A014_avatar_01_CV_A014_cloned.mp4\n",
      "Avatar: A014_avatar_01.png\n",
      "Audio: CV_A014_VCTK_cloned.wav\n"
     ]
    },
    {
     "name": "stderr",
     "output_type": "stream",
     "text": [
      "Processing all avatar tasks:  13%|█▎        | 16/120 [16:42<1:47:49, 62.21s/it]"
     ]
    },
    {
     "name": "stdout",
     "output_type": "stream",
     "text": [
      "✓ Generated: /home/is/lathifgalih-k/research_naist/multimodal-clone/clone-video/edtalk-exp/EDTalk/results/test_vctk/avatar/VCTK/A014_avatar_01_CV_A014_cloned.mp4\n",
      "Processing: A014_avatar_01_XT_A014_cloned.mp4\n",
      "Avatar: A014_avatar_01.png\n",
      "Audio: XT_A014_VCTK_cloned.wav\n"
     ]
    },
    {
     "name": "stderr",
     "output_type": "stream",
     "text": [
      "Processing all avatar tasks:  14%|█▍        | 17/120 [17:37<1:43:16, 60.16s/it]"
     ]
    },
    {
     "name": "stdout",
     "output_type": "stream",
     "text": [
      "✓ Generated: /home/is/lathifgalih-k/research_naist/multimodal-clone/clone-video/edtalk-exp/EDTalk/results/test_vctk/avatar/VCTK/A014_avatar_01_XT_A014_cloned.mp4\n",
      "Processing: A014_avatar_01_YT_A014_cloned.mp4\n",
      "Avatar: A014_avatar_01.png\n",
      "Audio: YT_A014_VCTK_cloned.wav\n"
     ]
    },
    {
     "name": "stderr",
     "output_type": "stream",
     "text": [
      "Processing all avatar tasks:  15%|█▌        | 18/120 [18:28<1:37:31, 57.37s/it]"
     ]
    },
    {
     "name": "stdout",
     "output_type": "stream",
     "text": [
      "✓ Generated: /home/is/lathifgalih-k/research_naist/multimodal-clone/clone-video/edtalk-exp/EDTalk/results/test_vctk/avatar/VCTK/A014_avatar_01_YT_A014_cloned.mp4\n",
      "Processing: A016_avatar_03_CV_A016_BBP_cloned.mp4\n",
      "Avatar: A016_avatar_03.png\n",
      "Audio: CV_A016_BBP_cloned.wav\n"
     ]
    },
    {
     "name": "stderr",
     "output_type": "stream",
     "text": [
      "Processing all avatar tasks:  16%|█▌        | 19/120 [19:51<1:49:20, 64.96s/it]"
     ]
    },
    {
     "name": "stdout",
     "output_type": "stream",
     "text": [
      "✓ Generated: /home/is/lathifgalih-k/research_naist/multimodal-clone/clone-video/edtalk-exp/EDTalk/results/test_raw/avatar/RAW/A016_avatar_03_CV_A016_BBP_cloned.mp4\n",
      "Processing: A016_avatar_03_XT_A016_BBP_cloned.mp4\n",
      "Avatar: A016_avatar_03.png\n",
      "Audio: XT_A016_BBP_cloned.wav\n"
     ]
    },
    {
     "name": "stderr",
     "output_type": "stream",
     "text": [
      "Processing all avatar tasks:  17%|█▋        | 20/120 [21:21<2:00:53, 72.53s/it]"
     ]
    },
    {
     "name": "stdout",
     "output_type": "stream",
     "text": [
      "✓ Generated: /home/is/lathifgalih-k/research_naist/multimodal-clone/clone-video/edtalk-exp/EDTalk/results/test_raw/avatar/RAW/A016_avatar_03_XT_A016_BBP_cloned.mp4\n",
      "Processing: A016_avatar_03_YT_A016_BBP_cloned.mp4\n",
      "Avatar: A016_avatar_03.png\n",
      "Audio: YT_A016_BBP_cloned.wav\n"
     ]
    },
    {
     "name": "stderr",
     "output_type": "stream",
     "text": [
      "Processing all avatar tasks:  18%|█▊        | 21/120 [22:43<2:04:23, 75.39s/it]"
     ]
    },
    {
     "name": "stdout",
     "output_type": "stream",
     "text": [
      "✓ Generated: /home/is/lathifgalih-k/research_naist/multimodal-clone/clone-video/edtalk-exp/EDTalk/results/test_raw/avatar/RAW/A016_avatar_03_YT_A016_BBP_cloned.mp4\n",
      "Processing: A016_avatar_03_CV_A016_cloned.mp4\n",
      "Avatar: A016_avatar_03.png\n",
      "Audio: CV_A016_VCTK_cloned.wav\n"
     ]
    },
    {
     "name": "stderr",
     "output_type": "stream",
     "text": [
      "Processing all avatar tasks:  18%|█▊        | 22/120 [24:18<2:12:59, 81.42s/it]"
     ]
    },
    {
     "name": "stdout",
     "output_type": "stream",
     "text": [
      "✓ Generated: /home/is/lathifgalih-k/research_naist/multimodal-clone/clone-video/edtalk-exp/EDTalk/results/test_vctk/avatar/VCTK/A016_avatar_03_CV_A016_cloned.mp4\n",
      "Processing: A016_avatar_03_XT_A016_cloned.mp4\n",
      "Avatar: A016_avatar_03.png\n",
      "Audio: XT_A016_VCTK_cloned.wav\n"
     ]
    },
    {
     "name": "stderr",
     "output_type": "stream",
     "text": [
      "Processing all avatar tasks:  19%|█▉        | 23/120 [25:34<2:08:50, 79.69s/it]"
     ]
    },
    {
     "name": "stdout",
     "output_type": "stream",
     "text": [
      "✓ Generated: /home/is/lathifgalih-k/research_naist/multimodal-clone/clone-video/edtalk-exp/EDTalk/results/test_vctk/avatar/VCTK/A016_avatar_03_XT_A016_cloned.mp4\n",
      "Processing: A016_avatar_03_YT_A016_cloned.mp4\n",
      "Avatar: A016_avatar_03.png\n",
      "Audio: YT_A016_VCTK_cloned.wav\n"
     ]
    },
    {
     "name": "stderr",
     "output_type": "stream",
     "text": [
      "Processing all avatar tasks:  20%|██        | 24/120 [27:00<2:10:46, 81.74s/it]"
     ]
    },
    {
     "name": "stdout",
     "output_type": "stream",
     "text": [
      "✓ Generated: /home/is/lathifgalih-k/research_naist/multimodal-clone/clone-video/edtalk-exp/EDTalk/results/test_vctk/avatar/VCTK/A016_avatar_03_YT_A016_cloned.mp4\n",
      "Processing: A002_avatar_03_CV_A002_BBP_cloned.mp4\n",
      "Avatar: A002_avatar_03.png\n",
      "Audio: CV_A002_BBP_cloned.wav\n"
     ]
    },
    {
     "name": "stderr",
     "output_type": "stream",
     "text": [
      "Processing all avatar tasks:  21%|██        | 25/120 [28:34<2:15:09, 85.36s/it]"
     ]
    },
    {
     "name": "stdout",
     "output_type": "stream",
     "text": [
      "✓ Generated: /home/is/lathifgalih-k/research_naist/multimodal-clone/clone-video/edtalk-exp/EDTalk/results/test_raw/avatar/RAW/A002_avatar_03_CV_A002_BBP_cloned.mp4\n",
      "Processing: A002_avatar_03_XT_A002_BBP_cloned.mp4\n",
      "Avatar: A002_avatar_03.png\n",
      "Audio: XT_A002_BBP_cloned.wav\n"
     ]
    },
    {
     "name": "stderr",
     "output_type": "stream",
     "text": [
      "Processing all avatar tasks:  22%|██▏       | 26/120 [30:06<2:16:41, 87.25s/it]"
     ]
    },
    {
     "name": "stdout",
     "output_type": "stream",
     "text": [
      "✓ Generated: /home/is/lathifgalih-k/research_naist/multimodal-clone/clone-video/edtalk-exp/EDTalk/results/test_raw/avatar/RAW/A002_avatar_03_XT_A002_BBP_cloned.mp4\n",
      "Processing: A002_avatar_03_YT_A002_BBP_cloned.mp4\n",
      "Avatar: A002_avatar_03.png\n",
      "Audio: YT_A002_BBP_cloned.wav\n"
     ]
    },
    {
     "name": "stderr",
     "output_type": "stream",
     "text": [
      "Processing all avatar tasks:  22%|██▎       | 27/120 [31:31<2:14:03, 86.49s/it]"
     ]
    },
    {
     "name": "stdout",
     "output_type": "stream",
     "text": [
      "✓ Generated: /home/is/lathifgalih-k/research_naist/multimodal-clone/clone-video/edtalk-exp/EDTalk/results/test_raw/avatar/RAW/A002_avatar_03_YT_A002_BBP_cloned.mp4\n",
      "Processing: A002_avatar_03_CV_A002_cloned.mp4\n",
      "Avatar: A002_avatar_03.png\n",
      "Audio: CV_A002_VCTK_cloned.wav\n"
     ]
    },
    {
     "name": "stderr",
     "output_type": "stream",
     "text": [
      "Processing all avatar tasks:  23%|██▎       | 28/120 [32:46<2:07:36, 83.22s/it]"
     ]
    },
    {
     "name": "stdout",
     "output_type": "stream",
     "text": [
      "✓ Generated: /home/is/lathifgalih-k/research_naist/multimodal-clone/clone-video/edtalk-exp/EDTalk/results/test_vctk/avatar/VCTK/A002_avatar_03_CV_A002_cloned.mp4\n",
      "Processing: A002_avatar_03_XT_A002_cloned.mp4\n",
      "Avatar: A002_avatar_03.png\n",
      "Audio: XT_A002_VCTK_cloned.wav\n"
     ]
    },
    {
     "name": "stderr",
     "output_type": "stream",
     "text": [
      "Processing all avatar tasks:  24%|██▍       | 29/120 [33:59<2:01:27, 80.08s/it]"
     ]
    },
    {
     "name": "stdout",
     "output_type": "stream",
     "text": [
      "✓ Generated: /home/is/lathifgalih-k/research_naist/multimodal-clone/clone-video/edtalk-exp/EDTalk/results/test_vctk/avatar/VCTK/A002_avatar_03_XT_A002_cloned.mp4\n",
      "Processing: A002_avatar_03_YT_A002_cloned.mp4\n",
      "Avatar: A002_avatar_03.png\n",
      "Audio: YT_A002_VCTK_cloned.wav\n"
     ]
    },
    {
     "name": "stderr",
     "output_type": "stream",
     "text": [
      "Processing all avatar tasks:  25%|██▌       | 30/120 [35:10<1:55:50, 77.23s/it]"
     ]
    },
    {
     "name": "stdout",
     "output_type": "stream",
     "text": [
      "✓ Generated: /home/is/lathifgalih-k/research_naist/multimodal-clone/clone-video/edtalk-exp/EDTalk/results/test_vctk/avatar/VCTK/A002_avatar_03_YT_A002_cloned.mp4\n",
      "Processing: A008_avatar_03_CV_A008_BBP_cloned.mp4\n",
      "Avatar: A008_avatar_03.png\n",
      "Audio: CV_A008_BBP_cloned.wav\n"
     ]
    },
    {
     "name": "stderr",
     "output_type": "stream",
     "text": [
      "Processing all avatar tasks:  26%|██▌       | 31/120 [36:40<2:00:27, 81.20s/it]"
     ]
    },
    {
     "name": "stdout",
     "output_type": "stream",
     "text": [
      "✓ Generated: /home/is/lathifgalih-k/research_naist/multimodal-clone/clone-video/edtalk-exp/EDTalk/results/test_raw/avatar/RAW/A008_avatar_03_CV_A008_BBP_cloned.mp4\n",
      "Processing: A008_avatar_03_XT_A008_BBP_cloned.mp4\n",
      "Avatar: A008_avatar_03.png\n",
      "Audio: XT_A008_BBP_cloned.wav\n"
     ]
    },
    {
     "name": "stderr",
     "output_type": "stream",
     "text": [
      "Processing all avatar tasks:  27%|██▋       | 32/120 [38:18<2:06:20, 86.15s/it]"
     ]
    },
    {
     "name": "stdout",
     "output_type": "stream",
     "text": [
      "✓ Generated: /home/is/lathifgalih-k/research_naist/multimodal-clone/clone-video/edtalk-exp/EDTalk/results/test_raw/avatar/RAW/A008_avatar_03_XT_A008_BBP_cloned.mp4\n",
      "Processing: A008_avatar_03_YT_A008_BBP_cloned.mp4\n",
      "Avatar: A008_avatar_03.png\n",
      "Audio: YT_A008_BBP_cloned.wav\n"
     ]
    },
    {
     "name": "stderr",
     "output_type": "stream",
     "text": [
      "Processing all avatar tasks:  28%|██▊       | 33/120 [39:42<2:04:06, 85.59s/it]"
     ]
    },
    {
     "name": "stdout",
     "output_type": "stream",
     "text": [
      "✓ Generated: /home/is/lathifgalih-k/research_naist/multimodal-clone/clone-video/edtalk-exp/EDTalk/results/test_raw/avatar/RAW/A008_avatar_03_YT_A008_BBP_cloned.mp4\n",
      "Processing: A008_avatar_03_CV_A008_cloned.mp4\n",
      "Avatar: A008_avatar_03.png\n",
      "Audio: CV_A008_VCTK_cloned.wav\n"
     ]
    },
    {
     "name": "stderr",
     "output_type": "stream",
     "text": [
      "Processing all avatar tasks:  28%|██▊       | 34/120 [41:07<2:02:19, 85.35s/it]"
     ]
    },
    {
     "name": "stdout",
     "output_type": "stream",
     "text": [
      "✓ Generated: /home/is/lathifgalih-k/research_naist/multimodal-clone/clone-video/edtalk-exp/EDTalk/results/test_vctk/avatar/VCTK/A008_avatar_03_CV_A008_cloned.mp4\n",
      "Processing: A008_avatar_03_XT_A008_cloned.mp4\n",
      "Avatar: A008_avatar_03.png\n",
      "Audio: XT_A008_VCTK_cloned.wav\n"
     ]
    },
    {
     "name": "stderr",
     "output_type": "stream",
     "text": [
      "Processing all avatar tasks:  29%|██▉       | 35/120 [42:28<1:59:20, 84.24s/it]"
     ]
    },
    {
     "name": "stdout",
     "output_type": "stream",
     "text": [
      "✓ Generated: /home/is/lathifgalih-k/research_naist/multimodal-clone/clone-video/edtalk-exp/EDTalk/results/test_vctk/avatar/VCTK/A008_avatar_03_XT_A008_cloned.mp4\n",
      "Processing: A008_avatar_03_YT_A008_cloned.mp4\n",
      "Avatar: A008_avatar_03.png\n",
      "Audio: YT_A008_VCTK_cloned.wav\n"
     ]
    },
    {
     "name": "stderr",
     "output_type": "stream",
     "text": [
      "Processing all avatar tasks:  30%|███       | 36/120 [43:38<1:51:47, 79.85s/it]"
     ]
    },
    {
     "name": "stdout",
     "output_type": "stream",
     "text": [
      "✓ Generated: /home/is/lathifgalih-k/research_naist/multimodal-clone/clone-video/edtalk-exp/EDTalk/results/test_vctk/avatar/VCTK/A008_avatar_03_YT_A008_cloned.mp4\n",
      "Processing: A011_avatar_03_CV_A011_BBP_cloned.mp4\n",
      "Avatar: A011_avatar_03.png\n",
      "Audio: CV_A011_BBP_cloned.wav\n"
     ]
    },
    {
     "name": "stderr",
     "output_type": "stream",
     "text": [
      "Processing all avatar tasks:  31%|███       | 37/120 [45:04<1:53:03, 81.73s/it]"
     ]
    },
    {
     "name": "stdout",
     "output_type": "stream",
     "text": [
      "✓ Generated: /home/is/lathifgalih-k/research_naist/multimodal-clone/clone-video/edtalk-exp/EDTalk/results/test_raw/avatar/RAW/A011_avatar_03_CV_A011_BBP_cloned.mp4\n",
      "Processing: A011_avatar_03_XT_A011_BBP_cloned.mp4\n",
      "Avatar: A011_avatar_03.png\n",
      "Audio: XT_A011_BBP_cloned.wav\n"
     ]
    },
    {
     "name": "stderr",
     "output_type": "stream",
     "text": [
      "Processing all avatar tasks:  32%|███▏      | 38/120 [46:29<1:53:00, 82.69s/it]"
     ]
    },
    {
     "name": "stdout",
     "output_type": "stream",
     "text": [
      "✓ Generated: /home/is/lathifgalih-k/research_naist/multimodal-clone/clone-video/edtalk-exp/EDTalk/results/test_raw/avatar/RAW/A011_avatar_03_XT_A011_BBP_cloned.mp4\n",
      "Processing: A011_avatar_03_YT_A011_BBP_cloned.mp4\n",
      "Avatar: A011_avatar_03.png\n",
      "Audio: YT_A011_BBP_cloned.wav\n"
     ]
    },
    {
     "name": "stderr",
     "output_type": "stream",
     "text": [
      "Processing all avatar tasks:  32%|███▎      | 39/120 [47:44<1:48:39, 80.48s/it]"
     ]
    },
    {
     "name": "stdout",
     "output_type": "stream",
     "text": [
      "✓ Generated: /home/is/lathifgalih-k/research_naist/multimodal-clone/clone-video/edtalk-exp/EDTalk/results/test_raw/avatar/RAW/A011_avatar_03_YT_A011_BBP_cloned.mp4\n",
      "Processing: A011_avatar_03_CV_A011_cloned.mp4\n",
      "Avatar: A011_avatar_03.png\n",
      "Audio: CV_A011_VCTK_cloned.wav\n"
     ]
    },
    {
     "name": "stderr",
     "output_type": "stream",
     "text": [
      "Processing all avatar tasks:  33%|███▎      | 40/120 [49:16<1:51:46, 83.83s/it]"
     ]
    },
    {
     "name": "stdout",
     "output_type": "stream",
     "text": [
      "✓ Generated: /home/is/lathifgalih-k/research_naist/multimodal-clone/clone-video/edtalk-exp/EDTalk/results/test_vctk/avatar/VCTK/A011_avatar_03_CV_A011_cloned.mp4\n",
      "Processing: A011_avatar_03_XT_A011_cloned.mp4\n",
      "Avatar: A011_avatar_03.png\n",
      "Audio: XT_A011_VCTK_cloned.wav\n"
     ]
    },
    {
     "name": "stderr",
     "output_type": "stream",
     "text": [
      "Processing all avatar tasks:  34%|███▍      | 41/120 [50:34<1:47:58, 82.01s/it]"
     ]
    },
    {
     "name": "stdout",
     "output_type": "stream",
     "text": [
      "✓ Generated: /home/is/lathifgalih-k/research_naist/multimodal-clone/clone-video/edtalk-exp/EDTalk/results/test_vctk/avatar/VCTK/A011_avatar_03_XT_A011_cloned.mp4\n",
      "Processing: A011_avatar_03_YT_A011_cloned.mp4\n",
      "Avatar: A011_avatar_03.png\n",
      "Audio: YT_A011_VCTK_cloned.wav\n"
     ]
    },
    {
     "name": "stderr",
     "output_type": "stream",
     "text": [
      "Processing all avatar tasks:  35%|███▌      | 42/120 [51:52<1:45:05, 80.84s/it]"
     ]
    },
    {
     "name": "stdout",
     "output_type": "stream",
     "text": [
      "✓ Generated: /home/is/lathifgalih-k/research_naist/multimodal-clone/clone-video/edtalk-exp/EDTalk/results/test_vctk/avatar/VCTK/A011_avatar_03_YT_A011_cloned.mp4\n",
      "Processing: A015_avatar_01_CV_A015_PATAKA_cloned.mp4\n",
      "Avatar: A015_avatar_01.png\n",
      "Audio: CV_A015_PATAKA_cloned.wav\n"
     ]
    },
    {
     "name": "stderr",
     "output_type": "stream",
     "text": [
      "Processing all avatar tasks:  36%|███▌      | 43/120 [52:58<1:37:54, 76.29s/it]"
     ]
    },
    {
     "name": "stdout",
     "output_type": "stream",
     "text": [
      "✓ Generated: /home/is/lathifgalih-k/research_naist/multimodal-clone/clone-video/edtalk-exp/EDTalk/results/test_raw/avatar/RAW/A015_avatar_01_CV_A015_PATAKA_cloned.mp4\n",
      "Processing: A015_avatar_01_XT_A015_PATAKA_cloned.mp4\n",
      "Avatar: A015_avatar_01.png\n",
      "Audio: XT_A015_PATAKA_cloned.wav\n"
     ]
    },
    {
     "name": "stderr",
     "output_type": "stream",
     "text": [
      "Processing all avatar tasks:  37%|███▋      | 44/120 [54:23<1:40:09, 79.08s/it]"
     ]
    },
    {
     "name": "stdout",
     "output_type": "stream",
     "text": [
      "✓ Generated: /home/is/lathifgalih-k/research_naist/multimodal-clone/clone-video/edtalk-exp/EDTalk/results/test_raw/avatar/RAW/A015_avatar_01_XT_A015_PATAKA_cloned.mp4\n",
      "Processing: A015_avatar_01_YT_A015_PATAKA_cloned.mp4\n",
      "Avatar: A015_avatar_01.png\n",
      "Audio: YT_A015_PATAKA_cloned.wav\n"
     ]
    },
    {
     "name": "stderr",
     "output_type": "stream",
     "text": [
      "Processing all avatar tasks:  38%|███▊      | 45/120 [55:20<1:30:40, 72.54s/it]"
     ]
    },
    {
     "name": "stdout",
     "output_type": "stream",
     "text": [
      "✓ Generated: /home/is/lathifgalih-k/research_naist/multimodal-clone/clone-video/edtalk-exp/EDTalk/results/test_raw/avatar/RAW/A015_avatar_01_YT_A015_PATAKA_cloned.mp4\n",
      "Processing: A015_avatar_01_CV_A015_cloned.mp4\n",
      "Avatar: A015_avatar_01.png\n",
      "Audio: CV_A015_VCTK_cloned.wav\n"
     ]
    },
    {
     "name": "stderr",
     "output_type": "stream",
     "text": [
      "Processing all avatar tasks:  38%|███▊      | 46/120 [57:05<1:41:12, 82.06s/it]"
     ]
    },
    {
     "name": "stdout",
     "output_type": "stream",
     "text": [
      "✓ Generated: /home/is/lathifgalih-k/research_naist/multimodal-clone/clone-video/edtalk-exp/EDTalk/results/test_vctk/avatar/VCTK/A015_avatar_01_CV_A015_cloned.mp4\n",
      "Processing: A015_avatar_01_XT_A015_cloned.mp4\n",
      "Avatar: A015_avatar_01.png\n",
      "Audio: XT_A015_VCTK_cloned.wav\n"
     ]
    },
    {
     "name": "stderr",
     "output_type": "stream",
     "text": [
      "Processing all avatar tasks:  39%|███▉      | 47/120 [58:29<1:40:44, 82.80s/it]"
     ]
    },
    {
     "name": "stdout",
     "output_type": "stream",
     "text": [
      "✓ Generated: /home/is/lathifgalih-k/research_naist/multimodal-clone/clone-video/edtalk-exp/EDTalk/results/test_vctk/avatar/VCTK/A015_avatar_01_XT_A015_cloned.mp4\n",
      "Processing: A015_avatar_01_YT_A015_cloned.mp4\n",
      "Avatar: A015_avatar_01.png\n",
      "Audio: YT_A015_VCTK_cloned.wav\n"
     ]
    },
    {
     "name": "stderr",
     "output_type": "stream",
     "text": [
      "Processing all avatar tasks:  40%|████      | 48/120 [59:52<1:39:29, 82.92s/it]"
     ]
    },
    {
     "name": "stdout",
     "output_type": "stream",
     "text": [
      "✓ Generated: /home/is/lathifgalih-k/research_naist/multimodal-clone/clone-video/edtalk-exp/EDTalk/results/test_vctk/avatar/VCTK/A015_avatar_01_YT_A015_cloned.mp4\n",
      "Processing: A006_avatar_01_CV_A006_BBP_cloned.mp4\n",
      "Avatar: A006_avatar_01.png\n",
      "Audio: CV_A006_BBP_cloned.wav\n"
     ]
    },
    {
     "name": "stderr",
     "output_type": "stream",
     "text": [
      "Processing all avatar tasks:  41%|████      | 49/120 [1:01:09<1:35:52, 81.02s/it]"
     ]
    },
    {
     "name": "stdout",
     "output_type": "stream",
     "text": [
      "✓ Generated: /home/is/lathifgalih-k/research_naist/multimodal-clone/clone-video/edtalk-exp/EDTalk/results/test_raw/avatar/RAW/A006_avatar_01_CV_A006_BBP_cloned.mp4\n",
      "Processing: A006_avatar_01_XT_A006_BBP_cloned.mp4\n",
      "Avatar: A006_avatar_01.png\n",
      "Audio: XT_A006_BBP_cloned.wav\n"
     ]
    },
    {
     "name": "stderr",
     "output_type": "stream",
     "text": [
      "Processing all avatar tasks:  42%|████▏     | 50/120 [1:02:36<1:36:26, 82.66s/it]"
     ]
    },
    {
     "name": "stdout",
     "output_type": "stream",
     "text": [
      "✓ Generated: /home/is/lathifgalih-k/research_naist/multimodal-clone/clone-video/edtalk-exp/EDTalk/results/test_raw/avatar/RAW/A006_avatar_01_XT_A006_BBP_cloned.mp4\n",
      "Processing: A006_avatar_01_YT_A006_BBP_cloned.mp4\n",
      "Avatar: A006_avatar_01.png\n",
      "Audio: YT_A006_BBP_cloned.wav\n"
     ]
    },
    {
     "name": "stderr",
     "output_type": "stream",
     "text": [
      "Processing all avatar tasks:  42%|████▎     | 51/120 [1:03:52<1:32:55, 80.80s/it]"
     ]
    },
    {
     "name": "stdout",
     "output_type": "stream",
     "text": [
      "✓ Generated: /home/is/lathifgalih-k/research_naist/multimodal-clone/clone-video/edtalk-exp/EDTalk/results/test_raw/avatar/RAW/A006_avatar_01_YT_A006_BBP_cloned.mp4\n",
      "Processing: A006_avatar_01_CV_A006_cloned.mp4\n",
      "Avatar: A006_avatar_01.png\n",
      "Audio: CV_A006_VCTK_cloned.wav\n"
     ]
    },
    {
     "name": "stderr",
     "output_type": "stream",
     "text": [
      "Processing all avatar tasks:  43%|████▎     | 52/120 [1:05:23<1:35:00, 83.83s/it]"
     ]
    },
    {
     "name": "stdout",
     "output_type": "stream",
     "text": [
      "✓ Generated: /home/is/lathifgalih-k/research_naist/multimodal-clone/clone-video/edtalk-exp/EDTalk/results/test_vctk/avatar/VCTK/A006_avatar_01_CV_A006_cloned.mp4\n",
      "Processing: A006_avatar_01_XT_A006_cloned.mp4\n",
      "Avatar: A006_avatar_01.png\n",
      "Audio: XT_A006_VCTK_cloned.wav\n"
     ]
    },
    {
     "name": "stderr",
     "output_type": "stream",
     "text": [
      "Processing all avatar tasks:  44%|████▍     | 53/120 [1:06:53<1:35:43, 85.72s/it]"
     ]
    },
    {
     "name": "stdout",
     "output_type": "stream",
     "text": [
      "✓ Generated: /home/is/lathifgalih-k/research_naist/multimodal-clone/clone-video/edtalk-exp/EDTalk/results/test_vctk/avatar/VCTK/A006_avatar_01_XT_A006_cloned.mp4\n",
      "Processing: A006_avatar_01_YT_A006_cloned.mp4\n",
      "Avatar: A006_avatar_01.png\n",
      "Audio: YT_A006_VCTK_cloned.wav\n"
     ]
    },
    {
     "name": "stderr",
     "output_type": "stream",
     "text": [
      "Processing all avatar tasks:  45%|████▌     | 54/120 [1:08:10<1:31:23, 83.08s/it]"
     ]
    },
    {
     "name": "stdout",
     "output_type": "stream",
     "text": [
      "✓ Generated: /home/is/lathifgalih-k/research_naist/multimodal-clone/clone-video/edtalk-exp/EDTalk/results/test_vctk/avatar/VCTK/A006_avatar_01_YT_A006_cloned.mp4\n",
      "Processing: S001_avatar_03_CV_S001_PA_cloned.mp4\n",
      "Avatar: S001_avatar_03.png\n",
      "Audio: CV_S001_PA_cloned.wav\n"
     ]
    },
    {
     "name": "stderr",
     "output_type": "stream",
     "text": [
      "Processing all avatar tasks:  46%|████▌     | 55/120 [1:10:20<1:45:08, 97.05s/it]"
     ]
    },
    {
     "name": "stdout",
     "output_type": "stream",
     "text": [
      "✓ Generated: /home/is/lathifgalih-k/research_naist/multimodal-clone/clone-video/edtalk-exp/EDTalk/results/test_raw/avatar/RAW/S001_avatar_03_CV_S001_PA_cloned.mp4\n",
      "Processing: S001_avatar_03_XT_S001_PA_cloned.mp4\n",
      "Avatar: S001_avatar_03.png\n",
      "Audio: XT_S001_PA_cloned.wav\n"
     ]
    },
    {
     "name": "stderr",
     "output_type": "stream",
     "text": [
      "Processing all avatar tasks:  47%|████▋     | 56/120 [1:12:21<1:51:26, 104.48s/it]"
     ]
    },
    {
     "name": "stdout",
     "output_type": "stream",
     "text": [
      "✓ Generated: /home/is/lathifgalih-k/research_naist/multimodal-clone/clone-video/edtalk-exp/EDTalk/results/test_raw/avatar/RAW/S001_avatar_03_XT_S001_PA_cloned.mp4\n",
      "Processing: S001_avatar_03_YT_S001_PA_cloned.mp4\n",
      "Avatar: S001_avatar_03.png\n",
      "Audio: YT_S001_PA_cloned.wav\n"
     ]
    },
    {
     "name": "stderr",
     "output_type": "stream",
     "text": [
      "Processing all avatar tasks:  48%|████▊     | 57/120 [1:13:46<1:43:22, 98.45s/it] "
     ]
    },
    {
     "name": "stdout",
     "output_type": "stream",
     "text": [
      "✓ Generated: /home/is/lathifgalih-k/research_naist/multimodal-clone/clone-video/edtalk-exp/EDTalk/results/test_raw/avatar/RAW/S001_avatar_03_YT_S001_PA_cloned.mp4\n",
      "Processing: S001_avatar_03_CV_S001_cloned.mp4\n",
      "Avatar: S001_avatar_03.png\n",
      "Audio: CV_S001_VCTK_cloned.wav\n"
     ]
    },
    {
     "name": "stderr",
     "output_type": "stream",
     "text": [
      "Processing all avatar tasks:  48%|████▊     | 58/120 [1:14:57<1:33:11, 90.19s/it]"
     ]
    },
    {
     "name": "stdout",
     "output_type": "stream",
     "text": [
      "✓ Generated: /home/is/lathifgalih-k/research_naist/multimodal-clone/clone-video/edtalk-exp/EDTalk/results/test_vctk/avatar/VCTK/S001_avatar_03_CV_S001_cloned.mp4\n",
      "Processing: S001_avatar_03_XT_S001_cloned.mp4\n",
      "Avatar: S001_avatar_03.png\n",
      "Audio: XT_S001_VCTK_cloned.wav\n"
     ]
    },
    {
     "name": "stderr",
     "output_type": "stream",
     "text": [
      "Processing all avatar tasks:  49%|████▉     | 59/120 [1:16:06<1:25:25, 84.03s/it]"
     ]
    },
    {
     "name": "stdout",
     "output_type": "stream",
     "text": [
      "✓ Generated: /home/is/lathifgalih-k/research_naist/multimodal-clone/clone-video/edtalk-exp/EDTalk/results/test_vctk/avatar/VCTK/S001_avatar_03_XT_S001_cloned.mp4\n",
      "Processing: S001_avatar_03_YT_S001_cloned.mp4\n",
      "Avatar: S001_avatar_03.png\n",
      "Audio: YT_S001_VCTK_cloned.wav\n"
     ]
    },
    {
     "name": "stderr",
     "output_type": "stream",
     "text": [
      "Processing all avatar tasks:  50%|█████     | 60/120 [1:17:16<1:19:33, 79.56s/it]"
     ]
    },
    {
     "name": "stdout",
     "output_type": "stream",
     "text": [
      "✓ Generated: /home/is/lathifgalih-k/research_naist/multimodal-clone/clone-video/edtalk-exp/EDTalk/results/test_vctk/avatar/VCTK/S001_avatar_03_YT_S001_cloned.mp4\n",
      "Processing: S012_avatar_00_CV_S012_BBP_cloned.mp4\n",
      "Avatar: S012_avatar_00.png\n",
      "Audio: CV_S012_BBP_cloned.wav\n"
     ]
    },
    {
     "name": "stderr",
     "output_type": "stream",
     "text": [
      "Processing all avatar tasks:  51%|█████     | 61/120 [1:18:46<1:21:32, 82.92s/it]"
     ]
    },
    {
     "name": "stdout",
     "output_type": "stream",
     "text": [
      "✓ Generated: /home/is/lathifgalih-k/research_naist/multimodal-clone/clone-video/edtalk-exp/EDTalk/results/test_raw/avatar/RAW/S012_avatar_00_CV_S012_BBP_cloned.mp4\n",
      "Processing: S012_avatar_00_XT_S012_BBP_cloned.mp4\n",
      "Avatar: S012_avatar_00.png\n",
      "Audio: XT_S012_BBP_cloned.wav\n"
     ]
    },
    {
     "name": "stderr",
     "output_type": "stream",
     "text": [
      "Processing all avatar tasks:  52%|█████▏    | 62/120 [1:20:20<1:23:22, 86.25s/it]"
     ]
    },
    {
     "name": "stdout",
     "output_type": "stream",
     "text": [
      "✓ Generated: /home/is/lathifgalih-k/research_naist/multimodal-clone/clone-video/edtalk-exp/EDTalk/results/test_raw/avatar/RAW/S012_avatar_00_XT_S012_BBP_cloned.mp4\n",
      "Processing: S012_avatar_00_YT_S012_BBP_cloned.mp4\n",
      "Avatar: S012_avatar_00.png\n",
      "Audio: YT_S012_BBP_cloned.wav\n"
     ]
    },
    {
     "name": "stderr",
     "output_type": "stream",
     "text": [
      "Processing all avatar tasks:  52%|█████▎    | 63/120 [1:21:40<1:20:08, 84.36s/it]"
     ]
    },
    {
     "name": "stdout",
     "output_type": "stream",
     "text": [
      "✓ Generated: /home/is/lathifgalih-k/research_naist/multimodal-clone/clone-video/edtalk-exp/EDTalk/results/test_raw/avatar/RAW/S012_avatar_00_YT_S012_BBP_cloned.mp4\n",
      "Processing: S012_avatar_00_CV_S012_cloned.mp4\n",
      "Avatar: S012_avatar_00.png\n",
      "Audio: CV_S012_VCTK_cloned.wav\n"
     ]
    },
    {
     "name": "stderr",
     "output_type": "stream",
     "text": [
      "Processing all avatar tasks:  53%|█████▎    | 64/120 [1:23:09<1:20:05, 85.81s/it]"
     ]
    },
    {
     "name": "stdout",
     "output_type": "stream",
     "text": [
      "✓ Generated: /home/is/lathifgalih-k/research_naist/multimodal-clone/clone-video/edtalk-exp/EDTalk/results/test_vctk/avatar/VCTK/S012_avatar_00_CV_S012_cloned.mp4\n",
      "Processing: S012_avatar_00_XT_S012_cloned.mp4\n",
      "Avatar: S012_avatar_00.png\n",
      "Audio: XT_S012_VCTK_cloned.wav\n"
     ]
    },
    {
     "name": "stderr",
     "output_type": "stream",
     "text": [
      "Processing all avatar tasks:  54%|█████▍    | 65/120 [1:24:32<1:17:41, 84.75s/it]"
     ]
    },
    {
     "name": "stdout",
     "output_type": "stream",
     "text": [
      "✓ Generated: /home/is/lathifgalih-k/research_naist/multimodal-clone/clone-video/edtalk-exp/EDTalk/results/test_vctk/avatar/VCTK/S012_avatar_00_XT_S012_cloned.mp4\n",
      "Processing: S012_avatar_00_YT_S012_cloned.mp4\n",
      "Avatar: S012_avatar_00.png\n",
      "Audio: YT_S012_VCTK_cloned.wav\n"
     ]
    },
    {
     "name": "stderr",
     "output_type": "stream",
     "text": [
      "Processing all avatar tasks:  55%|█████▌    | 66/120 [1:25:48<1:13:52, 82.08s/it]"
     ]
    },
    {
     "name": "stdout",
     "output_type": "stream",
     "text": [
      "✓ Generated: /home/is/lathifgalih-k/research_naist/multimodal-clone/clone-video/edtalk-exp/EDTalk/results/test_vctk/avatar/VCTK/S012_avatar_00_YT_S012_cloned.mp4\n",
      "Processing: S006_avatar_00_CV_S006_BBP_cloned.mp4\n",
      "Avatar: S006_avatar_00.png\n",
      "Audio: CV_S006_BBP_cloned.wav\n"
     ]
    },
    {
     "name": "stderr",
     "output_type": "stream",
     "text": [
      "Processing all avatar tasks:  56%|█████▌    | 67/120 [1:27:15<1:13:57, 83.73s/it]"
     ]
    },
    {
     "name": "stdout",
     "output_type": "stream",
     "text": [
      "✓ Generated: /home/is/lathifgalih-k/research_naist/multimodal-clone/clone-video/edtalk-exp/EDTalk/results/test_raw/avatar/RAW/S006_avatar_00_CV_S006_BBP_cloned.mp4\n",
      "Processing: S006_avatar_00_XT_S006_BBP_cloned.mp4\n",
      "Avatar: S006_avatar_00.png\n",
      "Audio: XT_S006_BBP_cloned.wav\n"
     ]
    },
    {
     "name": "stderr",
     "output_type": "stream",
     "text": [
      "Processing all avatar tasks:  57%|█████▋    | 68/120 [1:28:41<1:13:12, 84.46s/it]"
     ]
    },
    {
     "name": "stdout",
     "output_type": "stream",
     "text": [
      "✓ Generated: /home/is/lathifgalih-k/research_naist/multimodal-clone/clone-video/edtalk-exp/EDTalk/results/test_raw/avatar/RAW/S006_avatar_00_XT_S006_BBP_cloned.mp4\n",
      "Processing: S006_avatar_00_YT_S006_BBP_cloned.mp4\n",
      "Avatar: S006_avatar_00.png\n",
      "Audio: YT_S006_BBP_cloned.wav\n"
     ]
    },
    {
     "name": "stderr",
     "output_type": "stream",
     "text": [
      "Processing all avatar tasks:  57%|█████▊    | 69/120 [1:29:52<1:08:15, 80.31s/it]"
     ]
    },
    {
     "name": "stdout",
     "output_type": "stream",
     "text": [
      "✓ Generated: /home/is/lathifgalih-k/research_naist/multimodal-clone/clone-video/edtalk-exp/EDTalk/results/test_raw/avatar/RAW/S006_avatar_00_YT_S006_BBP_cloned.mp4\n",
      "Processing: S006_avatar_00_CV_S006_cloned.mp4\n",
      "Avatar: S006_avatar_00.png\n",
      "Audio: CV_S006_VCTK_cloned.wav\n"
     ]
    },
    {
     "name": "stderr",
     "output_type": "stream",
     "text": [
      "Processing all avatar tasks:  58%|█████▊    | 70/120 [1:31:10<1:06:24, 79.69s/it]"
     ]
    },
    {
     "name": "stdout",
     "output_type": "stream",
     "text": [
      "✓ Generated: /home/is/lathifgalih-k/research_naist/multimodal-clone/clone-video/edtalk-exp/EDTalk/results/test_vctk/avatar/VCTK/S006_avatar_00_CV_S006_cloned.mp4\n",
      "Processing: S006_avatar_00_XT_S006_cloned.mp4\n",
      "Avatar: S006_avatar_00.png\n",
      "Audio: XT_S006_VCTK_cloned.wav\n"
     ]
    },
    {
     "name": "stderr",
     "output_type": "stream",
     "text": [
      "Processing all avatar tasks:  59%|█████▉    | 71/120 [1:32:39<1:07:17, 82.41s/it]"
     ]
    },
    {
     "name": "stdout",
     "output_type": "stream",
     "text": [
      "✓ Generated: /home/is/lathifgalih-k/research_naist/multimodal-clone/clone-video/edtalk-exp/EDTalk/results/test_vctk/avatar/VCTK/S006_avatar_00_XT_S006_cloned.mp4\n",
      "Processing: S006_avatar_00_YT_S006_cloned.mp4\n",
      "Avatar: S006_avatar_00.png\n",
      "Audio: YT_S006_VCTK_cloned.wav\n"
     ]
    },
    {
     "name": "stderr",
     "output_type": "stream",
     "text": [
      "Processing all avatar tasks:  60%|██████    | 72/120 [1:33:52<1:03:46, 79.73s/it]"
     ]
    },
    {
     "name": "stdout",
     "output_type": "stream",
     "text": [
      "✓ Generated: /home/is/lathifgalih-k/research_naist/multimodal-clone/clone-video/edtalk-exp/EDTalk/results/test_vctk/avatar/VCTK/S006_avatar_00_YT_S006_cloned.mp4\n",
      "Processing: S008_avatar_03_CV_S008_BBP_cloned.mp4\n",
      "Avatar: S008_avatar_03.png\n",
      "Audio: CV_S008_BBP_cloned.wav\n"
     ]
    },
    {
     "name": "stderr",
     "output_type": "stream",
     "text": [
      "Processing all avatar tasks:  61%|██████    | 73/120 [1:35:41<1:09:11, 88.32s/it]"
     ]
    },
    {
     "name": "stdout",
     "output_type": "stream",
     "text": [
      "✓ Generated: /home/is/lathifgalih-k/research_naist/multimodal-clone/clone-video/edtalk-exp/EDTalk/results/test_raw/avatar/RAW/S008_avatar_03_CV_S008_BBP_cloned.mp4\n",
      "Processing: S008_avatar_03_XT_S008_BBP_cloned.mp4\n",
      "Avatar: S008_avatar_03.png\n",
      "Audio: XT_S008_BBP_cloned.wav\n"
     ]
    },
    {
     "name": "stderr",
     "output_type": "stream",
     "text": [
      "Processing all avatar tasks:  62%|██████▏   | 74/120 [1:37:08<1:07:23, 87.91s/it]"
     ]
    },
    {
     "name": "stdout",
     "output_type": "stream",
     "text": [
      "✓ Generated: /home/is/lathifgalih-k/research_naist/multimodal-clone/clone-video/edtalk-exp/EDTalk/results/test_raw/avatar/RAW/S008_avatar_03_XT_S008_BBP_cloned.mp4\n",
      "Processing: S008_avatar_03_YT_S008_BBP_cloned.mp4\n",
      "Avatar: S008_avatar_03.png\n",
      "Audio: YT_S008_BBP_cloned.wav\n"
     ]
    },
    {
     "name": "stderr",
     "output_type": "stream",
     "text": [
      "Processing all avatar tasks:  62%|██████▎   | 75/120 [1:38:30<1:04:40, 86.23s/it]"
     ]
    },
    {
     "name": "stdout",
     "output_type": "stream",
     "text": [
      "✓ Generated: /home/is/lathifgalih-k/research_naist/multimodal-clone/clone-video/edtalk-exp/EDTalk/results/test_raw/avatar/RAW/S008_avatar_03_YT_S008_BBP_cloned.mp4\n",
      "Processing: S008_avatar_03_CV_S008_cloned.mp4\n",
      "Avatar: S008_avatar_03.png\n",
      "Audio: CV_S008_VCTK_cloned.wav\n"
     ]
    },
    {
     "name": "stderr",
     "output_type": "stream",
     "text": [
      "Processing all avatar tasks:  63%|██████▎   | 76/120 [1:39:40<59:37, 81.32s/it]  "
     ]
    },
    {
     "name": "stdout",
     "output_type": "stream",
     "text": [
      "✓ Generated: /home/is/lathifgalih-k/research_naist/multimodal-clone/clone-video/edtalk-exp/EDTalk/results/test_vctk/avatar/VCTK/S008_avatar_03_CV_S008_cloned.mp4\n",
      "Processing: S008_avatar_03_XT_S008_cloned.mp4\n",
      "Avatar: S008_avatar_03.png\n",
      "Audio: XT_S008_VCTK_cloned.wav\n"
     ]
    },
    {
     "name": "stderr",
     "output_type": "stream",
     "text": [
      "Processing all avatar tasks:  64%|██████▍   | 77/120 [1:41:14<1:00:59, 85.10s/it]"
     ]
    },
    {
     "name": "stdout",
     "output_type": "stream",
     "text": [
      "✓ Generated: /home/is/lathifgalih-k/research_naist/multimodal-clone/clone-video/edtalk-exp/EDTalk/results/test_vctk/avatar/VCTK/S008_avatar_03_XT_S008_cloned.mp4\n",
      "Processing: S008_avatar_03_YT_S008_cloned.mp4\n",
      "Avatar: S008_avatar_03.png\n",
      "Audio: YT_S008_VCTK_cloned.wav\n"
     ]
    },
    {
     "name": "stderr",
     "output_type": "stream",
     "text": [
      "Processing all avatar tasks:  65%|██████▌   | 78/120 [1:42:21<55:42, 79.59s/it]  "
     ]
    },
    {
     "name": "stdout",
     "output_type": "stream",
     "text": [
      "✓ Generated: /home/is/lathifgalih-k/research_naist/multimodal-clone/clone-video/edtalk-exp/EDTalk/results/test_vctk/avatar/VCTK/S008_avatar_03_YT_S008_cloned.mp4\n",
      "Processing: S002_avatar_03_CV_S002_PA_cloned.mp4\n",
      "Avatar: S002_avatar_03.png\n",
      "Audio: CV_S002_PA_cloned.wav\n"
     ]
    },
    {
     "name": "stderr",
     "output_type": "stream",
     "text": [
      "Processing all avatar tasks:  66%|██████▌   | 79/120 [1:43:55<57:22, 83.97s/it]"
     ]
    },
    {
     "name": "stdout",
     "output_type": "stream",
     "text": [
      "✓ Generated: /home/is/lathifgalih-k/research_naist/multimodal-clone/clone-video/edtalk-exp/EDTalk/results/test_raw/avatar/RAW/S002_avatar_03_CV_S002_PA_cloned.mp4\n",
      "Processing: S002_avatar_03_XT_S002_PA_cloned.mp4\n",
      "Avatar: S002_avatar_03.png\n",
      "Audio: XT_S002_PA_cloned.wav\n"
     ]
    },
    {
     "name": "stderr",
     "output_type": "stream",
     "text": [
      "Processing all avatar tasks:  67%|██████▋   | 80/120 [1:45:37<59:33, 89.34s/it]"
     ]
    },
    {
     "name": "stdout",
     "output_type": "stream",
     "text": [
      "✓ Generated: /home/is/lathifgalih-k/research_naist/multimodal-clone/clone-video/edtalk-exp/EDTalk/results/test_raw/avatar/RAW/S002_avatar_03_XT_S002_PA_cloned.mp4\n",
      "Processing: S002_avatar_03_YT_S002_PA_cloned.mp4\n",
      "Avatar: S002_avatar_03.png\n",
      "Audio: YT_S002_PA_cloned.wav\n"
     ]
    },
    {
     "name": "stderr",
     "output_type": "stream",
     "text": [
      "Processing all avatar tasks:  68%|██████▊   | 81/120 [1:46:39<52:43, 81.12s/it]"
     ]
    },
    {
     "name": "stdout",
     "output_type": "stream",
     "text": [
      "✓ Generated: /home/is/lathifgalih-k/research_naist/multimodal-clone/clone-video/edtalk-exp/EDTalk/results/test_raw/avatar/RAW/S002_avatar_03_YT_S002_PA_cloned.mp4\n",
      "Processing: S002_avatar_03_CV_S002_cloned.mp4\n",
      "Avatar: S002_avatar_03.png\n",
      "Audio: CV_S002_VCTK_cloned.wav\n"
     ]
    },
    {
     "name": "stderr",
     "output_type": "stream",
     "text": [
      "Processing all avatar tasks:  68%|██████▊   | 82/120 [1:48:00<51:29, 81.29s/it]"
     ]
    },
    {
     "name": "stdout",
     "output_type": "stream",
     "text": [
      "✓ Generated: /home/is/lathifgalih-k/research_naist/multimodal-clone/clone-video/edtalk-exp/EDTalk/results/test_vctk/avatar/VCTK/S002_avatar_03_CV_S002_cloned.mp4\n",
      "Processing: S002_avatar_03_XT_S002_cloned.mp4\n",
      "Avatar: S002_avatar_03.png\n",
      "Audio: XT_S002_VCTK_cloned.wav\n"
     ]
    },
    {
     "name": "stderr",
     "output_type": "stream",
     "text": [
      "Processing all avatar tasks:  69%|██████▉   | 83/120 [1:49:39<53:27, 86.68s/it]"
     ]
    },
    {
     "name": "stdout",
     "output_type": "stream",
     "text": [
      "✓ Generated: /home/is/lathifgalih-k/research_naist/multimodal-clone/clone-video/edtalk-exp/EDTalk/results/test_vctk/avatar/VCTK/S002_avatar_03_XT_S002_cloned.mp4\n",
      "Processing: S002_avatar_03_YT_S002_cloned.mp4\n",
      "Avatar: S002_avatar_03.png\n",
      "Audio: YT_S002_VCTK_cloned.wav\n"
     ]
    },
    {
     "name": "stderr",
     "output_type": "stream",
     "text": [
      "Processing all avatar tasks:  70%|███████   | 84/120 [1:50:47<48:29, 80.82s/it]"
     ]
    },
    {
     "name": "stdout",
     "output_type": "stream",
     "text": [
      "✓ Generated: /home/is/lathifgalih-k/research_naist/multimodal-clone/clone-video/edtalk-exp/EDTalk/results/test_vctk/avatar/VCTK/S002_avatar_03_YT_S002_cloned.mp4\n",
      "Processing: S011_avatar_00_CV_S011_BBP_cloned.mp4\n",
      "Avatar: S011_avatar_00.png\n",
      "Audio: CV_S011_BBP_cloned.wav\n"
     ]
    },
    {
     "name": "stderr",
     "output_type": "stream",
     "text": [
      "Processing all avatar tasks:  71%|███████   | 85/120 [1:52:17<48:49, 83.69s/it]"
     ]
    },
    {
     "name": "stdout",
     "output_type": "stream",
     "text": [
      "✓ Generated: /home/is/lathifgalih-k/research_naist/multimodal-clone/clone-video/edtalk-exp/EDTalk/results/test_raw/avatar/RAW/S011_avatar_00_CV_S011_BBP_cloned.mp4\n",
      "Processing: S011_avatar_00_XT_S011_BBP_cloned.mp4\n",
      "Avatar: S011_avatar_00.png\n",
      "Audio: XT_S011_BBP_cloned.wav\n"
     ]
    },
    {
     "name": "stderr",
     "output_type": "stream",
     "text": [
      "Processing all avatar tasks:  72%|███████▏  | 86/120 [1:54:00<50:44, 89.55s/it]"
     ]
    },
    {
     "name": "stdout",
     "output_type": "stream",
     "text": [
      "✓ Generated: /home/is/lathifgalih-k/research_naist/multimodal-clone/clone-video/edtalk-exp/EDTalk/results/test_raw/avatar/RAW/S011_avatar_00_XT_S011_BBP_cloned.mp4\n",
      "Processing: S011_avatar_00_YT_S011_BBP_cloned.mp4\n",
      "Avatar: S011_avatar_00.png\n",
      "Audio: YT_S011_BBP_cloned.wav\n"
     ]
    },
    {
     "name": "stderr",
     "output_type": "stream",
     "text": [
      "Processing all avatar tasks:  72%|███████▎  | 87/120 [1:55:25<48:27, 88.10s/it]"
     ]
    },
    {
     "name": "stdout",
     "output_type": "stream",
     "text": [
      "✓ Generated: /home/is/lathifgalih-k/research_naist/multimodal-clone/clone-video/edtalk-exp/EDTalk/results/test_raw/avatar/RAW/S011_avatar_00_YT_S011_BBP_cloned.mp4\n",
      "Processing: S011_avatar_00_CV_S011_cloned.mp4\n",
      "Avatar: S011_avatar_00.png\n",
      "Audio: CV_S011_VCTK_cloned.wav\n"
     ]
    },
    {
     "name": "stderr",
     "output_type": "stream",
     "text": [
      "Processing all avatar tasks:  73%|███████▎  | 88/120 [1:56:35<44:06, 82.72s/it]"
     ]
    },
    {
     "name": "stdout",
     "output_type": "stream",
     "text": [
      "✓ Generated: /home/is/lathifgalih-k/research_naist/multimodal-clone/clone-video/edtalk-exp/EDTalk/results/test_vctk/avatar/VCTK/S011_avatar_00_CV_S011_cloned.mp4\n",
      "Processing: S011_avatar_00_XT_S011_cloned.mp4\n",
      "Avatar: S011_avatar_00.png\n",
      "Audio: XT_S011_VCTK_cloned.wav\n"
     ]
    },
    {
     "name": "stderr",
     "output_type": "stream",
     "text": [
      "Processing all avatar tasks:  74%|███████▍  | 89/120 [1:57:49<41:20, 80.03s/it]"
     ]
    },
    {
     "name": "stdout",
     "output_type": "stream",
     "text": [
      "✓ Generated: /home/is/lathifgalih-k/research_naist/multimodal-clone/clone-video/edtalk-exp/EDTalk/results/test_vctk/avatar/VCTK/S011_avatar_00_XT_S011_cloned.mp4\n",
      "Processing: S011_avatar_00_YT_S011_cloned.mp4\n",
      "Avatar: S011_avatar_00.png\n",
      "Audio: YT_S011_VCTK_cloned.wav\n"
     ]
    },
    {
     "name": "stderr",
     "output_type": "stream",
     "text": [
      "Processing all avatar tasks:  75%|███████▌  | 90/120 [1:59:01<38:50, 77.68s/it]"
     ]
    },
    {
     "name": "stdout",
     "output_type": "stream",
     "text": [
      "✓ Generated: /home/is/lathifgalih-k/research_naist/multimodal-clone/clone-video/edtalk-exp/EDTalk/results/test_vctk/avatar/VCTK/S011_avatar_00_YT_S011_cloned.mp4\n",
      "Processing: S005_avatar_00_CV_S005_BBP_cloned.mp4\n",
      "Avatar: S005_avatar_00.png\n",
      "Audio: CV_S005_BBP_cloned.wav\n"
     ]
    },
    {
     "name": "stderr",
     "output_type": "stream",
     "text": [
      "Processing all avatar tasks:  76%|███████▌  | 91/120 [2:00:21<37:55, 78.46s/it]"
     ]
    },
    {
     "name": "stdout",
     "output_type": "stream",
     "text": [
      "✓ Generated: /home/is/lathifgalih-k/research_naist/multimodal-clone/clone-video/edtalk-exp/EDTalk/results/test_raw/avatar/RAW/S005_avatar_00_CV_S005_BBP_cloned.mp4\n",
      "Processing: S005_avatar_00_XT_S005_BBP_cloned.mp4\n",
      "Avatar: S005_avatar_00.png\n",
      "Audio: XT_S005_BBP_cloned.wav\n"
     ]
    },
    {
     "name": "stderr",
     "output_type": "stream",
     "text": [
      "Processing all avatar tasks:  77%|███████▋  | 92/120 [2:01:49<37:57, 81.35s/it]"
     ]
    },
    {
     "name": "stdout",
     "output_type": "stream",
     "text": [
      "✓ Generated: /home/is/lathifgalih-k/research_naist/multimodal-clone/clone-video/edtalk-exp/EDTalk/results/test_raw/avatar/RAW/S005_avatar_00_XT_S005_BBP_cloned.mp4\n",
      "Processing: S005_avatar_00_YT_S005_BBP_cloned.mp4\n",
      "Avatar: S005_avatar_00.png\n",
      "Audio: YT_S005_BBP_cloned.wav\n"
     ]
    },
    {
     "name": "stderr",
     "output_type": "stream",
     "text": [
      "Processing all avatar tasks:  78%|███████▊  | 93/120 [2:03:15<37:12, 82.67s/it]"
     ]
    },
    {
     "name": "stdout",
     "output_type": "stream",
     "text": [
      "✓ Generated: /home/is/lathifgalih-k/research_naist/multimodal-clone/clone-video/edtalk-exp/EDTalk/results/test_raw/avatar/RAW/S005_avatar_00_YT_S005_BBP_cloned.mp4\n",
      "Processing: S005_avatar_00_CV_S005_cloned.mp4\n",
      "Avatar: S005_avatar_00.png\n",
      "Audio: CV_S005_VCTK_cloned.wav\n"
     ]
    },
    {
     "name": "stderr",
     "output_type": "stream",
     "text": [
      "Processing all avatar tasks:  78%|███████▊  | 94/120 [2:04:38<35:54, 82.85s/it]"
     ]
    },
    {
     "name": "stdout",
     "output_type": "stream",
     "text": [
      "✓ Generated: /home/is/lathifgalih-k/research_naist/multimodal-clone/clone-video/edtalk-exp/EDTalk/results/test_vctk/avatar/VCTK/S005_avatar_00_CV_S005_cloned.mp4\n",
      "Processing: S005_avatar_00_XT_S005_cloned.mp4\n",
      "Avatar: S005_avatar_00.png\n",
      "Audio: XT_S005_VCTK_cloned.wav\n"
     ]
    },
    {
     "name": "stderr",
     "output_type": "stream",
     "text": [
      "Processing all avatar tasks:  79%|███████▉  | 95/120 [2:06:01<34:30, 82.81s/it]"
     ]
    },
    {
     "name": "stdout",
     "output_type": "stream",
     "text": [
      "✓ Generated: /home/is/lathifgalih-k/research_naist/multimodal-clone/clone-video/edtalk-exp/EDTalk/results/test_vctk/avatar/VCTK/S005_avatar_00_XT_S005_cloned.mp4\n",
      "Processing: S005_avatar_00_YT_S005_cloned.mp4\n",
      "Avatar: S005_avatar_00.png\n",
      "Audio: YT_S005_VCTK_cloned.wav\n"
     ]
    },
    {
     "name": "stderr",
     "output_type": "stream",
     "text": [
      "Processing all avatar tasks:  80%|████████  | 96/120 [2:07:15<31:59, 79.97s/it]"
     ]
    },
    {
     "name": "stdout",
     "output_type": "stream",
     "text": [
      "✓ Generated: /home/is/lathifgalih-k/research_naist/multimodal-clone/clone-video/edtalk-exp/EDTalk/results/test_vctk/avatar/VCTK/S005_avatar_00_YT_S005_cloned.mp4\n",
      "Processing: S007_avatar_01_CV_S007_BBP_cloned.mp4\n",
      "Avatar: S007_avatar_01.png\n",
      "Audio: CV_S007_BBP_cloned.wav\n"
     ]
    },
    {
     "name": "stderr",
     "output_type": "stream",
     "text": [
      "Processing all avatar tasks:  81%|████████  | 97/120 [2:08:35<30:43, 80.17s/it]"
     ]
    },
    {
     "name": "stdout",
     "output_type": "stream",
     "text": [
      "✓ Generated: /home/is/lathifgalih-k/research_naist/multimodal-clone/clone-video/edtalk-exp/EDTalk/results/test_raw/avatar/RAW/S007_avatar_01_CV_S007_BBP_cloned.mp4\n",
      "Processing: S007_avatar_01_XT_S007_BBP_cloned.mp4\n",
      "Avatar: S007_avatar_01.png\n",
      "Audio: XT_S007_BBP_cloned.wav\n"
     ]
    },
    {
     "name": "stderr",
     "output_type": "stream",
     "text": [
      "Processing all avatar tasks:  82%|████████▏ | 98/120 [2:10:05<30:28, 83.11s/it]"
     ]
    },
    {
     "name": "stdout",
     "output_type": "stream",
     "text": [
      "✓ Generated: /home/is/lathifgalih-k/research_naist/multimodal-clone/clone-video/edtalk-exp/EDTalk/results/test_raw/avatar/RAW/S007_avatar_01_XT_S007_BBP_cloned.mp4\n",
      "Processing: S007_avatar_01_YT_S007_BBP_cloned.mp4\n",
      "Avatar: S007_avatar_01.png\n",
      "Audio: YT_S007_BBP_cloned.wav\n"
     ]
    },
    {
     "name": "stderr",
     "output_type": "stream",
     "text": [
      "Processing all avatar tasks:  82%|████████▎ | 99/120 [2:11:23<28:34, 81.64s/it]"
     ]
    },
    {
     "name": "stdout",
     "output_type": "stream",
     "text": [
      "✓ Generated: /home/is/lathifgalih-k/research_naist/multimodal-clone/clone-video/edtalk-exp/EDTalk/results/test_raw/avatar/RAW/S007_avatar_01_YT_S007_BBP_cloned.mp4\n",
      "Processing: S007_avatar_01_CV_S007_cloned.mp4\n",
      "Avatar: S007_avatar_01.png\n",
      "Audio: CV_S007_VCTK_cloned.wav\n"
     ]
    },
    {
     "name": "stderr",
     "output_type": "stream",
     "text": [
      "Processing all avatar tasks:  83%|████████▎ | 100/120 [2:12:44<27:05, 81.26s/it]"
     ]
    },
    {
     "name": "stdout",
     "output_type": "stream",
     "text": [
      "✓ Generated: /home/is/lathifgalih-k/research_naist/multimodal-clone/clone-video/edtalk-exp/EDTalk/results/test_vctk/avatar/VCTK/S007_avatar_01_CV_S007_cloned.mp4\n",
      "Processing: S007_avatar_01_XT_S007_cloned.mp4\n",
      "Avatar: S007_avatar_01.png\n",
      "Audio: XT_S007_VCTK_cloned.wav\n"
     ]
    },
    {
     "name": "stderr",
     "output_type": "stream",
     "text": [
      "Processing all avatar tasks:  84%|████████▍ | 101/120 [2:14:08<25:58, 82.04s/it]"
     ]
    },
    {
     "name": "stdout",
     "output_type": "stream",
     "text": [
      "✓ Generated: /home/is/lathifgalih-k/research_naist/multimodal-clone/clone-video/edtalk-exp/EDTalk/results/test_vctk/avatar/VCTK/S007_avatar_01_XT_S007_cloned.mp4\n",
      "Processing: S007_avatar_01_YT_S007_cloned.mp4\n",
      "Avatar: S007_avatar_01.png\n",
      "Audio: YT_S007_VCTK_cloned.wav\n"
     ]
    },
    {
     "name": "stderr",
     "output_type": "stream",
     "text": [
      "Processing all avatar tasks:  85%|████████▌ | 102/120 [2:15:35<25:04, 83.59s/it]"
     ]
    },
    {
     "name": "stdout",
     "output_type": "stream",
     "text": [
      "✓ Generated: /home/is/lathifgalih-k/research_naist/multimodal-clone/clone-video/edtalk-exp/EDTalk/results/test_vctk/avatar/VCTK/S007_avatar_01_YT_S007_cloned.mp4\n",
      "Processing: S013_avatar_00_CV_S013_BBP_cloned.mp4\n",
      "Avatar: S013_avatar_00.png\n",
      "Audio: CV_S013_BBP_cloned.wav\n"
     ]
    },
    {
     "name": "stderr",
     "output_type": "stream",
     "text": [
      "Processing all avatar tasks:  86%|████████▌ | 103/120 [2:16:49<22:54, 80.84s/it]"
     ]
    },
    {
     "name": "stdout",
     "output_type": "stream",
     "text": [
      "✓ Generated: /home/is/lathifgalih-k/research_naist/multimodal-clone/clone-video/edtalk-exp/EDTalk/results/test_raw/avatar/RAW/S013_avatar_00_CV_S013_BBP_cloned.mp4\n",
      "Processing: S013_avatar_00_XT_S013_BBP_cloned.mp4\n",
      "Avatar: S013_avatar_00.png\n",
      "Audio: XT_S013_BBP_cloned.wav\n"
     ]
    },
    {
     "name": "stderr",
     "output_type": "stream",
     "text": [
      "Processing all avatar tasks:  87%|████████▋ | 104/120 [2:18:29<23:06, 86.63s/it]"
     ]
    },
    {
     "name": "stdout",
     "output_type": "stream",
     "text": [
      "✓ Generated: /home/is/lathifgalih-k/research_naist/multimodal-clone/clone-video/edtalk-exp/EDTalk/results/test_raw/avatar/RAW/S013_avatar_00_XT_S013_BBP_cloned.mp4\n",
      "Processing: S013_avatar_00_YT_S013_BBP_cloned.mp4\n",
      "Avatar: S013_avatar_00.png\n",
      "Audio: YT_S013_BBP_cloned.wav\n"
     ]
    },
    {
     "name": "stderr",
     "output_type": "stream",
     "text": [
      "Processing all avatar tasks:  88%|████████▊ | 105/120 [2:19:43<20:40, 82.71s/it]"
     ]
    },
    {
     "name": "stdout",
     "output_type": "stream",
     "text": [
      "✓ Generated: /home/is/lathifgalih-k/research_naist/multimodal-clone/clone-video/edtalk-exp/EDTalk/results/test_raw/avatar/RAW/S013_avatar_00_YT_S013_BBP_cloned.mp4\n",
      "Processing: S013_avatar_00_CV_S013_cloned.mp4\n",
      "Avatar: S013_avatar_00.png\n",
      "Audio: CV_S013_VCTK_cloned.wav\n"
     ]
    },
    {
     "name": "stderr",
     "output_type": "stream",
     "text": [
      "Processing all avatar tasks:  88%|████████▊ | 106/120 [2:21:02<19:02, 81.61s/it]"
     ]
    },
    {
     "name": "stdout",
     "output_type": "stream",
     "text": [
      "✓ Generated: /home/is/lathifgalih-k/research_naist/multimodal-clone/clone-video/edtalk-exp/EDTalk/results/test_vctk/avatar/VCTK/S013_avatar_00_CV_S013_cloned.mp4\n",
      "Processing: S013_avatar_00_XT_S013_cloned.mp4\n",
      "Avatar: S013_avatar_00.png\n",
      "Audio: XT_S013_VCTK_cloned.wav\n"
     ]
    },
    {
     "name": "stderr",
     "output_type": "stream",
     "text": [
      "Processing all avatar tasks:  89%|████████▉ | 107/120 [2:22:14<17:04, 78.82s/it]"
     ]
    },
    {
     "name": "stdout",
     "output_type": "stream",
     "text": [
      "✓ Generated: /home/is/lathifgalih-k/research_naist/multimodal-clone/clone-video/edtalk-exp/EDTalk/results/test_vctk/avatar/VCTK/S013_avatar_00_XT_S013_cloned.mp4\n",
      "Processing: S013_avatar_00_YT_S013_cloned.mp4\n",
      "Avatar: S013_avatar_00.png\n",
      "Audio: YT_S013_VCTK_cloned.wav\n"
     ]
    },
    {
     "name": "stderr",
     "output_type": "stream",
     "text": [
      "Processing all avatar tasks:  90%|█████████ | 108/120 [2:23:32<15:40, 78.37s/it]"
     ]
    },
    {
     "name": "stdout",
     "output_type": "stream",
     "text": [
      "✓ Generated: /home/is/lathifgalih-k/research_naist/multimodal-clone/clone-video/edtalk-exp/EDTalk/results/test_vctk/avatar/VCTK/S013_avatar_00_YT_S013_cloned.mp4\n",
      "Processing: S003_avatar_03_CV_S003_BBP_cloned.mp4\n",
      "Avatar: S003_avatar_03.png\n",
      "Audio: CV_S003_BBP_cloned.wav\n"
     ]
    },
    {
     "name": "stderr",
     "output_type": "stream",
     "text": [
      "Processing all avatar tasks:  91%|█████████ | 109/120 [2:24:52<14:29, 79.03s/it]"
     ]
    },
    {
     "name": "stdout",
     "output_type": "stream",
     "text": [
      "✓ Generated: /home/is/lathifgalih-k/research_naist/multimodal-clone/clone-video/edtalk-exp/EDTalk/results/test_raw/avatar/RAW/S003_avatar_03_CV_S003_BBP_cloned.mp4\n",
      "Processing: S003_avatar_03_XT_S003_BBP_cloned.mp4\n",
      "Avatar: S003_avatar_03.png\n",
      "Audio: XT_S003_BBP_cloned.wav\n"
     ]
    },
    {
     "name": "stderr",
     "output_type": "stream",
     "text": [
      "Processing all avatar tasks:  92%|█████████▏| 110/120 [2:26:39<14:32, 87.25s/it]"
     ]
    },
    {
     "name": "stdout",
     "output_type": "stream",
     "text": [
      "✓ Generated: /home/is/lathifgalih-k/research_naist/multimodal-clone/clone-video/edtalk-exp/EDTalk/results/test_raw/avatar/RAW/S003_avatar_03_XT_S003_BBP_cloned.mp4\n",
      "Processing: S003_avatar_03_YT_S003_BBP_cloned.mp4\n",
      "Avatar: S003_avatar_03.png\n",
      "Audio: YT_S003_BBP_cloned.wav\n"
     ]
    },
    {
     "name": "stderr",
     "output_type": "stream",
     "text": [
      "Processing all avatar tasks:  92%|█████████▎| 111/120 [2:27:51<12:26, 82.93s/it]"
     ]
    },
    {
     "name": "stdout",
     "output_type": "stream",
     "text": [
      "✓ Generated: /home/is/lathifgalih-k/research_naist/multimodal-clone/clone-video/edtalk-exp/EDTalk/results/test_raw/avatar/RAW/S003_avatar_03_YT_S003_BBP_cloned.mp4\n",
      "Processing: S003_avatar_03_CV_S003_cloned.mp4\n",
      "Avatar: S003_avatar_03.png\n",
      "Audio: CV_S003_VCTK_cloned.wav\n"
     ]
    },
    {
     "name": "stderr",
     "output_type": "stream",
     "text": [
      "Processing all avatar tasks:  93%|█████████▎| 112/120 [2:29:12<10:56, 82.09s/it]"
     ]
    },
    {
     "name": "stdout",
     "output_type": "stream",
     "text": [
      "✓ Generated: /home/is/lathifgalih-k/research_naist/multimodal-clone/clone-video/edtalk-exp/EDTalk/results/test_vctk/avatar/VCTK/S003_avatar_03_CV_S003_cloned.mp4\n",
      "Processing: S003_avatar_03_XT_S003_cloned.mp4\n",
      "Avatar: S003_avatar_03.png\n",
      "Audio: XT_S003_VCTK_cloned.wav\n"
     ]
    },
    {
     "name": "stderr",
     "output_type": "stream",
     "text": [
      "Processing all avatar tasks:  94%|█████████▍| 113/120 [2:30:30<09:27, 81.04s/it]"
     ]
    },
    {
     "name": "stdout",
     "output_type": "stream",
     "text": [
      "✓ Generated: /home/is/lathifgalih-k/research_naist/multimodal-clone/clone-video/edtalk-exp/EDTalk/results/test_vctk/avatar/VCTK/S003_avatar_03_XT_S003_cloned.mp4\n",
      "Processing: S003_avatar_03_YT_S003_cloned.mp4\n",
      "Avatar: S003_avatar_03.png\n",
      "Audio: YT_S003_VCTK_cloned.wav\n"
     ]
    },
    {
     "name": "stderr",
     "output_type": "stream",
     "text": [
      "Processing all avatar tasks:  95%|█████████▌| 114/120 [2:31:41<07:47, 77.85s/it]"
     ]
    },
    {
     "name": "stdout",
     "output_type": "stream",
     "text": [
      "✓ Generated: /home/is/lathifgalih-k/research_naist/multimodal-clone/clone-video/edtalk-exp/EDTalk/results/test_vctk/avatar/VCTK/S003_avatar_03_YT_S003_cloned.mp4\n",
      "Processing: S009_avatar_00_CV_S009_BBP_cloned.mp4\n",
      "Avatar: S009_avatar_00.png\n",
      "Audio: CV_S009_BBP_cloned.wav\n"
     ]
    },
    {
     "name": "stderr",
     "output_type": "stream",
     "text": [
      "Processing all avatar tasks:  96%|█████████▌| 115/120 [2:33:12<06:49, 81.88s/it]"
     ]
    },
    {
     "name": "stdout",
     "output_type": "stream",
     "text": [
      "✓ Generated: /home/is/lathifgalih-k/research_naist/multimodal-clone/clone-video/edtalk-exp/EDTalk/results/test_raw/avatar/RAW/S009_avatar_00_CV_S009_BBP_cloned.mp4\n",
      "Processing: S009_avatar_00_XT_S009_BBP_cloned.mp4\n",
      "Avatar: S009_avatar_00.png\n",
      "Audio: XT_S009_BBP_cloned.wav\n"
     ]
    },
    {
     "name": "stderr",
     "output_type": "stream",
     "text": [
      "Processing all avatar tasks:  97%|█████████▋| 116/120 [2:34:48<05:44, 86.10s/it]"
     ]
    },
    {
     "name": "stdout",
     "output_type": "stream",
     "text": [
      "✓ Generated: /home/is/lathifgalih-k/research_naist/multimodal-clone/clone-video/edtalk-exp/EDTalk/results/test_raw/avatar/RAW/S009_avatar_00_XT_S009_BBP_cloned.mp4\n",
      "Processing: S009_avatar_00_YT_S009_BBP_cloned.mp4\n",
      "Avatar: S009_avatar_00.png\n",
      "Audio: YT_S009_BBP_cloned.wav\n"
     ]
    },
    {
     "name": "stderr",
     "output_type": "stream",
     "text": [
      "Processing all avatar tasks:  98%|█████████▊| 117/120 [2:36:07<04:11, 83.92s/it]"
     ]
    },
    {
     "name": "stdout",
     "output_type": "stream",
     "text": [
      "✓ Generated: /home/is/lathifgalih-k/research_naist/multimodal-clone/clone-video/edtalk-exp/EDTalk/results/test_raw/avatar/RAW/S009_avatar_00_YT_S009_BBP_cloned.mp4\n",
      "Processing: S009_avatar_00_CV_S009_cloned.mp4\n",
      "Avatar: S009_avatar_00.png\n",
      "Audio: CV_S009_VCTK_cloned.wav\n"
     ]
    },
    {
     "name": "stderr",
     "output_type": "stream",
     "text": [
      "Processing all avatar tasks:  98%|█████████▊| 118/120 [2:37:23<02:43, 81.72s/it]"
     ]
    },
    {
     "name": "stdout",
     "output_type": "stream",
     "text": [
      "✓ Generated: /home/is/lathifgalih-k/research_naist/multimodal-clone/clone-video/edtalk-exp/EDTalk/results/test_vctk/avatar/VCTK/S009_avatar_00_CV_S009_cloned.mp4\n",
      "Processing: S009_avatar_00_XT_S009_cloned.mp4\n",
      "Avatar: S009_avatar_00.png\n",
      "Audio: XT_S009_VCTK_cloned.wav\n"
     ]
    },
    {
     "name": "stderr",
     "output_type": "stream",
     "text": [
      "Processing all avatar tasks:  99%|█████████▉| 119/120 [2:38:41<01:20, 80.53s/it]"
     ]
    },
    {
     "name": "stdout",
     "output_type": "stream",
     "text": [
      "✓ Generated: /home/is/lathifgalih-k/research_naist/multimodal-clone/clone-video/edtalk-exp/EDTalk/results/test_vctk/avatar/VCTK/S009_avatar_00_XT_S009_cloned.mp4\n",
      "Processing: S009_avatar_00_YT_S009_cloned.mp4\n",
      "Avatar: S009_avatar_00.png\n",
      "Audio: YT_S009_VCTK_cloned.wav\n"
     ]
    },
    {
     "name": "stderr",
     "output_type": "stream",
     "text": [
      "Processing all avatar tasks: 100%|██████████| 120/120 [2:39:54<00:00, 79.96s/it]"
     ]
    },
    {
     "name": "stdout",
     "output_type": "stream",
     "text": [
      "✓ Generated: /home/is/lathifgalih-k/research_naist/multimodal-clone/clone-video/edtalk-exp/EDTalk/results/test_vctk/avatar/VCTK/S009_avatar_00_YT_S009_cloned.mp4\n"
     ]
    },
    {
     "name": "stderr",
     "output_type": "stream",
     "text": [
      "\n"
     ]
    }
   ],
   "source": [
    "print(\"=== Processing Avatar Images with Fixed Pose ===\")\n",
    "scan_and_process_avatar_files()"
   ]
  },
  {
   "cell_type": "code",
   "execution_count": 3,
   "id": "7fe3cd70",
   "metadata": {},
   "outputs": [
    {
     "name": "stdout",
     "output_type": "stream",
     "text": [
      "\n",
      "=== Processing Avatar Images with Original Video Pose ===\n",
      "Selected avatar for A010: A010_avatar_02.png\n",
      "Selected avatar for A017: A017_avatar_00.png\n",
      "Selected avatar for A014: A014_avatar_00.png\n",
      "Selected avatar for A016: A016_avatar_00.png\n",
      "Selected avatar for A002: A002_avatar_00.png\n",
      "Selected avatar for A008: A008_avatar_03.png\n",
      "Selected avatar for A011: A011_avatar_02.png\n",
      "Selected avatar for A015: A015_avatar_03.png\n",
      "Selected avatar for A006: A006_avatar_02.png\n",
      "Selected avatar for S001: S001_avatar_03.png\n",
      "Selected avatar for S012: S012_avatar_03.png\n",
      "Selected avatar for S006: S006_avatar_00.png\n",
      "Selected avatar for S008: S008_avatar_00.png\n",
      "Selected avatar for S002: S002_avatar_00.png\n",
      "Selected avatar for S011: S011_avatar_02.png\n",
      "Selected avatar for S005: S005_avatar_01.png\n",
      "Selected avatar for S007: S007_avatar_01.png\n",
      "Selected avatar for S013: S013_avatar_01.png\n",
      "Selected avatar for S003: S003_avatar_03.png\n",
      "Selected avatar for S009: S009_avatar_02.png\n",
      "Found 120 avatar-audio-pose pairs to process\n"
     ]
    },
    {
     "name": "stderr",
     "output_type": "stream",
     "text": [
      "Processing all avatar pose tasks:   0%|          | 0/120 [00:00<?, ?it/s]"
     ]
    },
    {
     "name": "stdout",
     "output_type": "stream",
     "text": [
      "Processing: A010_avatar_02_CV_A010_BBP_cloned.mp4\n",
      "Avatar: A010_avatar_02.png\n",
      "Audio: CV_A010_BBP_cloned.wav\n",
      "Pose video: A010_02_BBP_NORMAL_color_25fps_6sec.mp4\n"
     ]
    },
    {
     "name": "stderr",
     "output_type": "stream",
     "text": [
      "Processing all avatar pose tasks:   1%|          | 1/120 [01:43<3:25:36, 103.67s/it]"
     ]
    },
    {
     "name": "stdout",
     "output_type": "stream",
     "text": [
      "✓ Generated: /home/is/lathifgalih-k/research_naist/multimodal-clone/clone-video/edtalk-exp/EDTalk/results/test_raw/avatar_pose/RAW/A010_avatar_02_CV_A010_BBP_cloned.mp4\n",
      "Processing: A010_avatar_02_XT_A010_BBP_cloned.mp4\n",
      "Avatar: A010_avatar_02.png\n",
      "Audio: XT_A010_BBP_cloned.wav\n",
      "Pose video: A010_02_BBP_NORMAL_color_25fps_6sec.mp4\n"
     ]
    },
    {
     "name": "stderr",
     "output_type": "stream",
     "text": [
      "Processing all avatar pose tasks:   2%|▏         | 2/120 [03:36<3:34:33, 109.10s/it]"
     ]
    },
    {
     "name": "stdout",
     "output_type": "stream",
     "text": [
      "✓ Generated: /home/is/lathifgalih-k/research_naist/multimodal-clone/clone-video/edtalk-exp/EDTalk/results/test_raw/avatar_pose/RAW/A010_avatar_02_XT_A010_BBP_cloned.mp4\n",
      "Processing: A010_avatar_02_YT_A010_BBP_cloned.mp4\n",
      "Avatar: A010_avatar_02.png\n",
      "Audio: YT_A010_BBP_cloned.wav\n",
      "Pose video: A010_02_BBP_NORMAL_color_25fps_6sec.mp4\n"
     ]
    },
    {
     "name": "stderr",
     "output_type": "stream",
     "text": [
      "Processing all avatar pose tasks:   2%|▎         | 3/120 [04:52<3:03:36, 94.16s/it] "
     ]
    },
    {
     "name": "stdout",
     "output_type": "stream",
     "text": [
      "✓ Generated: /home/is/lathifgalih-k/research_naist/multimodal-clone/clone-video/edtalk-exp/EDTalk/results/test_raw/avatar_pose/RAW/A010_avatar_02_YT_A010_BBP_cloned.mp4\n",
      "Processing: A010_avatar_02_CV_A010_cloned.mp4\n",
      "Avatar: A010_avatar_02.png\n",
      "Audio: CV_A010_VCTK_cloned.wav\n",
      "Pose video: A010_02_BBP_NORMAL_color_25fps_6sec.mp4\n"
     ]
    },
    {
     "name": "stderr",
     "output_type": "stream",
     "text": [
      "Processing all avatar pose tasks:   3%|▎         | 4/120 [06:13<2:51:38, 88.78s/it]"
     ]
    },
    {
     "name": "stdout",
     "output_type": "stream",
     "text": [
      "✓ Generated: /home/is/lathifgalih-k/research_naist/multimodal-clone/clone-video/edtalk-exp/EDTalk/results/test_vctk/avatar_pose/VCTK/A010_avatar_02_CV_A010_cloned.mp4\n",
      "Processing: A010_avatar_02_XT_A010_cloned.mp4\n",
      "Avatar: A010_avatar_02.png\n",
      "Audio: XT_A010_VCTK_cloned.wav\n",
      "Pose video: A010_02_BBP_NORMAL_color_25fps_6sec.mp4\n"
     ]
    },
    {
     "name": "stderr",
     "output_type": "stream",
     "text": [
      "Processing all avatar pose tasks:   4%|▍         | 5/120 [07:42<2:50:19, 88.86s/it]"
     ]
    },
    {
     "name": "stdout",
     "output_type": "stream",
     "text": [
      "✓ Generated: /home/is/lathifgalih-k/research_naist/multimodal-clone/clone-video/edtalk-exp/EDTalk/results/test_vctk/avatar_pose/VCTK/A010_avatar_02_XT_A010_cloned.mp4\n",
      "Processing: A010_avatar_02_YT_A010_cloned.mp4\n",
      "Avatar: A010_avatar_02.png\n",
      "Audio: YT_A010_VCTK_cloned.wav\n",
      "Pose video: A010_02_BBP_NORMAL_color_25fps_6sec.mp4\n"
     ]
    },
    {
     "name": "stderr",
     "output_type": "stream",
     "text": [
      "Processing all avatar pose tasks:   5%|▌         | 6/120 [08:53<2:37:28, 82.88s/it]"
     ]
    },
    {
     "name": "stdout",
     "output_type": "stream",
     "text": [
      "✓ Generated: /home/is/lathifgalih-k/research_naist/multimodal-clone/clone-video/edtalk-exp/EDTalk/results/test_vctk/avatar_pose/VCTK/A010_avatar_02_YT_A010_cloned.mp4\n",
      "Processing: A017_avatar_00_CV_A017_BBP_cloned.mp4\n",
      "Avatar: A017_avatar_00.png\n",
      "Audio: CV_A017_BBP_cloned.wav\n",
      "Pose video: A017_02_BBP_NORMAL_color_25fps_6sec.mp4\n"
     ]
    },
    {
     "name": "stderr",
     "output_type": "stream",
     "text": [
      "Processing all avatar pose tasks:   6%|▌         | 7/120 [10:20<2:38:38, 84.24s/it]"
     ]
    },
    {
     "name": "stdout",
     "output_type": "stream",
     "text": [
      "✓ Generated: /home/is/lathifgalih-k/research_naist/multimodal-clone/clone-video/edtalk-exp/EDTalk/results/test_raw/avatar_pose/RAW/A017_avatar_00_CV_A017_BBP_cloned.mp4\n",
      "Processing: A017_avatar_00_XT_A017_BBP_cloned.mp4\n",
      "Avatar: A017_avatar_00.png\n",
      "Audio: XT_A017_BBP_cloned.wav\n",
      "Pose video: A017_02_BBP_NORMAL_color_25fps_6sec.mp4\n"
     ]
    },
    {
     "name": "stderr",
     "output_type": "stream",
     "text": [
      "Processing all avatar pose tasks:   7%|▋         | 8/120 [12:00<2:46:42, 89.30s/it]"
     ]
    },
    {
     "name": "stdout",
     "output_type": "stream",
     "text": [
      "✓ Generated: /home/is/lathifgalih-k/research_naist/multimodal-clone/clone-video/edtalk-exp/EDTalk/results/test_raw/avatar_pose/RAW/A017_avatar_00_XT_A017_BBP_cloned.mp4\n",
      "Processing: A017_avatar_00_YT_A017_BBP_cloned.mp4\n",
      "Avatar: A017_avatar_00.png\n",
      "Audio: YT_A017_BBP_cloned.wav\n",
      "Pose video: A017_02_BBP_NORMAL_color_25fps_6sec.mp4\n"
     ]
    },
    {
     "name": "stderr",
     "output_type": "stream",
     "text": [
      "Processing all avatar pose tasks:   8%|▊         | 9/120 [13:19<2:38:43, 85.80s/it]"
     ]
    },
    {
     "name": "stdout",
     "output_type": "stream",
     "text": [
      "✓ Generated: /home/is/lathifgalih-k/research_naist/multimodal-clone/clone-video/edtalk-exp/EDTalk/results/test_raw/avatar_pose/RAW/A017_avatar_00_YT_A017_BBP_cloned.mp4\n",
      "Processing: A017_avatar_00_CV_A017_cloned.mp4\n",
      "Avatar: A017_avatar_00.png\n",
      "Audio: CV_A017_VCTK_cloned.wav\n",
      "Pose video: A017_02_BBP_NORMAL_color_25fps_6sec.mp4\n"
     ]
    },
    {
     "name": "stderr",
     "output_type": "stream",
     "text": [
      "Processing all avatar pose tasks:   8%|▊         | 10/120 [14:52<2:41:26, 88.06s/it]"
     ]
    },
    {
     "name": "stdout",
     "output_type": "stream",
     "text": [
      "✓ Generated: /home/is/lathifgalih-k/research_naist/multimodal-clone/clone-video/edtalk-exp/EDTalk/results/test_vctk/avatar_pose/VCTK/A017_avatar_00_CV_A017_cloned.mp4\n",
      "Processing: A017_avatar_00_XT_A017_cloned.mp4\n",
      "Avatar: A017_avatar_00.png\n",
      "Audio: XT_A017_VCTK_cloned.wav\n",
      "Pose video: A017_02_BBP_NORMAL_color_25fps_6sec.mp4\n"
     ]
    },
    {
     "name": "stderr",
     "output_type": "stream",
     "text": [
      "Processing all avatar pose tasks:   9%|▉         | 11/120 [16:24<2:42:23, 89.39s/it]"
     ]
    },
    {
     "name": "stdout",
     "output_type": "stream",
     "text": [
      "✓ Generated: /home/is/lathifgalih-k/research_naist/multimodal-clone/clone-video/edtalk-exp/EDTalk/results/test_vctk/avatar_pose/VCTK/A017_avatar_00_XT_A017_cloned.mp4\n",
      "Processing: A017_avatar_00_YT_A017_cloned.mp4\n",
      "Avatar: A017_avatar_00.png\n",
      "Audio: YT_A017_VCTK_cloned.wav\n",
      "Pose video: A017_02_BBP_NORMAL_color_25fps_6sec.mp4\n"
     ]
    },
    {
     "name": "stderr",
     "output_type": "stream",
     "text": [
      "Processing all avatar pose tasks:  10%|█         | 12/120 [17:51<2:39:37, 88.68s/it]"
     ]
    },
    {
     "name": "stdout",
     "output_type": "stream",
     "text": [
      "✓ Generated: /home/is/lathifgalih-k/research_naist/multimodal-clone/clone-video/edtalk-exp/EDTalk/results/test_vctk/avatar_pose/VCTK/A017_avatar_00_YT_A017_cloned.mp4\n",
      "Processing: A014_avatar_00_CV_A014_BBP_cloned.mp4\n",
      "Avatar: A014_avatar_00.png\n",
      "Audio: CV_A014_BBP_cloned.wav\n",
      "Pose video: A014_02_BBP_NORMAL_color_25fps_6sec.mp4\n"
     ]
    },
    {
     "name": "stderr",
     "output_type": "stream",
     "text": [
      "Processing all avatar pose tasks:  11%|█         | 13/120 [19:11<2:33:34, 86.12s/it]"
     ]
    },
    {
     "name": "stdout",
     "output_type": "stream",
     "text": [
      "✓ Generated: /home/is/lathifgalih-k/research_naist/multimodal-clone/clone-video/edtalk-exp/EDTalk/results/test_raw/avatar_pose/RAW/A014_avatar_00_CV_A014_BBP_cloned.mp4\n",
      "Processing: A014_avatar_00_XT_A014_BBP_cloned.mp4\n",
      "Avatar: A014_avatar_00.png\n",
      "Audio: XT_A014_BBP_cloned.wav\n",
      "Pose video: A014_02_BBP_NORMAL_color_25fps_6sec.mp4\n"
     ]
    },
    {
     "name": "stderr",
     "output_type": "stream",
     "text": [
      "Processing all avatar pose tasks:  12%|█▏        | 14/120 [20:50<2:38:59, 89.99s/it]"
     ]
    },
    {
     "name": "stdout",
     "output_type": "stream",
     "text": [
      "✓ Generated: /home/is/lathifgalih-k/research_naist/multimodal-clone/clone-video/edtalk-exp/EDTalk/results/test_raw/avatar_pose/RAW/A014_avatar_00_XT_A014_BBP_cloned.mp4\n",
      "Processing: A014_avatar_00_YT_A014_BBP_cloned.mp4\n",
      "Avatar: A014_avatar_00.png\n",
      "Audio: YT_A014_BBP_cloned.wav\n",
      "Pose video: A014_02_BBP_NORMAL_color_25fps_6sec.mp4\n"
     ]
    },
    {
     "name": "stderr",
     "output_type": "stream",
     "text": [
      "Processing all avatar pose tasks:  12%|█▎        | 15/120 [21:58<2:25:56, 83.40s/it]"
     ]
    },
    {
     "name": "stdout",
     "output_type": "stream",
     "text": [
      "✓ Generated: /home/is/lathifgalih-k/research_naist/multimodal-clone/clone-video/edtalk-exp/EDTalk/results/test_raw/avatar_pose/RAW/A014_avatar_00_YT_A014_BBP_cloned.mp4\n",
      "Processing: A014_avatar_00_CV_A014_cloned.mp4\n",
      "Avatar: A014_avatar_00.png\n",
      "Audio: CV_A014_VCTK_cloned.wav\n",
      "Pose video: A014_02_BBP_NORMAL_color_25fps_6sec.mp4\n"
     ]
    },
    {
     "name": "stderr",
     "output_type": "stream",
     "text": [
      "Processing all avatar pose tasks:  13%|█▎        | 16/120 [23:44<2:36:12, 90.12s/it]"
     ]
    },
    {
     "name": "stdout",
     "output_type": "stream",
     "text": [
      "✓ Generated: /home/is/lathifgalih-k/research_naist/multimodal-clone/clone-video/edtalk-exp/EDTalk/results/test_vctk/avatar_pose/VCTK/A014_avatar_00_CV_A014_cloned.mp4\n",
      "Processing: A014_avatar_00_XT_A014_cloned.mp4\n",
      "Avatar: A014_avatar_00.png\n",
      "Audio: XT_A014_VCTK_cloned.wav\n",
      "Pose video: A014_02_BBP_NORMAL_color_25fps_6sec.mp4\n"
     ]
    },
    {
     "name": "stderr",
     "output_type": "stream",
     "text": [
      "Processing all avatar pose tasks:  14%|█▍        | 17/120 [25:07<2:31:05, 88.02s/it]"
     ]
    },
    {
     "name": "stdout",
     "output_type": "stream",
     "text": [
      "✓ Generated: /home/is/lathifgalih-k/research_naist/multimodal-clone/clone-video/edtalk-exp/EDTalk/results/test_vctk/avatar_pose/VCTK/A014_avatar_00_XT_A014_cloned.mp4\n",
      "Processing: A014_avatar_00_YT_A014_cloned.mp4\n",
      "Avatar: A014_avatar_00.png\n",
      "Audio: YT_A014_VCTK_cloned.wav\n",
      "Pose video: A014_02_BBP_NORMAL_color_25fps_6sec.mp4\n"
     ]
    },
    {
     "name": "stderr",
     "output_type": "stream",
     "text": [
      "Processing all avatar pose tasks:  15%|█▌        | 18/120 [26:22<2:23:00, 84.12s/it]"
     ]
    },
    {
     "name": "stdout",
     "output_type": "stream",
     "text": [
      "✓ Generated: /home/is/lathifgalih-k/research_naist/multimodal-clone/clone-video/edtalk-exp/EDTalk/results/test_vctk/avatar_pose/VCTK/A014_avatar_00_YT_A014_cloned.mp4\n",
      "Processing: A016_avatar_00_CV_A016_BBP_cloned.mp4\n",
      "Avatar: A016_avatar_00.png\n",
      "Audio: CV_A016_BBP_cloned.wav\n",
      "Pose video: A016_02_BBP_NORMAL_color_25fps_6sec.mp4\n"
     ]
    },
    {
     "name": "stderr",
     "output_type": "stream",
     "text": [
      "Processing all avatar pose tasks:  16%|█▌        | 19/120 [28:01<2:28:57, 88.49s/it]"
     ]
    },
    {
     "name": "stdout",
     "output_type": "stream",
     "text": [
      "✓ Generated: /home/is/lathifgalih-k/research_naist/multimodal-clone/clone-video/edtalk-exp/EDTalk/results/test_raw/avatar_pose/RAW/A016_avatar_00_CV_A016_BBP_cloned.mp4\n",
      "Processing: A016_avatar_00_XT_A016_BBP_cloned.mp4\n",
      "Avatar: A016_avatar_00.png\n",
      "Audio: XT_A016_BBP_cloned.wav\n",
      "Pose video: A016_02_BBP_NORMAL_color_25fps_6sec.mp4\n"
     ]
    },
    {
     "name": "stderr",
     "output_type": "stream",
     "text": [
      "Processing all avatar pose tasks:  17%|█▋        | 20/120 [29:44<2:34:53, 92.93s/it]"
     ]
    },
    {
     "name": "stdout",
     "output_type": "stream",
     "text": [
      "✓ Generated: /home/is/lathifgalih-k/research_naist/multimodal-clone/clone-video/edtalk-exp/EDTalk/results/test_raw/avatar_pose/RAW/A016_avatar_00_XT_A016_BBP_cloned.mp4\n",
      "Processing: A016_avatar_00_YT_A016_BBP_cloned.mp4\n",
      "Avatar: A016_avatar_00.png\n",
      "Audio: YT_A016_BBP_cloned.wav\n",
      "Pose video: A016_02_BBP_NORMAL_color_25fps_6sec.mp4\n"
     ]
    },
    {
     "name": "stderr",
     "output_type": "stream",
     "text": [
      "Processing all avatar pose tasks:  18%|█▊        | 21/120 [31:09<2:29:19, 90.50s/it]"
     ]
    },
    {
     "name": "stdout",
     "output_type": "stream",
     "text": [
      "✓ Generated: /home/is/lathifgalih-k/research_naist/multimodal-clone/clone-video/edtalk-exp/EDTalk/results/test_raw/avatar_pose/RAW/A016_avatar_00_YT_A016_BBP_cloned.mp4\n",
      "Processing: A016_avatar_00_CV_A016_cloned.mp4\n",
      "Avatar: A016_avatar_00.png\n",
      "Audio: CV_A016_VCTK_cloned.wav\n",
      "Pose video: A016_02_BBP_NORMAL_color_25fps_6sec.mp4\n"
     ]
    },
    {
     "name": "stderr",
     "output_type": "stream",
     "text": [
      "Processing all avatar pose tasks:  18%|█▊        | 22/120 [32:36<2:26:11, 89.50s/it]"
     ]
    },
    {
     "name": "stdout",
     "output_type": "stream",
     "text": [
      "✓ Generated: /home/is/lathifgalih-k/research_naist/multimodal-clone/clone-video/edtalk-exp/EDTalk/results/test_vctk/avatar_pose/VCTK/A016_avatar_00_CV_A016_cloned.mp4\n",
      "Processing: A016_avatar_00_XT_A016_cloned.mp4\n",
      "Avatar: A016_avatar_00.png\n",
      "Audio: XT_A016_VCTK_cloned.wav\n",
      "Pose video: A016_02_BBP_NORMAL_color_25fps_6sec.mp4\n"
     ]
    },
    {
     "name": "stderr",
     "output_type": "stream",
     "text": [
      "Processing all avatar pose tasks:  19%|█▉        | 23/120 [33:58<2:20:50, 87.12s/it]"
     ]
    },
    {
     "name": "stdout",
     "output_type": "stream",
     "text": [
      "✓ Generated: /home/is/lathifgalih-k/research_naist/multimodal-clone/clone-video/edtalk-exp/EDTalk/results/test_vctk/avatar_pose/VCTK/A016_avatar_00_XT_A016_cloned.mp4\n",
      "Processing: A016_avatar_00_YT_A016_cloned.mp4\n",
      "Avatar: A016_avatar_00.png\n",
      "Audio: YT_A016_VCTK_cloned.wav\n",
      "Pose video: A016_02_BBP_NORMAL_color_25fps_6sec.mp4\n"
     ]
    },
    {
     "name": "stderr",
     "output_type": "stream",
     "text": [
      "Processing all avatar pose tasks:  20%|██        | 24/120 [35:27<2:20:09, 87.59s/it]"
     ]
    },
    {
     "name": "stdout",
     "output_type": "stream",
     "text": [
      "✓ Generated: /home/is/lathifgalih-k/research_naist/multimodal-clone/clone-video/edtalk-exp/EDTalk/results/test_vctk/avatar_pose/VCTK/A016_avatar_00_YT_A016_cloned.mp4\n",
      "Processing: A002_avatar_00_CV_A002_BBP_cloned.mp4\n",
      "Avatar: A002_avatar_00.png\n",
      "Audio: CV_A002_BBP_cloned.wav\n",
      "Pose video: A002_02_BBP_NORMAL_color_25fps_6sec.mp4\n"
     ]
    },
    {
     "name": "stderr",
     "output_type": "stream",
     "text": [
      "Processing all avatar pose tasks:  21%|██        | 25/120 [36:57<2:19:49, 88.31s/it]"
     ]
    },
    {
     "name": "stdout",
     "output_type": "stream",
     "text": [
      "✓ Generated: /home/is/lathifgalih-k/research_naist/multimodal-clone/clone-video/edtalk-exp/EDTalk/results/test_raw/avatar_pose/RAW/A002_avatar_00_CV_A002_BBP_cloned.mp4\n",
      "Processing: A002_avatar_00_XT_A002_BBP_cloned.mp4\n",
      "Avatar: A002_avatar_00.png\n",
      "Audio: XT_A002_BBP_cloned.wav\n",
      "Pose video: A002_02_BBP_NORMAL_color_25fps_6sec.mp4\n"
     ]
    },
    {
     "name": "stderr",
     "output_type": "stream",
     "text": [
      "Processing all avatar pose tasks:  22%|██▏       | 26/120 [38:34<2:22:50, 91.17s/it]"
     ]
    },
    {
     "name": "stdout",
     "output_type": "stream",
     "text": [
      "✓ Generated: /home/is/lathifgalih-k/research_naist/multimodal-clone/clone-video/edtalk-exp/EDTalk/results/test_raw/avatar_pose/RAW/A002_avatar_00_XT_A002_BBP_cloned.mp4\n",
      "Processing: A002_avatar_00_YT_A002_BBP_cloned.mp4\n",
      "Avatar: A002_avatar_00.png\n",
      "Audio: YT_A002_BBP_cloned.wav\n",
      "Pose video: A002_02_BBP_NORMAL_color_25fps_6sec.mp4\n"
     ]
    },
    {
     "name": "stderr",
     "output_type": "stream",
     "text": [
      "Processing all avatar pose tasks:  22%|██▎       | 27/120 [40:05<2:20:57, 90.94s/it]"
     ]
    },
    {
     "name": "stdout",
     "output_type": "stream",
     "text": [
      "✓ Generated: /home/is/lathifgalih-k/research_naist/multimodal-clone/clone-video/edtalk-exp/EDTalk/results/test_raw/avatar_pose/RAW/A002_avatar_00_YT_A002_BBP_cloned.mp4\n",
      "Processing: A002_avatar_00_CV_A002_cloned.mp4\n",
      "Avatar: A002_avatar_00.png\n",
      "Audio: CV_A002_VCTK_cloned.wav\n",
      "Pose video: A002_02_BBP_NORMAL_color_25fps_6sec.mp4\n"
     ]
    },
    {
     "name": "stderr",
     "output_type": "stream",
     "text": [
      "Processing all avatar pose tasks:  23%|██▎       | 28/120 [41:18<2:11:06, 85.51s/it]"
     ]
    },
    {
     "name": "stdout",
     "output_type": "stream",
     "text": [
      "✓ Generated: /home/is/lathifgalih-k/research_naist/multimodal-clone/clone-video/edtalk-exp/EDTalk/results/test_vctk/avatar_pose/VCTK/A002_avatar_00_CV_A002_cloned.mp4\n",
      "Processing: A002_avatar_00_XT_A002_cloned.mp4\n",
      "Avatar: A002_avatar_00.png\n",
      "Audio: XT_A002_VCTK_cloned.wav\n",
      "Pose video: A002_02_BBP_NORMAL_color_25fps_6sec.mp4\n"
     ]
    },
    {
     "name": "stderr",
     "output_type": "stream",
     "text": [
      "Processing all avatar pose tasks:  24%|██▍       | 29/120 [42:39<2:08:01, 84.41s/it]"
     ]
    },
    {
     "name": "stdout",
     "output_type": "stream",
     "text": [
      "✓ Generated: /home/is/lathifgalih-k/research_naist/multimodal-clone/clone-video/edtalk-exp/EDTalk/results/test_vctk/avatar_pose/VCTK/A002_avatar_00_XT_A002_cloned.mp4\n",
      "Processing: A002_avatar_00_YT_A002_cloned.mp4\n",
      "Avatar: A002_avatar_00.png\n",
      "Audio: YT_A002_VCTK_cloned.wav\n",
      "Pose video: A002_02_BBP_NORMAL_color_25fps_6sec.mp4\n"
     ]
    },
    {
     "name": "stderr",
     "output_type": "stream",
     "text": [
      "Processing all avatar pose tasks:  25%|██▌       | 30/120 [43:52<2:01:25, 80.95s/it]"
     ]
    },
    {
     "name": "stdout",
     "output_type": "stream",
     "text": [
      "✓ Generated: /home/is/lathifgalih-k/research_naist/multimodal-clone/clone-video/edtalk-exp/EDTalk/results/test_vctk/avatar_pose/VCTK/A002_avatar_00_YT_A002_cloned.mp4\n",
      "Processing: A008_avatar_03_CV_A008_BBP_cloned.mp4\n",
      "Avatar: A008_avatar_03.png\n",
      "Audio: CV_A008_BBP_cloned.wav\n",
      "Pose video: A008_02_BBP_NORMAL_color_25fps_6sec.mp4\n"
     ]
    },
    {
     "name": "stderr",
     "output_type": "stream",
     "text": [
      "Processing all avatar pose tasks:  26%|██▌       | 31/120 [45:18<2:02:24, 82.52s/it]"
     ]
    },
    {
     "name": "stdout",
     "output_type": "stream",
     "text": [
      "✓ Generated: /home/is/lathifgalih-k/research_naist/multimodal-clone/clone-video/edtalk-exp/EDTalk/results/test_raw/avatar_pose/RAW/A008_avatar_03_CV_A008_BBP_cloned.mp4\n",
      "Processing: A008_avatar_03_XT_A008_BBP_cloned.mp4\n",
      "Avatar: A008_avatar_03.png\n",
      "Audio: XT_A008_BBP_cloned.wav\n",
      "Pose video: A008_02_BBP_NORMAL_color_25fps_6sec.mp4\n"
     ]
    },
    {
     "name": "stderr",
     "output_type": "stream",
     "text": [
      "Processing all avatar pose tasks:  27%|██▋       | 32/120 [46:58<2:08:38, 87.71s/it]"
     ]
    },
    {
     "name": "stdout",
     "output_type": "stream",
     "text": [
      "✓ Generated: /home/is/lathifgalih-k/research_naist/multimodal-clone/clone-video/edtalk-exp/EDTalk/results/test_raw/avatar_pose/RAW/A008_avatar_03_XT_A008_BBP_cloned.mp4\n",
      "Processing: A008_avatar_03_YT_A008_BBP_cloned.mp4\n",
      "Avatar: A008_avatar_03.png\n",
      "Audio: YT_A008_BBP_cloned.wav\n",
      "Pose video: A008_02_BBP_NORMAL_color_25fps_6sec.mp4\n"
     ]
    },
    {
     "name": "stderr",
     "output_type": "stream",
     "text": [
      "Processing all avatar pose tasks:  28%|██▊       | 33/120 [48:21<2:04:55, 86.16s/it]"
     ]
    },
    {
     "name": "stdout",
     "output_type": "stream",
     "text": [
      "✓ Generated: /home/is/lathifgalih-k/research_naist/multimodal-clone/clone-video/edtalk-exp/EDTalk/results/test_raw/avatar_pose/RAW/A008_avatar_03_YT_A008_BBP_cloned.mp4\n",
      "Processing: A008_avatar_03_CV_A008_cloned.mp4\n",
      "Avatar: A008_avatar_03.png\n",
      "Audio: CV_A008_VCTK_cloned.wav\n",
      "Pose video: A008_02_BBP_NORMAL_color_25fps_6sec.mp4\n"
     ]
    },
    {
     "name": "stderr",
     "output_type": "stream",
     "text": [
      "Processing all avatar pose tasks:  28%|██▊       | 34/120 [49:47<2:03:40, 86.29s/it]"
     ]
    },
    {
     "name": "stdout",
     "output_type": "stream",
     "text": [
      "✓ Generated: /home/is/lathifgalih-k/research_naist/multimodal-clone/clone-video/edtalk-exp/EDTalk/results/test_vctk/avatar_pose/VCTK/A008_avatar_03_CV_A008_cloned.mp4\n",
      "Processing: A008_avatar_03_XT_A008_cloned.mp4\n",
      "Avatar: A008_avatar_03.png\n",
      "Audio: XT_A008_VCTK_cloned.wav\n",
      "Pose video: A008_02_BBP_NORMAL_color_25fps_6sec.mp4\n"
     ]
    },
    {
     "name": "stderr",
     "output_type": "stream",
     "text": [
      "Processing all avatar pose tasks:  29%|██▉       | 35/120 [51:12<2:01:42, 85.92s/it]"
     ]
    },
    {
     "name": "stdout",
     "output_type": "stream",
     "text": [
      "✓ Generated: /home/is/lathifgalih-k/research_naist/multimodal-clone/clone-video/edtalk-exp/EDTalk/results/test_vctk/avatar_pose/VCTK/A008_avatar_03_XT_A008_cloned.mp4\n",
      "Processing: A008_avatar_03_YT_A008_cloned.mp4\n",
      "Avatar: A008_avatar_03.png\n",
      "Audio: YT_A008_VCTK_cloned.wav\n",
      "Pose video: A008_02_BBP_NORMAL_color_25fps_6sec.mp4\n"
     ]
    },
    {
     "name": "stderr",
     "output_type": "stream",
     "text": [
      "Processing all avatar pose tasks:  30%|███       | 36/120 [52:22<1:53:31, 81.08s/it]"
     ]
    },
    {
     "name": "stdout",
     "output_type": "stream",
     "text": [
      "✓ Generated: /home/is/lathifgalih-k/research_naist/multimodal-clone/clone-video/edtalk-exp/EDTalk/results/test_vctk/avatar_pose/VCTK/A008_avatar_03_YT_A008_cloned.mp4\n",
      "Processing: A011_avatar_02_CV_A011_BBP_cloned.mp4\n",
      "Avatar: A011_avatar_02.png\n",
      "Audio: CV_A011_BBP_cloned.wav\n",
      "Pose video: A011_02_BBP_NORMAL_color_25fps_6sec.mp4\n"
     ]
    },
    {
     "name": "stderr",
     "output_type": "stream",
     "text": [
      "Processing all avatar pose tasks:  31%|███       | 37/120 [53:49<1:54:34, 82.83s/it]"
     ]
    },
    {
     "name": "stdout",
     "output_type": "stream",
     "text": [
      "✓ Generated: /home/is/lathifgalih-k/research_naist/multimodal-clone/clone-video/edtalk-exp/EDTalk/results/test_raw/avatar_pose/RAW/A011_avatar_02_CV_A011_BBP_cloned.mp4\n",
      "Processing: A011_avatar_02_XT_A011_BBP_cloned.mp4\n",
      "Avatar: A011_avatar_02.png\n",
      "Audio: XT_A011_BBP_cloned.wav\n",
      "Pose video: A011_02_BBP_NORMAL_color_25fps_6sec.mp4\n"
     ]
    },
    {
     "name": "stderr",
     "output_type": "stream",
     "text": [
      "Processing all avatar pose tasks:  32%|███▏      | 38/120 [55:21<1:56:54, 85.54s/it]"
     ]
    },
    {
     "name": "stdout",
     "output_type": "stream",
     "text": [
      "✓ Generated: /home/is/lathifgalih-k/research_naist/multimodal-clone/clone-video/edtalk-exp/EDTalk/results/test_raw/avatar_pose/RAW/A011_avatar_02_XT_A011_BBP_cloned.mp4\n",
      "Processing: A011_avatar_02_YT_A011_BBP_cloned.mp4\n",
      "Avatar: A011_avatar_02.png\n",
      "Audio: YT_A011_BBP_cloned.wav\n",
      "Pose video: A011_02_BBP_NORMAL_color_25fps_6sec.mp4\n"
     ]
    },
    {
     "name": "stderr",
     "output_type": "stream",
     "text": [
      "Processing all avatar pose tasks:  32%|███▎      | 39/120 [56:39<1:52:17, 83.18s/it]"
     ]
    },
    {
     "name": "stdout",
     "output_type": "stream",
     "text": [
      "✓ Generated: /home/is/lathifgalih-k/research_naist/multimodal-clone/clone-video/edtalk-exp/EDTalk/results/test_raw/avatar_pose/RAW/A011_avatar_02_YT_A011_BBP_cloned.mp4\n",
      "Processing: A011_avatar_02_CV_A011_cloned.mp4\n",
      "Avatar: A011_avatar_02.png\n",
      "Audio: CV_A011_VCTK_cloned.wav\n",
      "Pose video: A011_02_BBP_NORMAL_color_25fps_6sec.mp4\n"
     ]
    },
    {
     "name": "stderr",
     "output_type": "stream",
     "text": [
      "Processing all avatar pose tasks:  33%|███▎      | 40/120 [58:14<1:55:35, 86.70s/it]"
     ]
    },
    {
     "name": "stdout",
     "output_type": "stream",
     "text": [
      "✓ Generated: /home/is/lathifgalih-k/research_naist/multimodal-clone/clone-video/edtalk-exp/EDTalk/results/test_vctk/avatar_pose/VCTK/A011_avatar_02_CV_A011_cloned.mp4\n",
      "Processing: A011_avatar_02_XT_A011_cloned.mp4\n",
      "Avatar: A011_avatar_02.png\n",
      "Audio: XT_A011_VCTK_cloned.wav\n",
      "Pose video: A011_02_BBP_NORMAL_color_25fps_6sec.mp4\n"
     ]
    },
    {
     "name": "stderr",
     "output_type": "stream",
     "text": [
      "Processing all avatar pose tasks:  34%|███▍      | 41/120 [59:33<1:51:12, 84.46s/it]"
     ]
    },
    {
     "name": "stdout",
     "output_type": "stream",
     "text": [
      "✓ Generated: /home/is/lathifgalih-k/research_naist/multimodal-clone/clone-video/edtalk-exp/EDTalk/results/test_vctk/avatar_pose/VCTK/A011_avatar_02_XT_A011_cloned.mp4\n",
      "Processing: A011_avatar_02_YT_A011_cloned.mp4\n",
      "Avatar: A011_avatar_02.png\n",
      "Audio: YT_A011_VCTK_cloned.wav\n",
      "Pose video: A011_02_BBP_NORMAL_color_25fps_6sec.mp4\n"
     ]
    },
    {
     "name": "stderr",
     "output_type": "stream",
     "text": [
      "Processing all avatar pose tasks:  35%|███▌      | 42/120 [1:00:50<1:46:58, 82.29s/it]"
     ]
    },
    {
     "name": "stdout",
     "output_type": "stream",
     "text": [
      "✓ Generated: /home/is/lathifgalih-k/research_naist/multimodal-clone/clone-video/edtalk-exp/EDTalk/results/test_vctk/avatar_pose/VCTK/A011_avatar_02_YT_A011_cloned.mp4\n",
      "Processing: A015_avatar_03_CV_A015_PATAKA_cloned.mp4\n",
      "Avatar: A015_avatar_03.png\n",
      "Audio: CV_A015_PATAKA_cloned.wav\n",
      "Pose video: A015_02_DDK_PATAKA_color_25fps_6sec.mp4\n"
     ]
    },
    {
     "name": "stderr",
     "output_type": "stream",
     "text": [
      "Processing all avatar pose tasks:  36%|███▌      | 43/120 [1:01:59<1:40:18, 78.17s/it]"
     ]
    },
    {
     "name": "stdout",
     "output_type": "stream",
     "text": [
      "✓ Generated: /home/is/lathifgalih-k/research_naist/multimodal-clone/clone-video/edtalk-exp/EDTalk/results/test_raw/avatar_pose/RAW/A015_avatar_03_CV_A015_PATAKA_cloned.mp4\n",
      "Processing: A015_avatar_03_XT_A015_PATAKA_cloned.mp4\n",
      "Avatar: A015_avatar_03.png\n",
      "Audio: XT_A015_PATAKA_cloned.wav\n",
      "Pose video: A015_02_DDK_PATAKA_color_25fps_6sec.mp4\n"
     ]
    },
    {
     "name": "stderr",
     "output_type": "stream",
     "text": [
      "Processing all avatar pose tasks:  37%|███▋      | 44/120 [1:03:27<1:42:42, 81.09s/it]"
     ]
    },
    {
     "name": "stdout",
     "output_type": "stream",
     "text": [
      "✓ Generated: /home/is/lathifgalih-k/research_naist/multimodal-clone/clone-video/edtalk-exp/EDTalk/results/test_raw/avatar_pose/RAW/A015_avatar_03_XT_A015_PATAKA_cloned.mp4\n",
      "Processing: A015_avatar_03_YT_A015_PATAKA_cloned.mp4\n",
      "Avatar: A015_avatar_03.png\n",
      "Audio: YT_A015_PATAKA_cloned.wav\n",
      "Pose video: A015_02_DDK_PATAKA_color_25fps_6sec.mp4\n"
     ]
    },
    {
     "name": "stderr",
     "output_type": "stream",
     "text": [
      "Processing all avatar pose tasks:  38%|███▊      | 45/120 [1:04:32<1:35:21, 76.29s/it]"
     ]
    },
    {
     "name": "stdout",
     "output_type": "stream",
     "text": [
      "✓ Generated: /home/is/lathifgalih-k/research_naist/multimodal-clone/clone-video/edtalk-exp/EDTalk/results/test_raw/avatar_pose/RAW/A015_avatar_03_YT_A015_PATAKA_cloned.mp4\n",
      "Processing: A015_avatar_03_CV_A015_cloned.mp4\n",
      "Avatar: A015_avatar_03.png\n",
      "Audio: CV_A015_VCTK_cloned.wav\n",
      "Pose video: A015_02_DDK_PATAKA_color_25fps_6sec.mp4\n"
     ]
    },
    {
     "name": "stderr",
     "output_type": "stream",
     "text": [
      "Processing all avatar pose tasks:  38%|███▊      | 46/120 [1:06:20<1:45:56, 85.90s/it]"
     ]
    },
    {
     "name": "stdout",
     "output_type": "stream",
     "text": [
      "✓ Generated: /home/is/lathifgalih-k/research_naist/multimodal-clone/clone-video/edtalk-exp/EDTalk/results/test_vctk/avatar_pose/VCTK/A015_avatar_03_CV_A015_cloned.mp4\n",
      "Processing: A015_avatar_03_XT_A015_cloned.mp4\n",
      "Avatar: A015_avatar_03.png\n",
      "Audio: XT_A015_VCTK_cloned.wav\n",
      "Pose video: A015_02_DDK_PATAKA_color_25fps_6sec.mp4\n"
     ]
    },
    {
     "name": "stderr",
     "output_type": "stream",
     "text": [
      "Processing all avatar pose tasks:  39%|███▉      | 47/120 [1:07:43<1:43:20, 84.94s/it]"
     ]
    },
    {
     "name": "stdout",
     "output_type": "stream",
     "text": [
      "✓ Generated: /home/is/lathifgalih-k/research_naist/multimodal-clone/clone-video/edtalk-exp/EDTalk/results/test_vctk/avatar_pose/VCTK/A015_avatar_03_XT_A015_cloned.mp4\n",
      "Processing: A015_avatar_03_YT_A015_cloned.mp4\n",
      "Avatar: A015_avatar_03.png\n",
      "Audio: YT_A015_VCTK_cloned.wav\n",
      "Pose video: A015_02_DDK_PATAKA_color_25fps_6sec.mp4\n"
     ]
    },
    {
     "name": "stderr",
     "output_type": "stream",
     "text": [
      "Processing all avatar pose tasks:  40%|████      | 48/120 [1:09:09<1:42:21, 85.29s/it]"
     ]
    },
    {
     "name": "stdout",
     "output_type": "stream",
     "text": [
      "✓ Generated: /home/is/lathifgalih-k/research_naist/multimodal-clone/clone-video/edtalk-exp/EDTalk/results/test_vctk/avatar_pose/VCTK/A015_avatar_03_YT_A015_cloned.mp4\n",
      "Processing: A006_avatar_02_CV_A006_BBP_cloned.mp4\n",
      "Avatar: A006_avatar_02.png\n",
      "Audio: CV_A006_BBP_cloned.wav\n",
      "Pose video: A006_02_BBP_NORMAL_color_25fps_6sec.mp4\n"
     ]
    },
    {
     "name": "stderr",
     "output_type": "stream",
     "text": [
      "Processing all avatar pose tasks:  41%|████      | 49/120 [1:10:33<1:40:22, 84.83s/it]"
     ]
    },
    {
     "name": "stdout",
     "output_type": "stream",
     "text": [
      "✓ Generated: /home/is/lathifgalih-k/research_naist/multimodal-clone/clone-video/edtalk-exp/EDTalk/results/test_raw/avatar_pose/RAW/A006_avatar_02_CV_A006_BBP_cloned.mp4\n",
      "Processing: A006_avatar_02_XT_A006_BBP_cloned.mp4\n",
      "Avatar: A006_avatar_02.png\n",
      "Audio: XT_A006_BBP_cloned.wav\n",
      "Pose video: A006_02_BBP_NORMAL_color_25fps_6sec.mp4\n"
     ]
    },
    {
     "name": "stderr",
     "output_type": "stream",
     "text": [
      "Processing all avatar pose tasks:  42%|████▏     | 50/120 [1:12:05<1:41:40, 87.16s/it]"
     ]
    },
    {
     "name": "stdout",
     "output_type": "stream",
     "text": [
      "✓ Generated: /home/is/lathifgalih-k/research_naist/multimodal-clone/clone-video/edtalk-exp/EDTalk/results/test_raw/avatar_pose/RAW/A006_avatar_02_XT_A006_BBP_cloned.mp4\n",
      "Processing: A006_avatar_02_YT_A006_BBP_cloned.mp4\n",
      "Avatar: A006_avatar_02.png\n",
      "Audio: YT_A006_BBP_cloned.wav\n",
      "Pose video: A006_02_BBP_NORMAL_color_25fps_6sec.mp4\n"
     ]
    },
    {
     "name": "stderr",
     "output_type": "stream",
     "text": [
      "Processing all avatar pose tasks:  42%|████▎     | 51/120 [1:13:22<1:36:40, 84.07s/it]"
     ]
    },
    {
     "name": "stdout",
     "output_type": "stream",
     "text": [
      "✓ Generated: /home/is/lathifgalih-k/research_naist/multimodal-clone/clone-video/edtalk-exp/EDTalk/results/test_raw/avatar_pose/RAW/A006_avatar_02_YT_A006_BBP_cloned.mp4\n",
      "Processing: A006_avatar_02_CV_A006_cloned.mp4\n",
      "Avatar: A006_avatar_02.png\n",
      "Audio: CV_A006_VCTK_cloned.wav\n",
      "Pose video: A006_02_BBP_NORMAL_color_25fps_6sec.mp4\n"
     ]
    },
    {
     "name": "stderr",
     "output_type": "stream",
     "text": [
      "Processing all avatar pose tasks:  43%|████▎     | 52/120 [1:14:55<1:38:16, 86.71s/it]"
     ]
    },
    {
     "name": "stdout",
     "output_type": "stream",
     "text": [
      "✓ Generated: /home/is/lathifgalih-k/research_naist/multimodal-clone/clone-video/edtalk-exp/EDTalk/results/test_vctk/avatar_pose/VCTK/A006_avatar_02_CV_A006_cloned.mp4\n",
      "Processing: A006_avatar_02_XT_A006_cloned.mp4\n",
      "Avatar: A006_avatar_02.png\n",
      "Audio: XT_A006_VCTK_cloned.wav\n",
      "Pose video: A006_02_BBP_NORMAL_color_25fps_6sec.mp4\n"
     ]
    },
    {
     "name": "stderr",
     "output_type": "stream",
     "text": [
      "Processing all avatar pose tasks:  44%|████▍     | 53/120 [1:16:23<1:37:18, 87.14s/it]"
     ]
    },
    {
     "name": "stdout",
     "output_type": "stream",
     "text": [
      "✓ Generated: /home/is/lathifgalih-k/research_naist/multimodal-clone/clone-video/edtalk-exp/EDTalk/results/test_vctk/avatar_pose/VCTK/A006_avatar_02_XT_A006_cloned.mp4\n",
      "Processing: A006_avatar_02_YT_A006_cloned.mp4\n",
      "Avatar: A006_avatar_02.png\n",
      "Audio: YT_A006_VCTK_cloned.wav\n",
      "Pose video: A006_02_BBP_NORMAL_color_25fps_6sec.mp4\n"
     ]
    },
    {
     "name": "stderr",
     "output_type": "stream",
     "text": [
      "Processing all avatar pose tasks:  45%|████▌     | 54/120 [1:17:37<1:31:27, 83.15s/it]"
     ]
    },
    {
     "name": "stdout",
     "output_type": "stream",
     "text": [
      "✓ Generated: /home/is/lathifgalih-k/research_naist/multimodal-clone/clone-video/edtalk-exp/EDTalk/results/test_vctk/avatar_pose/VCTK/A006_avatar_02_YT_A006_cloned.mp4\n",
      "Processing: S001_avatar_03_CV_S001_PA_cloned.mp4\n",
      "Avatar: S001_avatar_03.png\n",
      "Audio: CV_S001_PA_cloned.wav\n",
      "Pose video: S001_02_DDK_PA_color_25fps_6sec.mp4\n"
     ]
    },
    {
     "name": "stderr",
     "output_type": "stream",
     "text": [
      "Processing all avatar pose tasks:  46%|████▌     | 55/120 [1:19:42<1:43:40, 95.70s/it]"
     ]
    },
    {
     "name": "stdout",
     "output_type": "stream",
     "text": [
      "✓ Generated: /home/is/lathifgalih-k/research_naist/multimodal-clone/clone-video/edtalk-exp/EDTalk/results/test_raw/avatar_pose/RAW/S001_avatar_03_CV_S001_PA_cloned.mp4\n",
      "Processing: S001_avatar_03_XT_S001_PA_cloned.mp4\n",
      "Avatar: S001_avatar_03.png\n",
      "Audio: XT_S001_PA_cloned.wav\n",
      "Pose video: S001_02_DDK_PA_color_25fps_6sec.mp4\n"
     ]
    },
    {
     "name": "stderr",
     "output_type": "stream",
     "text": [
      "Processing all avatar pose tasks:  47%|████▋     | 56/120 [1:21:42<1:49:49, 102.96s/it]"
     ]
    },
    {
     "name": "stdout",
     "output_type": "stream",
     "text": [
      "✓ Generated: /home/is/lathifgalih-k/research_naist/multimodal-clone/clone-video/edtalk-exp/EDTalk/results/test_raw/avatar_pose/RAW/S001_avatar_03_XT_S001_PA_cloned.mp4\n",
      "Processing: S001_avatar_03_YT_S001_PA_cloned.mp4\n",
      "Avatar: S001_avatar_03.png\n",
      "Audio: YT_S001_PA_cloned.wav\n",
      "Pose video: S001_02_DDK_PA_color_25fps_6sec.mp4\n"
     ]
    },
    {
     "name": "stderr",
     "output_type": "stream",
     "text": [
      "Processing all avatar pose tasks:  48%|████▊     | 57/120 [1:23:00<1:40:17, 95.52s/it] "
     ]
    },
    {
     "name": "stdout",
     "output_type": "stream",
     "text": [
      "✓ Generated: /home/is/lathifgalih-k/research_naist/multimodal-clone/clone-video/edtalk-exp/EDTalk/results/test_raw/avatar_pose/RAW/S001_avatar_03_YT_S001_PA_cloned.mp4\n",
      "Processing: S001_avatar_03_CV_S001_cloned.mp4\n",
      "Avatar: S001_avatar_03.png\n",
      "Audio: CV_S001_VCTK_cloned.wav\n",
      "Pose video: S001_02_DDK_PA_color_25fps_6sec.mp4\n"
     ]
    },
    {
     "name": "stderr",
     "output_type": "stream",
     "text": [
      "Processing all avatar pose tasks:  48%|████▊     | 58/120 [1:24:12<1:31:21, 88.42s/it]"
     ]
    },
    {
     "name": "stdout",
     "output_type": "stream",
     "text": [
      "✓ Generated: /home/is/lathifgalih-k/research_naist/multimodal-clone/clone-video/edtalk-exp/EDTalk/results/test_vctk/avatar_pose/VCTK/S001_avatar_03_CV_S001_cloned.mp4\n",
      "Processing: S001_avatar_03_XT_S001_cloned.mp4\n",
      "Avatar: S001_avatar_03.png\n",
      "Audio: XT_S001_VCTK_cloned.wav\n",
      "Pose video: S001_02_DDK_PA_color_25fps_6sec.mp4\n"
     ]
    },
    {
     "name": "stderr",
     "output_type": "stream",
     "text": [
      "Processing all avatar pose tasks:  49%|████▉     | 59/120 [1:25:22<1:24:28, 83.09s/it]"
     ]
    },
    {
     "name": "stdout",
     "output_type": "stream",
     "text": [
      "✓ Generated: /home/is/lathifgalih-k/research_naist/multimodal-clone/clone-video/edtalk-exp/EDTalk/results/test_vctk/avatar_pose/VCTK/S001_avatar_03_XT_S001_cloned.mp4\n",
      "Processing: S001_avatar_03_YT_S001_cloned.mp4\n",
      "Avatar: S001_avatar_03.png\n",
      "Audio: YT_S001_VCTK_cloned.wav\n",
      "Pose video: S001_02_DDK_PA_color_25fps_6sec.mp4\n"
     ]
    },
    {
     "name": "stderr",
     "output_type": "stream",
     "text": [
      "Processing all avatar pose tasks:  50%|█████     | 60/120 [1:26:37<1:20:35, 80.60s/it]"
     ]
    },
    {
     "name": "stdout",
     "output_type": "stream",
     "text": [
      "✓ Generated: /home/is/lathifgalih-k/research_naist/multimodal-clone/clone-video/edtalk-exp/EDTalk/results/test_vctk/avatar_pose/VCTK/S001_avatar_03_YT_S001_cloned.mp4\n",
      "Processing: S012_avatar_03_CV_S012_BBP_cloned.mp4\n",
      "Avatar: S012_avatar_03.png\n",
      "Audio: CV_S012_BBP_cloned.wav\n",
      "Pose video: S012_02_BBP_NORMAL_color_25fps_6sec.mp4\n"
     ]
    },
    {
     "name": "stderr",
     "output_type": "stream",
     "text": [
      "Processing all avatar pose tasks:  51%|█████     | 61/120 [1:28:10<1:22:48, 84.21s/it]"
     ]
    },
    {
     "name": "stdout",
     "output_type": "stream",
     "text": [
      "✓ Generated: /home/is/lathifgalih-k/research_naist/multimodal-clone/clone-video/edtalk-exp/EDTalk/results/test_raw/avatar_pose/RAW/S012_avatar_03_CV_S012_BBP_cloned.mp4\n",
      "Processing: S012_avatar_03_XT_S012_BBP_cloned.mp4\n",
      "Avatar: S012_avatar_03.png\n",
      "Audio: XT_S012_BBP_cloned.wav\n",
      "Pose video: S012_02_BBP_NORMAL_color_25fps_6sec.mp4\n"
     ]
    },
    {
     "name": "stderr",
     "output_type": "stream",
     "text": [
      "Processing all avatar pose tasks:  52%|█████▏    | 62/120 [1:29:46<1:24:44, 87.66s/it]"
     ]
    },
    {
     "name": "stdout",
     "output_type": "stream",
     "text": [
      "✓ Generated: /home/is/lathifgalih-k/research_naist/multimodal-clone/clone-video/edtalk-exp/EDTalk/results/test_raw/avatar_pose/RAW/S012_avatar_03_XT_S012_BBP_cloned.mp4\n",
      "Processing: S012_avatar_03_YT_S012_BBP_cloned.mp4\n",
      "Avatar: S012_avatar_03.png\n",
      "Audio: YT_S012_BBP_cloned.wav\n",
      "Pose video: S012_02_BBP_NORMAL_color_25fps_6sec.mp4\n"
     ]
    },
    {
     "name": "stderr",
     "output_type": "stream",
     "text": [
      "Processing all avatar pose tasks:  52%|█████▎    | 63/120 [1:31:14<1:23:37, 88.02s/it]"
     ]
    },
    {
     "name": "stdout",
     "output_type": "stream",
     "text": [
      "✓ Generated: /home/is/lathifgalih-k/research_naist/multimodal-clone/clone-video/edtalk-exp/EDTalk/results/test_raw/avatar_pose/RAW/S012_avatar_03_YT_S012_BBP_cloned.mp4\n",
      "Processing: S012_avatar_03_CV_S012_cloned.mp4\n",
      "Avatar: S012_avatar_03.png\n",
      "Audio: CV_S012_VCTK_cloned.wav\n",
      "Pose video: S012_02_BBP_NORMAL_color_25fps_6sec.mp4\n"
     ]
    },
    {
     "name": "stderr",
     "output_type": "stream",
     "text": [
      "Processing all avatar pose tasks:  53%|█████▎    | 64/120 [1:32:45<1:22:46, 88.68s/it]"
     ]
    },
    {
     "name": "stdout",
     "output_type": "stream",
     "text": [
      "✓ Generated: /home/is/lathifgalih-k/research_naist/multimodal-clone/clone-video/edtalk-exp/EDTalk/results/test_vctk/avatar_pose/VCTK/S012_avatar_03_CV_S012_cloned.mp4\n",
      "Processing: S012_avatar_03_XT_S012_cloned.mp4\n",
      "Avatar: S012_avatar_03.png\n",
      "Audio: XT_S012_VCTK_cloned.wav\n",
      "Pose video: S012_02_BBP_NORMAL_color_25fps_6sec.mp4\n"
     ]
    },
    {
     "name": "stderr",
     "output_type": "stream",
     "text": [
      "Processing all avatar pose tasks:  54%|█████▍    | 65/120 [1:33:55<1:16:20, 83.28s/it]"
     ]
    },
    {
     "name": "stdout",
     "output_type": "stream",
     "text": [
      "✓ Generated: /home/is/lathifgalih-k/research_naist/multimodal-clone/clone-video/edtalk-exp/EDTalk/results/test_vctk/avatar_pose/VCTK/S012_avatar_03_XT_S012_cloned.mp4\n",
      "Processing: S012_avatar_03_YT_S012_cloned.mp4\n",
      "Avatar: S012_avatar_03.png\n",
      "Audio: YT_S012_VCTK_cloned.wav\n",
      "Pose video: S012_02_BBP_NORMAL_color_25fps_6sec.mp4\n"
     ]
    },
    {
     "name": "stderr",
     "output_type": "stream",
     "text": [
      "Processing all avatar pose tasks:  55%|█████▌    | 66/120 [1:35:01<1:10:10, 77.98s/it]"
     ]
    },
    {
     "name": "stdout",
     "output_type": "stream",
     "text": [
      "✓ Generated: /home/is/lathifgalih-k/research_naist/multimodal-clone/clone-video/edtalk-exp/EDTalk/results/test_vctk/avatar_pose/VCTK/S012_avatar_03_YT_S012_cloned.mp4\n",
      "Processing: S006_avatar_00_CV_S006_BBP_cloned.mp4\n",
      "Avatar: S006_avatar_00.png\n",
      "Audio: CV_S006_BBP_cloned.wav\n",
      "Pose video: S006_02_BBP_NORMAL_color_25fps_6sec.mp4\n"
     ]
    },
    {
     "name": "stderr",
     "output_type": "stream",
     "text": [
      "Processing all avatar pose tasks:  56%|█████▌    | 67/120 [1:36:14<1:07:33, 76.49s/it]"
     ]
    },
    {
     "name": "stdout",
     "output_type": "stream",
     "text": [
      "✓ Generated: /home/is/lathifgalih-k/research_naist/multimodal-clone/clone-video/edtalk-exp/EDTalk/results/test_raw/avatar_pose/RAW/S006_avatar_00_CV_S006_BBP_cloned.mp4\n",
      "Processing: S006_avatar_00_XT_S006_BBP_cloned.mp4\n",
      "Avatar: S006_avatar_00.png\n",
      "Audio: XT_S006_BBP_cloned.wav\n",
      "Pose video: S006_02_BBP_NORMAL_color_25fps_6sec.mp4\n"
     ]
    },
    {
     "name": "stderr",
     "output_type": "stream",
     "text": [
      "Processing all avatar pose tasks:  57%|█████▋    | 68/120 [1:37:28<1:05:35, 75.69s/it]"
     ]
    },
    {
     "name": "stdout",
     "output_type": "stream",
     "text": [
      "✓ Generated: /home/is/lathifgalih-k/research_naist/multimodal-clone/clone-video/edtalk-exp/EDTalk/results/test_raw/avatar_pose/RAW/S006_avatar_00_XT_S006_BBP_cloned.mp4\n",
      "Processing: S006_avatar_00_YT_S006_BBP_cloned.mp4\n",
      "Avatar: S006_avatar_00.png\n",
      "Audio: YT_S006_BBP_cloned.wav\n",
      "Pose video: S006_02_BBP_NORMAL_color_25fps_6sec.mp4\n"
     ]
    },
    {
     "name": "stderr",
     "output_type": "stream",
     "text": [
      "Processing all avatar pose tasks:  57%|█████▊    | 69/120 [1:38:28<1:00:29, 71.17s/it]"
     ]
    },
    {
     "name": "stdout",
     "output_type": "stream",
     "text": [
      "✓ Generated: /home/is/lathifgalih-k/research_naist/multimodal-clone/clone-video/edtalk-exp/EDTalk/results/test_raw/avatar_pose/RAW/S006_avatar_00_YT_S006_BBP_cloned.mp4\n",
      "Processing: S006_avatar_00_CV_S006_cloned.mp4\n",
      "Avatar: S006_avatar_00.png\n",
      "Audio: CV_S006_VCTK_cloned.wav\n",
      "Pose video: S006_02_BBP_NORMAL_color_25fps_6sec.mp4\n"
     ]
    },
    {
     "name": "stderr",
     "output_type": "stream",
     "text": [
      "Processing all avatar pose tasks:  58%|█████▊    | 70/120 [1:39:39<59:09, 70.99s/it]  "
     ]
    },
    {
     "name": "stdout",
     "output_type": "stream",
     "text": [
      "✓ Generated: /home/is/lathifgalih-k/research_naist/multimodal-clone/clone-video/edtalk-exp/EDTalk/results/test_vctk/avatar_pose/VCTK/S006_avatar_00_CV_S006_cloned.mp4\n",
      "Processing: S006_avatar_00_XT_S006_cloned.mp4\n",
      "Avatar: S006_avatar_00.png\n",
      "Audio: XT_S006_VCTK_cloned.wav\n",
      "Pose video: S006_02_BBP_NORMAL_color_25fps_6sec.mp4\n"
     ]
    },
    {
     "name": "stderr",
     "output_type": "stream",
     "text": [
      "Processing all avatar pose tasks:  59%|█████▉    | 71/120 [1:40:46<57:04, 69.89s/it]"
     ]
    },
    {
     "name": "stdout",
     "output_type": "stream",
     "text": [
      "✓ Generated: /home/is/lathifgalih-k/research_naist/multimodal-clone/clone-video/edtalk-exp/EDTalk/results/test_vctk/avatar_pose/VCTK/S006_avatar_00_XT_S006_cloned.mp4\n",
      "Processing: S006_avatar_00_YT_S006_cloned.mp4\n",
      "Avatar: S006_avatar_00.png\n",
      "Audio: YT_S006_VCTK_cloned.wav\n",
      "Pose video: S006_02_BBP_NORMAL_color_25fps_6sec.mp4\n"
     ]
    },
    {
     "name": "stderr",
     "output_type": "stream",
     "text": [
      "Processing all avatar pose tasks:  60%|██████    | 72/120 [1:41:47<53:45, 67.19s/it]"
     ]
    },
    {
     "name": "stdout",
     "output_type": "stream",
     "text": [
      "✓ Generated: /home/is/lathifgalih-k/research_naist/multimodal-clone/clone-video/edtalk-exp/EDTalk/results/test_vctk/avatar_pose/VCTK/S006_avatar_00_YT_S006_cloned.mp4\n",
      "Processing: S008_avatar_00_CV_S008_BBP_cloned.mp4\n",
      "Avatar: S008_avatar_00.png\n",
      "Audio: CV_S008_BBP_cloned.wav\n",
      "Pose video: S008_02_BBP_NORMAL_color_25fps_6sec.mp4\n"
     ]
    },
    {
     "name": "stderr",
     "output_type": "stream",
     "text": [
      "Processing all avatar pose tasks:  61%|██████    | 73/120 [1:43:15<57:28, 73.36s/it]"
     ]
    },
    {
     "name": "stdout",
     "output_type": "stream",
     "text": [
      "✓ Generated: /home/is/lathifgalih-k/research_naist/multimodal-clone/clone-video/edtalk-exp/EDTalk/results/test_raw/avatar_pose/RAW/S008_avatar_00_CV_S008_BBP_cloned.mp4\n",
      "Processing: S008_avatar_00_XT_S008_BBP_cloned.mp4\n",
      "Avatar: S008_avatar_00.png\n",
      "Audio: XT_S008_BBP_cloned.wav\n",
      "Pose video: S008_02_BBP_NORMAL_color_25fps_6sec.mp4\n"
     ]
    },
    {
     "name": "stderr",
     "output_type": "stream",
     "text": [
      "Processing all avatar pose tasks:  62%|██████▏   | 74/120 [1:44:28<56:06, 73.18s/it]"
     ]
    },
    {
     "name": "stdout",
     "output_type": "stream",
     "text": [
      "✓ Generated: /home/is/lathifgalih-k/research_naist/multimodal-clone/clone-video/edtalk-exp/EDTalk/results/test_raw/avatar_pose/RAW/S008_avatar_00_XT_S008_BBP_cloned.mp4\n",
      "Processing: S008_avatar_00_YT_S008_BBP_cloned.mp4\n",
      "Avatar: S008_avatar_00.png\n",
      "Audio: YT_S008_BBP_cloned.wav\n",
      "Pose video: S008_02_BBP_NORMAL_color_25fps_6sec.mp4\n"
     ]
    },
    {
     "name": "stderr",
     "output_type": "stream",
     "text": [
      "Processing all avatar pose tasks:  62%|██████▎   | 75/120 [1:45:41<54:57, 73.27s/it]"
     ]
    },
    {
     "name": "stdout",
     "output_type": "stream",
     "text": [
      "✓ Generated: /home/is/lathifgalih-k/research_naist/multimodal-clone/clone-video/edtalk-exp/EDTalk/results/test_raw/avatar_pose/RAW/S008_avatar_00_YT_S008_BBP_cloned.mp4\n",
      "Processing: S008_avatar_00_CV_S008_cloned.mp4\n",
      "Avatar: S008_avatar_00.png\n",
      "Audio: CV_S008_VCTK_cloned.wav\n",
      "Pose video: S008_02_BBP_NORMAL_color_25fps_6sec.mp4\n"
     ]
    },
    {
     "name": "stderr",
     "output_type": "stream",
     "text": [
      "Processing all avatar pose tasks:  63%|██████▎   | 76/120 [1:46:39<50:19, 68.63s/it]"
     ]
    },
    {
     "name": "stdout",
     "output_type": "stream",
     "text": [
      "✓ Generated: /home/is/lathifgalih-k/research_naist/multimodal-clone/clone-video/edtalk-exp/EDTalk/results/test_vctk/avatar_pose/VCTK/S008_avatar_00_CV_S008_cloned.mp4\n",
      "Processing: S008_avatar_00_XT_S008_cloned.mp4\n",
      "Avatar: S008_avatar_00.png\n",
      "Audio: XT_S008_VCTK_cloned.wav\n",
      "Pose video: S008_02_BBP_NORMAL_color_25fps_6sec.mp4\n"
     ]
    },
    {
     "name": "stderr",
     "output_type": "stream",
     "text": [
      "Processing all avatar pose tasks:  64%|██████▍   | 77/120 [1:48:08<53:34, 74.75s/it]"
     ]
    },
    {
     "name": "stdout",
     "output_type": "stream",
     "text": [
      "✓ Generated: /home/is/lathifgalih-k/research_naist/multimodal-clone/clone-video/edtalk-exp/EDTalk/results/test_vctk/avatar_pose/VCTK/S008_avatar_00_XT_S008_cloned.mp4\n",
      "Processing: S008_avatar_00_YT_S008_cloned.mp4\n",
      "Avatar: S008_avatar_00.png\n",
      "Audio: YT_S008_VCTK_cloned.wav\n",
      "Pose video: S008_02_BBP_NORMAL_color_25fps_6sec.mp4\n"
     ]
    },
    {
     "name": "stderr",
     "output_type": "stream",
     "text": [
      "Processing all avatar pose tasks:  65%|██████▌   | 78/120 [1:49:09<49:30, 70.72s/it]"
     ]
    },
    {
     "name": "stdout",
     "output_type": "stream",
     "text": [
      "✓ Generated: /home/is/lathifgalih-k/research_naist/multimodal-clone/clone-video/edtalk-exp/EDTalk/results/test_vctk/avatar_pose/VCTK/S008_avatar_00_YT_S008_cloned.mp4\n",
      "Processing: S002_avatar_00_CV_S002_PA_cloned.mp4\n",
      "Avatar: S002_avatar_00.png\n",
      "Audio: CV_S002_PA_cloned.wav\n",
      "Pose video: S002_02_DDK_PA_color_25fps_6sec.mp4\n"
     ]
    },
    {
     "name": "stderr",
     "output_type": "stream",
     "text": [
      "Processing all avatar pose tasks:  66%|██████▌   | 79/120 [1:50:35<51:17, 75.07s/it]"
     ]
    },
    {
     "name": "stdout",
     "output_type": "stream",
     "text": [
      "✓ Generated: /home/is/lathifgalih-k/research_naist/multimodal-clone/clone-video/edtalk-exp/EDTalk/results/test_raw/avatar_pose/RAW/S002_avatar_00_CV_S002_PA_cloned.mp4\n",
      "Processing: S002_avatar_00_XT_S002_PA_cloned.mp4\n",
      "Avatar: S002_avatar_00.png\n",
      "Audio: XT_S002_PA_cloned.wav\n",
      "Pose video: S002_02_DDK_PA_color_25fps_6sec.mp4\n"
     ]
    },
    {
     "name": "stderr",
     "output_type": "stream",
     "text": [
      "Processing all avatar pose tasks:  67%|██████▋   | 80/120 [1:52:03<52:43, 79.09s/it]"
     ]
    },
    {
     "name": "stdout",
     "output_type": "stream",
     "text": [
      "✓ Generated: /home/is/lathifgalih-k/research_naist/multimodal-clone/clone-video/edtalk-exp/EDTalk/results/test_raw/avatar_pose/RAW/S002_avatar_00_XT_S002_PA_cloned.mp4\n",
      "Processing: S002_avatar_00_YT_S002_PA_cloned.mp4\n",
      "Avatar: S002_avatar_00.png\n",
      "Audio: YT_S002_PA_cloned.wav\n",
      "Pose video: S002_02_DDK_PA_color_25fps_6sec.mp4\n"
     ]
    },
    {
     "name": "stderr",
     "output_type": "stream",
     "text": [
      "Processing all avatar pose tasks:  68%|██████▊   | 81/120 [1:53:01<47:15, 72.70s/it]"
     ]
    },
    {
     "name": "stdout",
     "output_type": "stream",
     "text": [
      "✓ Generated: /home/is/lathifgalih-k/research_naist/multimodal-clone/clone-video/edtalk-exp/EDTalk/results/test_raw/avatar_pose/RAW/S002_avatar_00_YT_S002_PA_cloned.mp4\n",
      "Processing: S002_avatar_00_CV_S002_cloned.mp4\n",
      "Avatar: S002_avatar_00.png\n",
      "Audio: CV_S002_VCTK_cloned.wav\n",
      "Pose video: S002_02_DDK_PA_color_25fps_6sec.mp4\n"
     ]
    },
    {
     "name": "stderr",
     "output_type": "stream",
     "text": [
      "Processing all avatar pose tasks:  68%|██████▊   | 82/120 [1:54:06<44:33, 70.35s/it]"
     ]
    },
    {
     "name": "stdout",
     "output_type": "stream",
     "text": [
      "✓ Generated: /home/is/lathifgalih-k/research_naist/multimodal-clone/clone-video/edtalk-exp/EDTalk/results/test_vctk/avatar_pose/VCTK/S002_avatar_00_CV_S002_cloned.mp4\n",
      "Processing: S002_avatar_00_XT_S002_cloned.mp4\n",
      "Avatar: S002_avatar_00.png\n",
      "Audio: XT_S002_VCTK_cloned.wav\n",
      "Pose video: S002_02_DDK_PA_color_25fps_6sec.mp4\n"
     ]
    },
    {
     "name": "stderr",
     "output_type": "stream",
     "text": [
      "Processing all avatar pose tasks:  69%|██████▉   | 83/120 [1:55:27<45:22, 73.59s/it]"
     ]
    },
    {
     "name": "stdout",
     "output_type": "stream",
     "text": [
      "✓ Generated: /home/is/lathifgalih-k/research_naist/multimodal-clone/clone-video/edtalk-exp/EDTalk/results/test_vctk/avatar_pose/VCTK/S002_avatar_00_XT_S002_cloned.mp4\n",
      "Processing: S002_avatar_00_YT_S002_cloned.mp4\n",
      "Avatar: S002_avatar_00.png\n",
      "Audio: YT_S002_VCTK_cloned.wav\n",
      "Pose video: S002_02_DDK_PA_color_25fps_6sec.mp4\n"
     ]
    },
    {
     "name": "stderr",
     "output_type": "stream",
     "text": [
      "Processing all avatar pose tasks:  70%|███████   | 84/120 [1:56:23<41:01, 68.38s/it]"
     ]
    },
    {
     "name": "stdout",
     "output_type": "stream",
     "text": [
      "✓ Generated: /home/is/lathifgalih-k/research_naist/multimodal-clone/clone-video/edtalk-exp/EDTalk/results/test_vctk/avatar_pose/VCTK/S002_avatar_00_YT_S002_cloned.mp4\n",
      "Processing: S011_avatar_02_CV_S011_BBP_cloned.mp4\n",
      "Avatar: S011_avatar_02.png\n",
      "Audio: CV_S011_BBP_cloned.wav\n",
      "Pose video: S011_02_BBP_NORMAL_color_25fps_6sec.mp4\n"
     ]
    },
    {
     "name": "stderr",
     "output_type": "stream",
     "text": [
      "Processing all avatar pose tasks:  71%|███████   | 85/120 [1:57:40<41:22, 70.94s/it]"
     ]
    },
    {
     "name": "stdout",
     "output_type": "stream",
     "text": [
      "✓ Generated: /home/is/lathifgalih-k/research_naist/multimodal-clone/clone-video/edtalk-exp/EDTalk/results/test_raw/avatar_pose/RAW/S011_avatar_02_CV_S011_BBP_cloned.mp4\n",
      "Processing: S011_avatar_02_XT_S011_BBP_cloned.mp4\n",
      "Avatar: S011_avatar_02.png\n",
      "Audio: XT_S011_BBP_cloned.wav\n",
      "Pose video: S011_02_BBP_NORMAL_color_25fps_6sec.mp4\n"
     ]
    },
    {
     "name": "stderr",
     "output_type": "stream",
     "text": [
      "Processing all avatar pose tasks:  72%|███████▏  | 86/120 [1:59:06<42:43, 75.39s/it]"
     ]
    },
    {
     "name": "stdout",
     "output_type": "stream",
     "text": [
      "✓ Generated: /home/is/lathifgalih-k/research_naist/multimodal-clone/clone-video/edtalk-exp/EDTalk/results/test_raw/avatar_pose/RAW/S011_avatar_02_XT_S011_BBP_cloned.mp4\n",
      "Processing: S011_avatar_02_YT_S011_BBP_cloned.mp4\n",
      "Avatar: S011_avatar_02.png\n",
      "Audio: YT_S011_BBP_cloned.wav\n",
      "Pose video: S011_02_BBP_NORMAL_color_25fps_6sec.mp4\n"
     ]
    },
    {
     "name": "stderr",
     "output_type": "stream",
     "text": [
      "Processing all avatar pose tasks:  72%|███████▎  | 87/120 [2:00:15<40:23, 73.44s/it]"
     ]
    },
    {
     "name": "stdout",
     "output_type": "stream",
     "text": [
      "✓ Generated: /home/is/lathifgalih-k/research_naist/multimodal-clone/clone-video/edtalk-exp/EDTalk/results/test_raw/avatar_pose/RAW/S011_avatar_02_YT_S011_BBP_cloned.mp4\n",
      "Processing: S011_avatar_02_CV_S011_cloned.mp4\n",
      "Avatar: S011_avatar_02.png\n",
      "Audio: CV_S011_VCTK_cloned.wav\n",
      "Pose video: S011_02_BBP_NORMAL_color_25fps_6sec.mp4\n"
     ]
    },
    {
     "name": "stderr",
     "output_type": "stream",
     "text": [
      "Processing all avatar pose tasks:  73%|███████▎  | 88/120 [2:01:17<37:23, 70.12s/it]"
     ]
    },
    {
     "name": "stdout",
     "output_type": "stream",
     "text": [
      "✓ Generated: /home/is/lathifgalih-k/research_naist/multimodal-clone/clone-video/edtalk-exp/EDTalk/results/test_vctk/avatar_pose/VCTK/S011_avatar_02_CV_S011_cloned.mp4\n",
      "Processing: S011_avatar_02_XT_S011_cloned.mp4\n",
      "Avatar: S011_avatar_02.png\n",
      "Audio: XT_S011_VCTK_cloned.wav\n",
      "Pose video: S011_02_BBP_NORMAL_color_25fps_6sec.mp4\n"
     ]
    },
    {
     "name": "stderr",
     "output_type": "stream",
     "text": [
      "Processing all avatar pose tasks:  74%|███████▍  | 89/120 [2:02:25<35:51, 69.40s/it]"
     ]
    },
    {
     "name": "stdout",
     "output_type": "stream",
     "text": [
      "✓ Generated: /home/is/lathifgalih-k/research_naist/multimodal-clone/clone-video/edtalk-exp/EDTalk/results/test_vctk/avatar_pose/VCTK/S011_avatar_02_XT_S011_cloned.mp4\n",
      "Processing: S011_avatar_02_YT_S011_cloned.mp4\n",
      "Avatar: S011_avatar_02.png\n",
      "Audio: YT_S011_VCTK_cloned.wav\n",
      "Pose video: S011_02_BBP_NORMAL_color_25fps_6sec.mp4\n"
     ]
    },
    {
     "name": "stderr",
     "output_type": "stream",
     "text": [
      "Processing all avatar pose tasks:  75%|███████▌  | 90/120 [2:03:27<33:38, 67.27s/it]"
     ]
    },
    {
     "name": "stdout",
     "output_type": "stream",
     "text": [
      "✓ Generated: /home/is/lathifgalih-k/research_naist/multimodal-clone/clone-video/edtalk-exp/EDTalk/results/test_vctk/avatar_pose/VCTK/S011_avatar_02_YT_S011_cloned.mp4\n",
      "Processing: S005_avatar_01_CV_S005_BBP_cloned.mp4\n",
      "Avatar: S005_avatar_01.png\n",
      "Audio: CV_S005_BBP_cloned.wav\n",
      "Pose video: S005_02_BBP_NORMAL_color_25fps_6sec.mp4\n"
     ]
    },
    {
     "name": "stderr",
     "output_type": "stream",
     "text": [
      "Processing all avatar pose tasks:  76%|███████▌  | 91/120 [2:04:44<33:58, 70.29s/it]"
     ]
    },
    {
     "name": "stdout",
     "output_type": "stream",
     "text": [
      "✓ Generated: /home/is/lathifgalih-k/research_naist/multimodal-clone/clone-video/edtalk-exp/EDTalk/results/test_raw/avatar_pose/RAW/S005_avatar_01_CV_S005_BBP_cloned.mp4\n",
      "Processing: S005_avatar_01_XT_S005_BBP_cloned.mp4\n",
      "Avatar: S005_avatar_01.png\n",
      "Audio: XT_S005_BBP_cloned.wav\n",
      "Pose video: S005_02_BBP_NORMAL_color_25fps_6sec.mp4\n"
     ]
    },
    {
     "name": "stderr",
     "output_type": "stream",
     "text": [
      "Processing all avatar pose tasks:  77%|███████▋  | 92/120 [2:06:02<33:49, 72.47s/it]"
     ]
    },
    {
     "name": "stdout",
     "output_type": "stream",
     "text": [
      "✓ Generated: /home/is/lathifgalih-k/research_naist/multimodal-clone/clone-video/edtalk-exp/EDTalk/results/test_raw/avatar_pose/RAW/S005_avatar_01_XT_S005_BBP_cloned.mp4\n",
      "Processing: S005_avatar_01_YT_S005_BBP_cloned.mp4\n",
      "Avatar: S005_avatar_01.png\n",
      "Audio: YT_S005_BBP_cloned.wav\n",
      "Pose video: S005_02_BBP_NORMAL_color_25fps_6sec.mp4\n"
     ]
    },
    {
     "name": "stderr",
     "output_type": "stream",
     "text": [
      "Processing all avatar pose tasks:  78%|███████▊  | 93/120 [2:07:25<33:58, 75.51s/it]"
     ]
    },
    {
     "name": "stdout",
     "output_type": "stream",
     "text": [
      "✓ Generated: /home/is/lathifgalih-k/research_naist/multimodal-clone/clone-video/edtalk-exp/EDTalk/results/test_raw/avatar_pose/RAW/S005_avatar_01_YT_S005_BBP_cloned.mp4\n",
      "Processing: S005_avatar_01_CV_S005_cloned.mp4\n",
      "Avatar: S005_avatar_01.png\n",
      "Audio: CV_S005_VCTK_cloned.wav\n",
      "Pose video: S005_02_BBP_NORMAL_color_25fps_6sec.mp4\n"
     ]
    },
    {
     "name": "stderr",
     "output_type": "stream",
     "text": [
      "Processing all avatar pose tasks:  78%|███████▊  | 94/120 [2:08:33<31:50, 73.47s/it]"
     ]
    },
    {
     "name": "stdout",
     "output_type": "stream",
     "text": [
      "✓ Generated: /home/is/lathifgalih-k/research_naist/multimodal-clone/clone-video/edtalk-exp/EDTalk/results/test_vctk/avatar_pose/VCTK/S005_avatar_01_CV_S005_cloned.mp4\n",
      "Processing: S005_avatar_01_XT_S005_cloned.mp4\n",
      "Avatar: S005_avatar_01.png\n",
      "Audio: XT_S005_VCTK_cloned.wav\n",
      "Pose video: S005_02_BBP_NORMAL_color_25fps_6sec.mp4\n"
     ]
    },
    {
     "name": "stderr",
     "output_type": "stream",
     "text": [
      "Processing all avatar pose tasks:  79%|███████▉  | 95/120 [2:09:44<30:16, 72.64s/it]"
     ]
    },
    {
     "name": "stdout",
     "output_type": "stream",
     "text": [
      "✓ Generated: /home/is/lathifgalih-k/research_naist/multimodal-clone/clone-video/edtalk-exp/EDTalk/results/test_vctk/avatar_pose/VCTK/S005_avatar_01_XT_S005_cloned.mp4\n",
      "Processing: S005_avatar_01_YT_S005_cloned.mp4\n",
      "Avatar: S005_avatar_01.png\n",
      "Audio: YT_S005_VCTK_cloned.wav\n",
      "Pose video: S005_02_BBP_NORMAL_color_25fps_6sec.mp4\n"
     ]
    },
    {
     "name": "stderr",
     "output_type": "stream",
     "text": [
      "Processing all avatar pose tasks:  80%|████████  | 96/120 [2:10:51<28:21, 70.91s/it]"
     ]
    },
    {
     "name": "stdout",
     "output_type": "stream",
     "text": [
      "✓ Generated: /home/is/lathifgalih-k/research_naist/multimodal-clone/clone-video/edtalk-exp/EDTalk/results/test_vctk/avatar_pose/VCTK/S005_avatar_01_YT_S005_cloned.mp4\n",
      "Processing: S007_avatar_01_CV_S007_BBP_cloned.mp4\n",
      "Avatar: S007_avatar_01.png\n",
      "Audio: CV_S007_BBP_cloned.wav\n",
      "Pose video: S007_02_BBP_NORMAL_color_25fps_6sec.mp4\n"
     ]
    },
    {
     "name": "stderr",
     "output_type": "stream",
     "text": [
      "Processing all avatar pose tasks:  81%|████████  | 97/120 [2:12:06<27:40, 72.18s/it]"
     ]
    },
    {
     "name": "stdout",
     "output_type": "stream",
     "text": [
      "✓ Generated: /home/is/lathifgalih-k/research_naist/multimodal-clone/clone-video/edtalk-exp/EDTalk/results/test_raw/avatar_pose/RAW/S007_avatar_01_CV_S007_BBP_cloned.mp4\n",
      "Processing: S007_avatar_01_XT_S007_BBP_cloned.mp4\n",
      "Avatar: S007_avatar_01.png\n",
      "Audio: XT_S007_BBP_cloned.wav\n",
      "Pose video: S007_02_BBP_NORMAL_color_25fps_6sec.mp4\n"
     ]
    },
    {
     "name": "stderr",
     "output_type": "stream",
     "text": [
      "Processing all avatar pose tasks:  82%|████████▏ | 98/120 [2:13:25<27:10, 74.10s/it]"
     ]
    },
    {
     "name": "stdout",
     "output_type": "stream",
     "text": [
      "✓ Generated: /home/is/lathifgalih-k/research_naist/multimodal-clone/clone-video/edtalk-exp/EDTalk/results/test_raw/avatar_pose/RAW/S007_avatar_01_XT_S007_BBP_cloned.mp4\n",
      "Processing: S007_avatar_01_YT_S007_BBP_cloned.mp4\n",
      "Avatar: S007_avatar_01.png\n",
      "Audio: YT_S007_BBP_cloned.wav\n",
      "Pose video: S007_02_BBP_NORMAL_color_25fps_6sec.mp4\n"
     ]
    },
    {
     "name": "stderr",
     "output_type": "stream",
     "text": [
      "Processing all avatar pose tasks:  82%|████████▎ | 99/120 [2:14:37<25:48, 73.73s/it]"
     ]
    },
    {
     "name": "stdout",
     "output_type": "stream",
     "text": [
      "✓ Generated: /home/is/lathifgalih-k/research_naist/multimodal-clone/clone-video/edtalk-exp/EDTalk/results/test_raw/avatar_pose/RAW/S007_avatar_01_YT_S007_BBP_cloned.mp4\n",
      "Processing: S007_avatar_01_CV_S007_cloned.mp4\n",
      "Avatar: S007_avatar_01.png\n",
      "Audio: CV_S007_VCTK_cloned.wav\n",
      "Pose video: S007_02_BBP_NORMAL_color_25fps_6sec.mp4\n"
     ]
    },
    {
     "name": "stderr",
     "output_type": "stream",
     "text": [
      "Processing all avatar pose tasks:  83%|████████▎ | 100/120 [2:15:53<24:42, 74.15s/it]"
     ]
    },
    {
     "name": "stdout",
     "output_type": "stream",
     "text": [
      "✓ Generated: /home/is/lathifgalih-k/research_naist/multimodal-clone/clone-video/edtalk-exp/EDTalk/results/test_vctk/avatar_pose/VCTK/S007_avatar_01_CV_S007_cloned.mp4\n",
      "Processing: S007_avatar_01_XT_S007_cloned.mp4\n",
      "Avatar: S007_avatar_01.png\n",
      "Audio: XT_S007_VCTK_cloned.wav\n",
      "Pose video: S007_02_BBP_NORMAL_color_25fps_6sec.mp4\n"
     ]
    },
    {
     "name": "stderr",
     "output_type": "stream",
     "text": [
      "Processing all avatar pose tasks:  84%|████████▍ | 101/120 [2:17:00<22:48, 72.01s/it]"
     ]
    },
    {
     "name": "stdout",
     "output_type": "stream",
     "text": [
      "✓ Generated: /home/is/lathifgalih-k/research_naist/multimodal-clone/clone-video/edtalk-exp/EDTalk/results/test_vctk/avatar_pose/VCTK/S007_avatar_01_XT_S007_cloned.mp4\n",
      "Processing: S007_avatar_01_YT_S007_cloned.mp4\n",
      "Avatar: S007_avatar_01.png\n",
      "Audio: YT_S007_VCTK_cloned.wav\n",
      "Pose video: S007_02_BBP_NORMAL_color_25fps_6sec.mp4\n"
     ]
    },
    {
     "name": "stderr",
     "output_type": "stream",
     "text": [
      "Processing all avatar pose tasks:  85%|████████▌ | 102/120 [2:18:05<20:59, 70.00s/it]"
     ]
    },
    {
     "name": "stdout",
     "output_type": "stream",
     "text": [
      "✓ Generated: /home/is/lathifgalih-k/research_naist/multimodal-clone/clone-video/edtalk-exp/EDTalk/results/test_vctk/avatar_pose/VCTK/S007_avatar_01_YT_S007_cloned.mp4\n",
      "Processing: S013_avatar_01_CV_S013_BBP_cloned.mp4\n",
      "Avatar: S013_avatar_01.png\n",
      "Audio: CV_S013_BBP_cloned.wav\n",
      "Pose video: S013_02_BBP_NORMAL_color_25fps_6sec.mp4\n"
     ]
    },
    {
     "name": "stderr",
     "output_type": "stream",
     "text": [
      "Processing all avatar pose tasks:  86%|████████▌ | 103/120 [2:19:10<19:27, 68.69s/it]"
     ]
    },
    {
     "name": "stdout",
     "output_type": "stream",
     "text": [
      "✓ Generated: /home/is/lathifgalih-k/research_naist/multimodal-clone/clone-video/edtalk-exp/EDTalk/results/test_raw/avatar_pose/RAW/S013_avatar_01_CV_S013_BBP_cloned.mp4\n",
      "Processing: S013_avatar_01_XT_S013_BBP_cloned.mp4\n",
      "Avatar: S013_avatar_01.png\n",
      "Audio: XT_S013_BBP_cloned.wav\n",
      "Pose video: S013_02_BBP_NORMAL_color_25fps_6sec.mp4\n"
     ]
    },
    {
     "name": "stderr",
     "output_type": "stream",
     "text": [
      "Processing all avatar pose tasks:  87%|████████▋ | 104/120 [2:20:39<19:52, 74.52s/it]"
     ]
    },
    {
     "name": "stdout",
     "output_type": "stream",
     "text": [
      "✓ Generated: /home/is/lathifgalih-k/research_naist/multimodal-clone/clone-video/edtalk-exp/EDTalk/results/test_raw/avatar_pose/RAW/S013_avatar_01_XT_S013_BBP_cloned.mp4\n",
      "Processing: S013_avatar_01_YT_S013_BBP_cloned.mp4\n",
      "Avatar: S013_avatar_01.png\n",
      "Audio: YT_S013_BBP_cloned.wav\n",
      "Pose video: S013_02_BBP_NORMAL_color_25fps_6sec.mp4\n"
     ]
    },
    {
     "name": "stderr",
     "output_type": "stream",
     "text": [
      "Processing all avatar pose tasks:  88%|████████▊ | 105/120 [2:21:37<17:26, 69.78s/it]"
     ]
    },
    {
     "name": "stdout",
     "output_type": "stream",
     "text": [
      "✓ Generated: /home/is/lathifgalih-k/research_naist/multimodal-clone/clone-video/edtalk-exp/EDTalk/results/test_raw/avatar_pose/RAW/S013_avatar_01_YT_S013_BBP_cloned.mp4\n",
      "Processing: S013_avatar_01_CV_S013_cloned.mp4\n",
      "Avatar: S013_avatar_01.png\n",
      "Audio: CV_S013_VCTK_cloned.wav\n",
      "Pose video: S013_02_BBP_NORMAL_color_25fps_6sec.mp4\n"
     ]
    },
    {
     "name": "stderr",
     "output_type": "stream",
     "text": [
      "Processing all avatar pose tasks:  88%|████████▊ | 106/120 [2:22:46<16:10, 69.35s/it]"
     ]
    },
    {
     "name": "stdout",
     "output_type": "stream",
     "text": [
      "✓ Generated: /home/is/lathifgalih-k/research_naist/multimodal-clone/clone-video/edtalk-exp/EDTalk/results/test_vctk/avatar_pose/VCTK/S013_avatar_01_CV_S013_cloned.mp4\n",
      "Processing: S013_avatar_01_XT_S013_cloned.mp4\n",
      "Avatar: S013_avatar_01.png\n",
      "Audio: XT_S013_VCTK_cloned.wav\n",
      "Pose video: S013_02_BBP_NORMAL_color_25fps_6sec.mp4\n"
     ]
    },
    {
     "name": "stderr",
     "output_type": "stream",
     "text": [
      "Processing all avatar pose tasks:  89%|████████▉ | 107/120 [2:23:45<14:22, 66.38s/it]"
     ]
    },
    {
     "name": "stdout",
     "output_type": "stream",
     "text": [
      "✓ Generated: /home/is/lathifgalih-k/research_naist/multimodal-clone/clone-video/edtalk-exp/EDTalk/results/test_vctk/avatar_pose/VCTK/S013_avatar_01_XT_S013_cloned.mp4\n",
      "Processing: S013_avatar_01_YT_S013_cloned.mp4\n",
      "Avatar: S013_avatar_01.png\n",
      "Audio: YT_S013_VCTK_cloned.wav\n",
      "Pose video: S013_02_BBP_NORMAL_color_25fps_6sec.mp4\n"
     ]
    },
    {
     "name": "stderr",
     "output_type": "stream",
     "text": [
      "Processing all avatar pose tasks:  90%|█████████ | 108/120 [2:24:44<12:49, 64.09s/it]"
     ]
    },
    {
     "name": "stdout",
     "output_type": "stream",
     "text": [
      "✓ Generated: /home/is/lathifgalih-k/research_naist/multimodal-clone/clone-video/edtalk-exp/EDTalk/results/test_vctk/avatar_pose/VCTK/S013_avatar_01_YT_S013_cloned.mp4\n",
      "Processing: S003_avatar_03_CV_S003_BBP_cloned.mp4\n",
      "Avatar: S003_avatar_03.png\n",
      "Audio: CV_S003_BBP_cloned.wav\n",
      "Pose video: S003_02_BBP_NORMAL_color_25fps_6sec.mp4\n"
     ]
    },
    {
     "name": "stderr",
     "output_type": "stream",
     "text": [
      "Processing all avatar pose tasks:  91%|█████████ | 109/120 [2:25:54<12:04, 65.90s/it]"
     ]
    },
    {
     "name": "stdout",
     "output_type": "stream",
     "text": [
      "✓ Generated: /home/is/lathifgalih-k/research_naist/multimodal-clone/clone-video/edtalk-exp/EDTalk/results/test_raw/avatar_pose/RAW/S003_avatar_03_CV_S003_BBP_cloned.mp4\n",
      "Processing: S003_avatar_03_XT_S003_BBP_cloned.mp4\n",
      "Avatar: S003_avatar_03.png\n",
      "Audio: XT_S003_BBP_cloned.wav\n",
      "Pose video: S003_02_BBP_NORMAL_color_25fps_6sec.mp4\n"
     ]
    },
    {
     "name": "stderr",
     "output_type": "stream",
     "text": [
      "Processing all avatar pose tasks:  92%|█████████▏| 110/120 [2:27:23<12:08, 72.81s/it]"
     ]
    },
    {
     "name": "stdout",
     "output_type": "stream",
     "text": [
      "✓ Generated: /home/is/lathifgalih-k/research_naist/multimodal-clone/clone-video/edtalk-exp/EDTalk/results/test_raw/avatar_pose/RAW/S003_avatar_03_XT_S003_BBP_cloned.mp4\n",
      "Processing: S003_avatar_03_YT_S003_BBP_cloned.mp4\n",
      "Avatar: S003_avatar_03.png\n",
      "Audio: YT_S003_BBP_cloned.wav\n",
      "Pose video: S003_02_BBP_NORMAL_color_25fps_6sec.mp4\n"
     ]
    },
    {
     "name": "stderr",
     "output_type": "stream",
     "text": [
      "Processing all avatar pose tasks:  92%|█████████▎| 111/120 [2:28:36<10:56, 72.94s/it]"
     ]
    },
    {
     "name": "stdout",
     "output_type": "stream",
     "text": [
      "✓ Generated: /home/is/lathifgalih-k/research_naist/multimodal-clone/clone-video/edtalk-exp/EDTalk/results/test_raw/avatar_pose/RAW/S003_avatar_03_YT_S003_BBP_cloned.mp4\n",
      "Processing: S003_avatar_03_CV_S003_cloned.mp4\n",
      "Avatar: S003_avatar_03.png\n",
      "Audio: CV_S003_VCTK_cloned.wav\n",
      "Pose video: S003_02_BBP_NORMAL_color_25fps_6sec.mp4\n"
     ]
    },
    {
     "name": "stderr",
     "output_type": "stream",
     "text": [
      "Processing all avatar pose tasks:  93%|█████████▎| 112/120 [2:29:53<09:52, 74.11s/it]"
     ]
    },
    {
     "name": "stdout",
     "output_type": "stream",
     "text": [
      "✓ Generated: /home/is/lathifgalih-k/research_naist/multimodal-clone/clone-video/edtalk-exp/EDTalk/results/test_vctk/avatar_pose/VCTK/S003_avatar_03_CV_S003_cloned.mp4\n",
      "Processing: S003_avatar_03_XT_S003_cloned.mp4\n",
      "Avatar: S003_avatar_03.png\n",
      "Audio: XT_S003_VCTK_cloned.wav\n",
      "Pose video: S003_02_BBP_NORMAL_color_25fps_6sec.mp4\n"
     ]
    },
    {
     "name": "stderr",
     "output_type": "stream",
     "text": [
      "Processing all avatar pose tasks:  94%|█████████▍| 113/120 [2:31:05<08:34, 73.43s/it]"
     ]
    },
    {
     "name": "stdout",
     "output_type": "stream",
     "text": [
      "✓ Generated: /home/is/lathifgalih-k/research_naist/multimodal-clone/clone-video/edtalk-exp/EDTalk/results/test_vctk/avatar_pose/VCTK/S003_avatar_03_XT_S003_cloned.mp4\n",
      "Processing: S003_avatar_03_YT_S003_cloned.mp4\n",
      "Avatar: S003_avatar_03.png\n",
      "Audio: YT_S003_VCTK_cloned.wav\n",
      "Pose video: S003_02_BBP_NORMAL_color_25fps_6sec.mp4\n"
     ]
    },
    {
     "name": "stderr",
     "output_type": "stream",
     "text": [
      "Processing all avatar pose tasks:  95%|█████████▌| 114/120 [2:32:05<06:56, 69.48s/it]"
     ]
    },
    {
     "name": "stdout",
     "output_type": "stream",
     "text": [
      "✓ Generated: /home/is/lathifgalih-k/research_naist/multimodal-clone/clone-video/edtalk-exp/EDTalk/results/test_vctk/avatar_pose/VCTK/S003_avatar_03_YT_S003_cloned.mp4\n",
      "Processing: S009_avatar_02_CV_S009_BBP_cloned.mp4\n",
      "Avatar: S009_avatar_02.png\n",
      "Audio: CV_S009_BBP_cloned.wav\n",
      "Pose video: S009_02_BBP_NORMAL_color_25fps_6sec.mp4\n"
     ]
    },
    {
     "name": "stderr",
     "output_type": "stream",
     "text": [
      "Processing all avatar pose tasks:  96%|█████████▌| 115/120 [2:33:18<05:52, 70.59s/it]"
     ]
    },
    {
     "name": "stdout",
     "output_type": "stream",
     "text": [
      "✓ Generated: /home/is/lathifgalih-k/research_naist/multimodal-clone/clone-video/edtalk-exp/EDTalk/results/test_raw/avatar_pose/RAW/S009_avatar_02_CV_S009_BBP_cloned.mp4\n",
      "Processing: S009_avatar_02_XT_S009_BBP_cloned.mp4\n",
      "Avatar: S009_avatar_02.png\n",
      "Audio: XT_S009_BBP_cloned.wav\n",
      "Pose video: S009_02_BBP_NORMAL_color_25fps_6sec.mp4\n"
     ]
    },
    {
     "name": "stderr",
     "output_type": "stream",
     "text": [
      "Processing all avatar pose tasks:  97%|█████████▋| 116/120 [2:34:29<04:42, 70.55s/it]"
     ]
    },
    {
     "name": "stdout",
     "output_type": "stream",
     "text": [
      "✓ Generated: /home/is/lathifgalih-k/research_naist/multimodal-clone/clone-video/edtalk-exp/EDTalk/results/test_raw/avatar_pose/RAW/S009_avatar_02_XT_S009_BBP_cloned.mp4\n",
      "Processing: S009_avatar_02_YT_S009_BBP_cloned.mp4\n",
      "Avatar: S009_avatar_02.png\n",
      "Audio: YT_S009_BBP_cloned.wav\n",
      "Pose video: S009_02_BBP_NORMAL_color_25fps_6sec.mp4\n"
     ]
    },
    {
     "name": "stderr",
     "output_type": "stream",
     "text": [
      "Processing all avatar pose tasks:  98%|█████████▊| 117/120 [2:35:37<03:29, 69.83s/it]"
     ]
    },
    {
     "name": "stdout",
     "output_type": "stream",
     "text": [
      "✓ Generated: /home/is/lathifgalih-k/research_naist/multimodal-clone/clone-video/edtalk-exp/EDTalk/results/test_raw/avatar_pose/RAW/S009_avatar_02_YT_S009_BBP_cloned.mp4\n",
      "Processing: S009_avatar_02_CV_S009_cloned.mp4\n",
      "Avatar: S009_avatar_02.png\n",
      "Audio: CV_S009_VCTK_cloned.wav\n",
      "Pose video: S009_02_BBP_NORMAL_color_25fps_6sec.mp4\n"
     ]
    },
    {
     "name": "stderr",
     "output_type": "stream",
     "text": [
      "Processing all avatar pose tasks:  98%|█████████▊| 118/120 [2:36:37<02:13, 66.87s/it]"
     ]
    },
    {
     "name": "stdout",
     "output_type": "stream",
     "text": [
      "✓ Generated: /home/is/lathifgalih-k/research_naist/multimodal-clone/clone-video/edtalk-exp/EDTalk/results/test_vctk/avatar_pose/VCTK/S009_avatar_02_CV_S009_cloned.mp4\n",
      "Processing: S009_avatar_02_XT_S009_cloned.mp4\n",
      "Avatar: S009_avatar_02.png\n",
      "Audio: XT_S009_VCTK_cloned.wav\n",
      "Pose video: S009_02_BBP_NORMAL_color_25fps_6sec.mp4\n"
     ]
    },
    {
     "name": "stderr",
     "output_type": "stream",
     "text": [
      "Processing all avatar pose tasks:  99%|█████████▉| 119/120 [2:37:39<01:05, 65.38s/it]"
     ]
    },
    {
     "name": "stdout",
     "output_type": "stream",
     "text": [
      "✓ Generated: /home/is/lathifgalih-k/research_naist/multimodal-clone/clone-video/edtalk-exp/EDTalk/results/test_vctk/avatar_pose/VCTK/S009_avatar_02_XT_S009_cloned.mp4\n",
      "Processing: S009_avatar_02_YT_S009_cloned.mp4\n",
      "Avatar: S009_avatar_02.png\n",
      "Audio: YT_S009_VCTK_cloned.wav\n",
      "Pose video: S009_02_BBP_NORMAL_color_25fps_6sec.mp4\n"
     ]
    },
    {
     "name": "stderr",
     "output_type": "stream",
     "text": [
      "Processing all avatar pose tasks: 100%|██████████| 120/120 [2:38:44<00:00, 79.37s/it]"
     ]
    },
    {
     "name": "stdout",
     "output_type": "stream",
     "text": [
      "✓ Generated: /home/is/lathifgalih-k/research_naist/multimodal-clone/clone-video/edtalk-exp/EDTalk/results/test_vctk/avatar_pose/VCTK/S009_avatar_02_YT_S009_cloned.mp4\n"
     ]
    },
    {
     "name": "stderr",
     "output_type": "stream",
     "text": [
      "\n"
     ]
    }
   ],
   "source": [
    "print(\"\\n=== Processing Avatar Images with Original Video Pose ===\")\n",
    "scan_and_process_avatar_files_with_pose()"
   ]
  }
 ],
 "metadata": {
  "kernelspec": {
   "display_name": "EDTalk",
   "language": "python",
   "name": "python3"
  },
  "language_info": {
   "codemirror_mode": {
    "name": "ipython",
    "version": 3
   },
   "file_extension": ".py",
   "mimetype": "text/x-python",
   "name": "python",
   "nbconvert_exporter": "python",
   "pygments_lexer": "ipython3",
   "version": "3.8.20"
  }
 },
 "nbformat": 4,
 "nbformat_minor": 5
}
