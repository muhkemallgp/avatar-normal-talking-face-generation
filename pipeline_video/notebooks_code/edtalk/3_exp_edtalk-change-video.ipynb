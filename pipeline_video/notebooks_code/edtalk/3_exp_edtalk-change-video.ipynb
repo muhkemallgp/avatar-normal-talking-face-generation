{
 "cells": [
  {
   "cell_type": "code",
   "execution_count": 1,
   "id": "9016d878",
   "metadata": {},
   "outputs": [
    {
     "name": "stdout",
     "output_type": "stream",
     "text": [
      "/home/ldap-users-2/lathifgalih-k/clone-video/edtalk-exp/EDTalk\n"
     ]
    }
   ],
   "source": [
    "import os\n",
    "os.getcwd()\n",
    "%cd EDTalk/"
   ]
  },
  {
   "cell_type": "code",
   "execution_count": 2,
   "id": "2d0399c3",
   "metadata": {},
   "outputs": [
    {
     "name": "stdout",
     "output_type": "stream",
     "text": [
      "/home/is/lathifgalih-k/miniconda3/envs/EDTalk/bin/python\n"
     ]
    }
   ],
   "source": [
    "import sys\n",
    "print(sys.executable)"
   ]
  },
  {
   "cell_type": "markdown",
   "id": "f9695932",
   "metadata": {},
   "source": [
    "#### Experiment 1 file generation"
   ]
  },
  {
   "cell_type": "code",
   "execution_count": 3,
   "id": "146a0f87",
   "metadata": {},
   "outputs": [
    {
     "name": "stdout",
     "output_type": "stream",
     "text": [
      "Using CPU mode: False\n",
      "150it [00:02, 51.25it/s]\n",
      "Executing: ffmpeg -i \"/home/is/lathifgalih-k/research_naist/multimodal-clone/clone-video/muse-exp/MuseTalk/data/video/stroke-input/S003_02_BBP_NORMAL_color_25fps_6sec.mp4\" -ss 0.0 -t 5.96 -filter:v \"crop=318:318:163:86, scale=256:256\" \"/home/is/lathifgalih-k/research_naist/multimodal-clone/clone-video/edtalk-exp/EDTalk/test_data/stroke_exp.mp4\" -r 25 -y\n",
      "ffmpeg version 4.4.2 Copyright (c) 2000-2021 the FFmpeg developers\n",
      "  built with gcc 12.3.0 (conda-forge gcc 12.3.0-2)\n",
      "  configuration: --prefix=/home/is/lathifgalih-k/miniconda3/envs/EDTalk --cc=/home/conda/feedstock_root/build_artifacts/ffmpeg_1697113881276/_build_env/bin/x86_64-conda-linux-gnu-cc --cxx=/home/conda/feedstock_root/build_artifacts/ffmpeg_1697113881276/_build_env/bin/x86_64-conda-linux-gnu-c++ --nm=/home/conda/feedstock_root/build_artifacts/ffmpeg_1697113881276/_build_env/bin/x86_64-conda-linux-gnu-nm --ar=/home/conda/feedstock_root/build_artifacts/ffmpeg_1697113881276/_build_env/bin/x86_64-conda-linux-gnu-ar --disable-doc --disable-openssl --enable-avresample --enable-demuxer=dash --enable-hardcoded-tables --enable-libfreetype --enable-libfontconfig --enable-libopenh264 --enable-gnutls --enable-libmp3lame --enable-libvpx --enable-pthreads --enable-vaapi --enable-gpl --enable-libx264 --enable-libx265 --enable-libaom --enable-libsvtav1 --enable-libxml2 --enable-pic --enable-shared --disable-static --enable-version3 --enable-zlib --pkg-config=/home/conda/feedstock_root/build_artifacts/ffmpeg_1697113881276/_build_env/bin/pkg-config\n",
      "  libavutil      56. 70.100 / 56. 70.100\n",
      "  libavcodec     58.134.100 / 58.134.100\n",
      "  libavformat    58. 76.100 / 58. 76.100\n",
      "  libavdevice    58. 13.100 / 58. 13.100\n",
      "  libavfilter     7.110.100 /  7.110.100\n",
      "  libavresample   4.  0.  0 /  4.  0.  0\n",
      "  libswscale      5.  9.100 /  5.  9.100\n",
      "  libswresample   3.  9.100 /  3.  9.100\n",
      "  libpostproc    55.  9.100 / 55.  9.100\n",
      "\u001b[0;33mTrailing option(s) found in the command: may be ignored.\n",
      "\u001b[0mInput #0, mov,mp4,m4a,3gp,3g2,mj2, from '/home/is/lathifgalih-k/research_naist/multimodal-clone/clone-video/muse-exp/MuseTalk/data/video/stroke-input/S003_02_BBP_NORMAL_color_25fps_6sec.mp4':\n",
      "  Metadata:\n",
      "    major_brand     : isom\n",
      "    minor_version   : 512\n",
      "    compatible_brands: isomiso2avc1mp41\n",
      "    encoder         : Lavf61.1.100\n",
      "  Duration: 00:00:06.00, start: 0.000000, bitrate: 1853 kb/s\n",
      "  Stream #0:0(und): Video: h264 (High) (avc1 / 0x31637661), yuv420p, 640x480, 1850 kb/s, 25 fps, 25 tbr, 12800 tbn, 50 tbc (default)\n",
      "    Metadata:\n",
      "      handler_name    : VideoHandler\n",
      "      vendor_id       : [0][0][0][0]\n",
      "      encoder         : Lavc61.3.100 libx264\n",
      "Stream mapping:\n",
      "  Stream #0:0 -> #0:0 (h264 (native) -> h264 (libx264))\n",
      "Press [q] to stop, [?] for help\n",
      "\u001b[1;34m[swscaler @ 0x57beb4303740] \u001b[0m\u001b[0;33mWarning: data is not aligned! This can lead to a speed loss\n",
      "\u001b[0m\u001b[1;36m[libx264 @ 0x57beb3eb7b80] \u001b[0musing cpu capabilities: MMX2 SSE2Fast SSSE3 SSE4.2 AVX FMA3 BMI2 AVX2 AVX512\n",
      "\u001b[1;36m[libx264 @ 0x57beb3eb7b80] \u001b[0mprofile High, level 1.3, 4:2:0, 8-bit\n",
      "\u001b[1;36m[libx264 @ 0x57beb3eb7b80] \u001b[0m264 - core 164 r3095 baee400 - H.264/MPEG-4 AVC codec - Copyleft 2003-2022 - http://www.videolan.org/x264.html - options: cabac=1 ref=3 deblock=1:0:0 analyse=0x3:0x113 me=hex subme=7 psy=1 psy_rd=1.00:0.00 mixed_ref=1 me_range=16 chroma_me=1 trellis=1 8x8dct=1 cqm=0 deadzone=21,11 fast_pskip=1 chroma_qp_offset=-2 threads=8 lookahead_threads=1 sliced_threads=0 nr=0 decimate=1 interlaced=0 bluray_compat=0 constrained_intra=0 bframes=3 b_pyramid=2 b_adapt=1 b_bias=0 direct=1 weightb=1 open_gop=0 weightp=2 keyint=250 keyint_min=25 scenecut=40 intra_refresh=0 rc_lookahead=40 rc=crf mbtree=1 crf=23.0 qcomp=0.60 qpmin=0 qpmax=69 qpstep=4 ip_ratio=1.40 aq=1:1.00\n",
      "Output #0, mp4, to '/home/is/lathifgalih-k/research_naist/multimodal-clone/clone-video/edtalk-exp/EDTalk/test_data/stroke_exp.mp4':\n",
      "  Metadata:\n",
      "    major_brand     : isom\n",
      "    minor_version   : 512\n",
      "    compatible_brands: isomiso2avc1mp41\n",
      "    encoder         : Lavf58.76.100\n",
      "  Stream #0:0(und): Video: h264 (avc1 / 0x31637661), yuv420p(tv, progressive), 256x256, q=2-31, 25 fps, 12800 tbn (default)\n",
      "    Metadata:\n",
      "      handler_name    : VideoHandler\n",
      "      vendor_id       : [0][0][0][0]\n",
      "      encoder         : Lavc58.134.100 libx264\n",
      "    Side data:\n",
      "      cpb: bitrate max/min/avg: 0/0/0 buffer size: 0 vbv_delay: N/A\n",
      "frame=  149 fps=0.0 q=-1.0 Lsize=     115kB time=00:00:05.84 bitrate= 161.9kbits/s speed=27.3x    \n",
      "video:113kB audio:0kB subtitle:0kB other streams:0kB global headers:0kB muxing overhead: 2.290347%\n",
      "\u001b[1;36m[libx264 @ 0x57beb3eb7b80] \u001b[0mframe I:1     Avg QP:23.45  size:  4940\n",
      "\u001b[1;36m[libx264 @ 0x57beb3eb7b80] \u001b[0mframe P:37    Avg QP:23.79  size:  1934\n",
      "\u001b[1;36m[libx264 @ 0x57beb3eb7b80] \u001b[0mframe B:111   Avg QP:25.13  size:   346\n",
      "\u001b[1;36m[libx264 @ 0x57beb3eb7b80] \u001b[0mconsecutive B-frames:  0.7%  0.0%  0.0% 99.3%\n",
      "\u001b[1;36m[libx264 @ 0x57beb3eb7b80] \u001b[0mmb I  I16..4:  2.0% 74.6% 23.4%\n",
      "\u001b[1;36m[libx264 @ 0x57beb3eb7b80] \u001b[0mmb P  I16..4:  1.2%  3.8%  0.2%  P16..4: 55.5% 23.5% 13.5%  0.0%  0.0%    skip: 2.3%\n",
      "\u001b[1;36m[libx264 @ 0x57beb3eb7b80] \u001b[0mmb B  I16..4:  0.2%  0.2%  0.0%  B16..8: 28.0%  2.1%  0.3%  direct: 7.0%  skip:62.3%  L0:43.5% L1:51.5% BI: 5.0%\n",
      "\u001b[1;36m[libx264 @ 0x57beb3eb7b80] \u001b[0m8x8 transform intra:69.4% inter:78.6%\n",
      "\u001b[1;36m[libx264 @ 0x57beb3eb7b80] \u001b[0mcoded y,uvDC,uvAC intra: 57.4% 97.5% 67.1% inter: 15.2% 40.5% 5.1%\n",
      "\u001b[1;36m[libx264 @ 0x57beb3eb7b80] \u001b[0mi16 v,h,dc,p: 34% 12% 42% 12%\n",
      "\u001b[1;36m[libx264 @ 0x57beb3eb7b80] \u001b[0mi8 v,h,dc,ddl,ddr,vr,hd,vl,hu: 15% 10% 28%  5% 10% 10%  7%  9%  6%\n",
      "\u001b[1;36m[libx264 @ 0x57beb3eb7b80] \u001b[0mi4 v,h,dc,ddl,ddr,vr,hd,vl,hu: 28% 12%  7%  6%  9% 12%  9%  8%  7%\n",
      "\u001b[1;36m[libx264 @ 0x57beb3eb7b80] \u001b[0mi8c dc,h,v,p: 66% 15% 13%  6%\n",
      "\u001b[1;36m[libx264 @ 0x57beb3eb7b80] \u001b[0mWeighted P-Frames: Y:0.0% UV:0.0%\n",
      "\u001b[1;36m[libx264 @ 0x57beb3eb7b80] \u001b[0mref P L0: 36.7% 12.6% 37.7% 13.0%\n",
      "\u001b[1;36m[libx264 @ 0x57beb3eb7b80] \u001b[0mref B L0: 73.8% 20.9%  5.3%\n",
      "\u001b[1;36m[libx264 @ 0x57beb3eb7b80] \u001b[0mref B L1: 93.7%  6.3%\n",
      "\u001b[1;36m[libx264 @ 0x57beb3eb7b80] \u001b[0mkb/s:154.21\n",
      "Successfully created: /home/is/lathifgalih-k/research_naist/multimodal-clone/clone-video/edtalk-exp/EDTalk/test_data/stroke_exp.mp4\n"
     ]
    }
   ],
   "source": [
    "!python data_preprocess/crop_video.py --inp /home/is/lathifgalih-k/research_naist/multimodal-clone/clone-video/muse-exp/MuseTalk/data/video/stroke-input/S003_02_BBP_NORMAL_color_25fps_6sec.mp4  --outp /home/is/lathifgalih-k/research_naist/multimodal-clone/clone-video/edtalk-exp/EDTalk/test_data/stroke_exp.mp4"
   ]
  },
  {
   "cell_type": "code",
   "execution_count": 4,
   "id": "b2659fb3",
   "metadata": {},
   "outputs": [
    {
     "name": "stdout",
     "output_type": "stream",
     "text": [
      "==> loading model\n",
      "==> loading data\n",
      "==> running\n",
      "[0.27406862 0.45186276 0.27406862]\n",
      "100%|█████████████████████████████████████████| 121/121 [00:04<00:00, 24.78it/s]\n",
      "ffmpeg version 4.4.2 Copyright (c) 2000-2021 the FFmpeg developers\n",
      "  built with gcc 12.3.0 (conda-forge gcc 12.3.0-2)\n",
      "  configuration: --prefix=/home/is/lathifgalih-k/miniconda3/envs/EDTalk --cc=/home/conda/feedstock_root/build_artifacts/ffmpeg_1697113881276/_build_env/bin/x86_64-conda-linux-gnu-cc --cxx=/home/conda/feedstock_root/build_artifacts/ffmpeg_1697113881276/_build_env/bin/x86_64-conda-linux-gnu-c++ --nm=/home/conda/feedstock_root/build_artifacts/ffmpeg_1697113881276/_build_env/bin/x86_64-conda-linux-gnu-nm --ar=/home/conda/feedstock_root/build_artifacts/ffmpeg_1697113881276/_build_env/bin/x86_64-conda-linux-gnu-ar --disable-doc --disable-openssl --enable-avresample --enable-demuxer=dash --enable-hardcoded-tables --enable-libfreetype --enable-libfontconfig --enable-libopenh264 --enable-gnutls --enable-libmp3lame --enable-libvpx --enable-pthreads --enable-vaapi --enable-gpl --enable-libx264 --enable-libx265 --enable-libaom --enable-libsvtav1 --enable-libxml2 --enable-pic --enable-shared --disable-static --enable-version3 --enable-zlib --pkg-config=/home/conda/feedstock_root/build_artifacts/ffmpeg_1697113881276/_build_env/bin/pkg-config\n",
      "  libavutil      56. 70.100 / 56. 70.100\n",
      "  libavcodec     58.134.100 / 58.134.100\n",
      "  libavformat    58. 76.100 / 58. 76.100\n",
      "  libavdevice    58. 13.100 / 58. 13.100\n",
      "  libavfilter     7.110.100 /  7.110.100\n",
      "  libavresample   4.  0.  0 /  4.  0.  0\n",
      "  libswscale      5.  9.100 /  5.  9.100\n",
      "  libswresample   3.  9.100 /  3.  9.100\n",
      "  libpostproc    55.  9.100 / 55.  9.100\n",
      "Input #0, mov,mp4,m4a,3gp,3g2,mj2, from 'result_exp/S003_video_cloned_croped_temp.mp4':\n",
      "  Metadata:\n",
      "    major_brand     : isom\n",
      "    minor_version   : 512\n",
      "    compatible_brands: isomiso2avc1mp41\n",
      "    encoder         : Lavf58.76.100\n",
      "  Duration: 00:00:04.84, start: 0.000000, bitrate: 980 kb/s\n",
      "  Stream #0:0(und): Video: h264 (High) (avc1 / 0x31637661), yuv420p, 256x256, 976 kb/s, 25 fps, 25 tbr, 12800 tbn, 50 tbc (default)\n",
      "    Metadata:\n",
      "      handler_name    : VideoHandler\n",
      "      vendor_id       : [0][0][0][0]\n",
      "\u001b[0;33mGuessed Channel Layout for Input Stream #1.0 : mono\n",
      "\u001b[0mInput #1, wav, from '/home/is/lathifgalih-k/research_naist/multimodal-clone/clone-video/muse-exp/MuseTalk/data/audio/Stroke-VCTK/CosyVoice2/CV_S003_VCTK_cloned.wav':\n",
      "  Metadata:\n",
      "    encoder         : Lavf58.45.100\n",
      "  Duration: 00:00:04.84, bitrate: 384 kb/s\n",
      "  Stream #1:0: Audio: pcm_s16le ([1][0][0][0] / 0x0001), 24000 Hz, mono, s16, 384 kb/s\n",
      "Stream mapping:\n",
      "  Stream #0:0 -> #0:0 (copy)\n",
      "  Stream #1:0 -> #0:1 (pcm_s16le (native) -> aac (native))\n",
      "Press [q] to stop, [?] for help\n",
      "Output #0, mp4, to 'result_exp/S003_video_cloned_croped.mp4':\n",
      "  Metadata:\n",
      "    major_brand     : isom\n",
      "    minor_version   : 512\n",
      "    compatible_brands: isomiso2avc1mp41\n",
      "    encoder         : Lavf58.76.100\n",
      "  Stream #0:0(und): Video: h264 (High) (avc1 / 0x31637661), yuv420p, 256x256, q=2-31, 976 kb/s, 25 fps, 25 tbr, 12800 tbn, 12800 tbc (default)\n",
      "    Metadata:\n",
      "      handler_name    : VideoHandler\n",
      "      vendor_id       : [0][0][0][0]\n",
      "  Stream #0:1: Audio: aac (LC) (mp4a / 0x6134706D), 24000 Hz, mono, fltp, 69 kb/s\n",
      "    Metadata:\n",
      "      encoder         : Lavc58.134.100 aac\n",
      "frame=  121 fps=0.0 q=-1.0 Lsize=     622kB time=00:00:04.82 bitrate=1057.5kbits/s speed= 224x    \n",
      "video:577kB audio:41kB subtitle:0kB other streams:0kB global headers:0kB muxing overhead: 0.701261%\n",
      "\u001b[1;36m[aac @ 0x556c382f28c0] \u001b[0mQavg: 701.309\n",
      "gfpgan is installed.\n",
      "face enhancer....\n",
      "Face Enhancer:: 100%|█████████████████████████| 121/121 [00:18<00:00,  6.52it/s]\n",
      "Moviepy - Building video result_exp/S003_video_cloned_croped_512.mp4.\n",
      "MoviePy - Writing audio in S003_video_cloned_croped_512TEMP_MPY_wvf_snd.mp4\n",
      "MoviePy - Done.                                                                 \n",
      "Moviepy - Writing video result_exp/S003_video_cloned_croped_512.mp4\n",
      "\n",
      "Moviepy - Done !                                                                \n",
      "Moviepy - video ready result_exp/S003_video_cloned_croped_512.mp4\n"
     ]
    }
   ],
   "source": [
    "!python demo_change_a_video_lip.py --source_path /home/is/lathifgalih-k/research_naist/multimodal-clone/clone-video/edtalk-exp/EDTalk/test_data/stroke_exp.mp4 --audio_driving_path /home/is/lathifgalih-k/research_naist/multimodal-clone/clone-video/muse-exp/MuseTalk/data/audio/Stroke-VCTK/CosyVoice2/CV_S003_VCTK_cloned.wav --save_path result_exp/S003_video_cloned_croped.mp4 --face_sr"
   ]
  }
 ],
 "metadata": {
  "kernelspec": {
   "display_name": "EDTalk",
   "language": "python",
   "name": "python3"
  },
  "language_info": {
   "codemirror_mode": {
    "name": "ipython",
    "version": 3
   },
   "file_extension": ".py",
   "mimetype": "text/x-python",
   "name": "python",
   "nbconvert_exporter": "python",
   "pygments_lexer": "ipython3",
   "version": "3.8.20"
  }
 },
 "nbformat": 4,
 "nbformat_minor": 5
}
