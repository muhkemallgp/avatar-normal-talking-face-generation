{
 "cells": [
  {
   "cell_type": "code",
   "execution_count": 1,
   "id": "9016d878",
   "metadata": {},
   "outputs": [
    {
     "name": "stdout",
     "output_type": "stream",
     "text": [
      "/home/ldap-users-2/lathifgalih-k/clone-video/edtalk-exp/EDTalk\n"
     ]
    }
   ],
   "source": [
    "import os\n",
    "os.getcwd()\n",
    "%cd EDTalk/"
   ]
  },
  {
   "cell_type": "code",
   "execution_count": 2,
   "id": "2d0399c3",
   "metadata": {},
   "outputs": [
    {
     "name": "stdout",
     "output_type": "stream",
     "text": [
      "/home/is/lathifgalih-k/miniconda3/envs/EDTalk/bin/python\n"
     ]
    }
   ],
   "source": [
    "import sys\n",
    "print(sys.executable)"
   ]
  },
  {
   "cell_type": "markdown",
   "id": "f9695932",
   "metadata": {},
   "source": [
    "#### Experiment 1 file generation"
   ]
  },
  {
   "cell_type": "code",
   "execution_count": 8,
   "id": "b2659fb3",
   "metadata": {},
   "outputs": [
    {
     "name": "stdout",
     "output_type": "stream",
     "text": [
      "==> loading model\n",
      "==> loading data\n",
      "==> running\n",
      "[0.27406862 0.45186276 0.27406862]\n",
      "100%|█████████████████████████████████████████| 251/251 [00:10<00:00, 22.86it/s]\n",
      "ffmpeg version 4.4.2 Copyright (c) 2000-2021 the FFmpeg developers\n",
      "  built with gcc 12.3.0 (conda-forge gcc 12.3.0-2)\n",
      "  configuration: --prefix=/home/is/lathifgalih-k/miniconda3/envs/EDTalk --cc=/home/conda/feedstock_root/build_artifacts/ffmpeg_1697113881276/_build_env/bin/x86_64-conda-linux-gnu-cc --cxx=/home/conda/feedstock_root/build_artifacts/ffmpeg_1697113881276/_build_env/bin/x86_64-conda-linux-gnu-c++ --nm=/home/conda/feedstock_root/build_artifacts/ffmpeg_1697113881276/_build_env/bin/x86_64-conda-linux-gnu-nm --ar=/home/conda/feedstock_root/build_artifacts/ffmpeg_1697113881276/_build_env/bin/x86_64-conda-linux-gnu-ar --disable-doc --disable-openssl --enable-avresample --enable-demuxer=dash --enable-hardcoded-tables --enable-libfreetype --enable-libfontconfig --enable-libopenh264 --enable-gnutls --enable-libmp3lame --enable-libvpx --enable-pthreads --enable-vaapi --enable-gpl --enable-libx264 --enable-libx265 --enable-libaom --enable-libsvtav1 --enable-libxml2 --enable-pic --enable-shared --disable-static --enable-version3 --enable-zlib --pkg-config=/home/conda/feedstock_root/build_artifacts/ffmpeg_1697113881276/_build_env/bin/pkg-config\n",
      "  libavutil      56. 70.100 / 56. 70.100\n",
      "  libavcodec     58.134.100 / 58.134.100\n",
      "  libavformat    58. 76.100 / 58. 76.100\n",
      "  libavdevice    58. 13.100 / 58. 13.100\n",
      "  libavfilter     7.110.100 /  7.110.100\n",
      "  libavresample   4.  0.  0 /  4.  0.  0\n",
      "  libswscale      5.  9.100 /  5.  9.100\n",
      "  libswresample   3.  9.100 /  3.  9.100\n",
      "  libpostproc    55.  9.100 / 55.  9.100\n",
      "Input #0, mov,mp4,m4a,3gp,3g2,mj2, from 'res/demo_video_cloned_temp.mp4':\n",
      "  Metadata:\n",
      "    major_brand     : isom\n",
      "    minor_version   : 512\n",
      "    compatible_brands: isomiso2avc1mp41\n",
      "    encoder         : Lavf58.76.100\n",
      "  Duration: 00:00:10.04, start: 0.000000, bitrate: 999 kb/s\n",
      "  Stream #0:0(und): Video: h264 (High) (avc1 / 0x31637661), yuv420p, 256x256, 995 kb/s, 25 fps, 25 tbr, 12800 tbn, 50 tbc (default)\n",
      "    Metadata:\n",
      "      handler_name    : VideoHandler\n",
      "      vendor_id       : [0][0][0][0]\n",
      "\u001b[0;33mGuessed Channel Layout for Input Stream #1.0 : mono\n",
      "\u001b[0mInput #1, wav, from 'test_data/mouth_source.wav':\n",
      "  Metadata:\n",
      "    encoder         : Lavf58.76.100\n",
      "  Duration: 00:00:10.05, bitrate: 256 kb/s\n",
      "  Stream #1:0: Audio: pcm_s16le ([1][0][0][0] / 0x0001), 16000 Hz, mono, s16, 256 kb/s\n",
      "Stream mapping:\n",
      "  Stream #0:0 -> #0:0 (copy)\n",
      "  Stream #1:0 -> #0:1 (pcm_s16le (native) -> aac (native))\n",
      "Press [q] to stop, [?] for help\n",
      "Output #0, mp4, to 'res/demo_video_cloned.mp4':\n",
      "  Metadata:\n",
      "    major_brand     : isom\n",
      "    minor_version   : 512\n",
      "    compatible_brands: isomiso2avc1mp41\n",
      "    encoder         : Lavf58.76.100\n",
      "  Stream #0:0(und): Video: h264 (High) (avc1 / 0x31637661), yuv420p, 256x256, q=2-31, 995 kb/s, 25 fps, 25 tbr, 12800 tbn, 12800 tbc (default)\n",
      "    Metadata:\n",
      "      handler_name    : VideoHandler\n",
      "      vendor_id       : [0][0][0][0]\n",
      "  Stream #0:1: Audio: aac (LC) (mp4a / 0x6134706D), 16000 Hz, mono, fltp, 69 kb/s\n",
      "    Metadata:\n",
      "      encoder         : Lavc58.134.100 aac\n",
      "frame=  251 fps=0.0 q=-1.0 Lsize=    1313kB time=00:00:09.98 bitrate=1077.4kbits/s speed= 411x    \n",
      "video:1221kB audio:85kB subtitle:0kB other streams:0kB global headers:0kB muxing overhead: 0.583047%\n",
      "\u001b[1;36m[aac @ 0x59925e3379c0] \u001b[0mQavg: 548.036\n",
      "gfpgan is installed.\n",
      "face enhancer....\n",
      "Face Enhancer:: 100%|█████████████████████████| 251/251 [00:47<00:00,  5.32it/s]\n",
      "Moviepy - Building video res/demo_video_cloned_512.mp4.\n",
      "MoviePy - Writing audio in demo_video_cloned_512TEMP_MPY_wvf_snd.mp4\n",
      "MoviePy - Done.                                                                 \n",
      "Moviepy - Writing video res/demo_video_cloned_512.mp4\n",
      "\n",
      "Moviepy - Done !                                                                \n",
      "Moviepy - video ready res/demo_video_cloned_512.mp4\n"
     ]
    }
   ],
   "source": [
    "!python demo_lip_pose.py --source_path res/results_by_facesr/demo_EDTalk_A.png --audio_driving_path test_data/mouth_source.wav --pose_driving_path test_data/pose_source1.mp4 --save_path res/demo_video_cloned.mp4 --face_sr"
   ]
  },
  {
   "cell_type": "markdown",
   "id": "afc971de",
   "metadata": {},
   "source": [
    "#### Preprocess Data Video n Generation Video"
   ]
  },
  {
   "cell_type": "code",
   "execution_count": 6,
   "id": "b50d0203",
   "metadata": {},
   "outputs": [
    {
     "name": "stdout",
     "output_type": "stream",
     "text": [
      "Using YAML configuration files...\n",
      "\n",
      "Processing test_raw configuration...\n"
     ]
    },
    {
     "name": "stderr",
     "output_type": "stream",
     "text": [
      "Processing test_raw: 100%|██████████| 60/60 [00:00<00:00, 917.73it/s]\n"
     ]
    },
    {
     "name": "stdout",
     "output_type": "stream",
     "text": [
      "Skipping existing: A002_02_BBP_NORMAL_color_25fps_6sec_CV_A002_BBP_cloned.mp4\n",
      "Skipping existing: A002_02_BBP_NORMAL_color_25fps_6sec_XT_A002_BBP_cloned.mp4\n",
      "Skipping existing: A002_02_BBP_NORMAL_color_25fps_6sec_YT_A002_BBP_cloned.mp4\n",
      "Skipping existing: A006_02_BBP_NORMAL_color_25fps_6sec_CV_A006_BBP_cloned.mp4\n",
      "Skipping existing: A006_02_BBP_NORMAL_color_25fps_6sec_XT_A006_BBP_cloned.mp4\n",
      "Skipping existing: A006_02_BBP_NORMAL_color_25fps_6sec_YT_A006_BBP_cloned.mp4\n",
      "Skipping existing: A008_02_BBP_NORMAL_color_25fps_6sec_CV_A008_BBP_cloned.mp4\n",
      "Skipping existing: A008_02_BBP_NORMAL_color_25fps_6sec_XT_A008_BBP_cloned.mp4\n",
      "Skipping existing: A008_02_BBP_NORMAL_color_25fps_6sec_YT_A008_BBP_cloned.mp4\n",
      "Skipping existing: A010_02_BBP_NORMAL_color_25fps_6sec_CV_A010_BBP_cloned.mp4\n",
      "Skipping existing: A010_02_BBP_NORMAL_color_25fps_6sec_XT_A010_BBP_cloned.mp4\n",
      "Skipping existing: A010_02_BBP_NORMAL_color_25fps_6sec_YT_A010_BBP_cloned.mp4\n",
      "Skipping existing: A011_02_BBP_NORMAL_color_25fps_6sec_CV_A011_BBP_cloned.mp4\n",
      "Skipping existing: A011_02_BBP_NORMAL_color_25fps_6sec_XT_A011_BBP_cloned.mp4\n",
      "Skipping existing: A011_02_BBP_NORMAL_color_25fps_6sec_YT_A011_BBP_cloned.mp4\n",
      "Skipping existing: A014_02_BBP_NORMAL_color_25fps_6sec_CV_A014_BBP_cloned.mp4\n",
      "Skipping existing: A014_02_BBP_NORMAL_color_25fps_6sec_XT_A014_BBP_cloned.mp4\n",
      "Skipping existing: A014_02_BBP_NORMAL_color_25fps_6sec_YT_A014_BBP_cloned.mp4\n",
      "Skipping existing: A015_02_DDK_PATAKA_color_25fps_6sec_CV_A015_PATAKA_cloned.mp4\n",
      "Skipping existing: A015_02_DDK_PATAKA_color_25fps_6sec_XT_A015_PATAKA_cloned.mp4\n",
      "Skipping existing: A015_02_DDK_PATAKA_color_25fps_6sec_YT_A015_PATAKA_cloned.mp4\n",
      "Skipping existing: A016_02_BBP_NORMAL_color_25fps_6sec_CV_A016_BBP_cloned.mp4\n",
      "Skipping existing: A016_02_BBP_NORMAL_color_25fps_6sec_XT_A016_BBP_cloned.mp4\n",
      "Skipping existing: A016_02_BBP_NORMAL_color_25fps_6sec_YT_A016_BBP_cloned.mp4\n",
      "Skipping existing: A017_02_BBP_NORMAL_color_25fps_6sec_CV_A017_BBP_cloned.mp4\n",
      "Skipping existing: A017_02_BBP_NORMAL_color_25fps_6sec_XT_A017_BBP_cloned.mp4\n",
      "Skipping existing: A017_02_BBP_NORMAL_color_25fps_6sec_YT_A017_BBP_cloned.mp4\n",
      "Skipping existing: S001_02_DDK_PA_color_25fps_6sec_CV_S001_PA_cloned.mp4\n",
      "Skipping existing: S001_02_DDK_PA_color_25fps_6sec_XT_S001_PA_cloned.mp4\n",
      "Skipping existing: S001_02_DDK_PA_color_25fps_6sec_YT_S001_PA_cloned.mp4\n",
      "Skipping existing: S002_02_DDK_PA_color_25fps_6sec_CV_S002_PA_cloned.mp4\n",
      "Skipping existing: S002_02_DDK_PA_color_25fps_6sec_XT_S002_PA_cloned.mp4\n",
      "Skipping existing: S002_02_DDK_PA_color_25fps_6sec_YT_S002_PA_cloned.mp4\n",
      "Skipping existing: S003_02_BBP_NORMAL_color_25fps_6sec_CV_S003_BBP_cloned.mp4\n",
      "Skipping existing: S003_02_BBP_NORMAL_color_25fps_6sec_XT_S003_BBP_cloned.mp4\n",
      "Skipping existing: S003_02_BBP_NORMAL_color_25fps_6sec_YT_S003_BBP_cloned.mp4\n",
      "Skipping existing: S005_02_BBP_NORMAL_color_25fps_6sec_CV_S005_BBP_cloned.mp4\n",
      "Skipping existing: S005_02_BBP_NORMAL_color_25fps_6sec_XT_S005_BBP_cloned.mp4\n",
      "Skipping existing: S005_02_BBP_NORMAL_color_25fps_6sec_YT_S005_BBP_cloned.mp4\n",
      "Skipping existing: S006_02_BBP_NORMAL_color_25fps_6sec_CV_S006_BBP_cloned.mp4\n",
      "Skipping existing: S006_02_BBP_NORMAL_color_25fps_6sec_XT_S006_BBP_cloned.mp4\n",
      "Skipping existing: S006_02_BBP_NORMAL_color_25fps_6sec_YT_S006_BBP_cloned.mp4\n",
      "Skipping existing: S007_02_BBP_NORMAL_color_25fps_6sec_CV_S007_BBP_cloned.mp4\n",
      "Skipping existing: S007_02_BBP_NORMAL_color_25fps_6sec_XT_S007_BBP_cloned.mp4\n",
      "Skipping existing: S007_02_BBP_NORMAL_color_25fps_6sec_YT_S007_BBP_cloned.mp4\n",
      "Skipping existing: S008_02_BBP_NORMAL_color_25fps_6sec_CV_S008_BBP_cloned.mp4\n",
      "Skipping existing: S008_02_BBP_NORMAL_color_25fps_6sec_XT_S008_BBP_cloned.mp4\n",
      "Skipping existing: S008_02_BBP_NORMAL_color_25fps_6sec_YT_S008_BBP_cloned.mp4\n",
      "Skipping existing: S009_02_BBP_NORMAL_color_25fps_6sec_CV_S009_BBP_cloned.mp4\n",
      "Skipping existing: S009_02_BBP_NORMAL_color_25fps_6sec_XT_S009_BBP_cloned.mp4\n",
      "Skipping existing: S009_02_BBP_NORMAL_color_25fps_6sec_YT_S009_BBP_cloned.mp4\n",
      "Skipping existing: S011_02_BBP_NORMAL_color_25fps_6sec_CV_S011_BBP_cloned.mp4\n",
      "Skipping existing: S011_02_BBP_NORMAL_color_25fps_6sec_XT_S011_BBP_cloned.mp4\n",
      "Skipping existing: S011_02_BBP_NORMAL_color_25fps_6sec_YT_S011_BBP_cloned.mp4\n",
      "Skipping existing: S012_02_BBP_NORMAL_color_25fps_6sec_CV_S012_BBP_cloned.mp4\n",
      "Skipping existing: S012_02_BBP_NORMAL_color_25fps_6sec_XT_S012_BBP_cloned.mp4\n",
      "Skipping existing: S012_02_BBP_NORMAL_color_25fps_6sec_YT_S012_BBP_cloned.mp4\n",
      "Skipping existing: S013_02_BBP_NORMAL_color_25fps_6sec_CV_S013_BBP_cloned.mp4\n",
      "Skipping existing: S013_02_BBP_NORMAL_color_25fps_6sec_XT_S013_BBP_cloned.mp4\n",
      "Skipping existing: S013_02_BBP_NORMAL_color_25fps_6sec_YT_S013_BBP_cloned.mp4\n",
      "\n",
      "Processing test_vctk configuration...\n"
     ]
    },
    {
     "name": "stderr",
     "output_type": "stream",
     "text": [
      "Processing test_vctk:   0%|          | 0/60 [00:00<?, ?it/s]"
     ]
    },
    {
     "name": "stdout",
     "output_type": "stream",
     "text": [
      "Skipping existing: A002_02_BBP_NORMAL_color_25fps_6sec_CV_A002_cloned.mp4\n",
      "Skipping existing: A002_02_BBP_NORMAL_color_25fps_6sec_XT_A002_cloned.mp4\n",
      "Skipping existing: A002_02_BBP_NORMAL_color_25fps_6sec_YT_A002_cloned.mp4\n",
      "Skipping existing: A006_02_BBP_NORMAL_color_25fps_6sec_CV_A006_cloned.mp4\n",
      "Skipping existing: A006_02_BBP_NORMAL_color_25fps_6sec_XT_A006_cloned.mp4\n",
      "Skipping existing: A006_02_BBP_NORMAL_color_25fps_6sec_YT_A006_cloned.mp4\n",
      "Skipping existing: A008_02_BBP_NORMAL_color_25fps_6sec_CV_A008_cloned.mp4\n",
      "Skipping existing: A008_02_BBP_NORMAL_color_25fps_6sec_XT_A008_cloned.mp4\n",
      "Skipping existing: A008_02_BBP_NORMAL_color_25fps_6sec_YT_A008_cloned.mp4\n",
      "Skipping existing: A010_02_BBP_NORMAL_color_25fps_6sec_CV_A010_cloned.mp4\n",
      "Skipping existing: A010_02_BBP_NORMAL_color_25fps_6sec_XT_A010_cloned.mp4\n",
      "Skipping existing: A010_02_BBP_NORMAL_color_25fps_6sec_YT_A010_cloned.mp4\n",
      "Skipping existing: A011_02_BBP_NORMAL_color_25fps_6sec_CV_A011_cloned.mp4\n",
      "Skipping existing: A011_02_BBP_NORMAL_color_25fps_6sec_XT_A011_cloned.mp4\n",
      "Skipping existing: A011_02_BBP_NORMAL_color_25fps_6sec_YT_A011_cloned.mp4\n",
      "Skipping existing: A014_02_BBP_NORMAL_color_25fps_6sec_CV_A014_cloned.mp4\n",
      "Skipping existing: A014_02_BBP_NORMAL_color_25fps_6sec_XT_A014_cloned.mp4\n",
      "Skipping existing: A014_02_BBP_NORMAL_color_25fps_6sec_YT_A014_cloned.mp4\n",
      "Skipping existing: A015_02_DDK_PATAKA_color_25fps_6sec_CV_A015_cloned.mp4\n",
      "Skipping existing: A015_02_DDK_PATAKA_color_25fps_6sec_XT_A015_cloned.mp4\n",
      "Skipping existing: A015_02_DDK_PATAKA_color_25fps_6sec_YT_A015_cloned.mp4\n",
      "Skipping existing: A016_02_BBP_NORMAL_color_25fps_6sec_CV_A016_cloned.mp4\n",
      "Skipping existing: A016_02_BBP_NORMAL_color_25fps_6sec_XT_A016_cloned.mp4\n",
      "Skipping existing: A016_02_BBP_NORMAL_color_25fps_6sec_YT_A016_cloned.mp4\n",
      "Skipping existing: A017_02_BBP_NORMAL_color_25fps_6sec_CV_A017_cloned.mp4\n",
      "Skipping existing: A017_02_BBP_NORMAL_color_25fps_6sec_XT_A017_cloned.mp4\n",
      "Skipping existing: A017_02_BBP_NORMAL_color_25fps_6sec_YT_A017_cloned.mp4\n",
      "Skipping existing: S001_02_DDK_PA_color_25fps_6sec_CV_S001_cloned.mp4\n",
      "Skipping existing: S001_02_DDK_PA_color_25fps_6sec_XT_S001_cloned.mp4\n",
      "Skipping existing: S001_02_DDK_PA_color_25fps_6sec_YT_S001_cloned.mp4\n",
      "Skipping existing: S002_02_DDK_PA_color_25fps_6sec_CV_S002_cloned.mp4\n",
      "Skipping existing: S002_02_DDK_PA_color_25fps_6sec_XT_S002_cloned.mp4\n",
      "Skipping existing: S002_02_DDK_PA_color_25fps_6sec_YT_S002_cloned.mp4\n",
      "Skipping existing: S003_02_BBP_NORMAL_color_25fps_6sec_CV_S003_cloned.mp4\n",
      "Skipping existing: S003_02_BBP_NORMAL_color_25fps_6sec_XT_S003_cloned.mp4\n",
      "Skipping existing: S003_02_BBP_NORMAL_color_25fps_6sec_YT_S003_cloned.mp4\n"
     ]
    },
    {
     "name": "stderr",
     "output_type": "stream",
     "text": [
      "Processing test_vctk: 100%|██████████| 60/60 [00:00<00:00, 966.34it/s]"
     ]
    },
    {
     "name": "stdout",
     "output_type": "stream",
     "text": [
      "Skipping existing: S005_02_BBP_NORMAL_color_25fps_6sec_CV_S005_cloned.mp4\n",
      "Skipping existing: S005_02_BBP_NORMAL_color_25fps_6sec_XT_S005_cloned.mp4\n",
      "Skipping existing: S005_02_BBP_NORMAL_color_25fps_6sec_YT_S005_cloned.mp4\n",
      "Skipping existing: S006_02_BBP_NORMAL_color_25fps_6sec_CV_S006_cloned.mp4\n",
      "Skipping existing: S006_02_BBP_NORMAL_color_25fps_6sec_XT_S006_cloned.mp4\n",
      "Skipping existing: S006_02_BBP_NORMAL_color_25fps_6sec_YT_S006_cloned.mp4\n",
      "Skipping existing: S007_02_BBP_NORMAL_color_25fps_6sec_CV_S007_cloned.mp4\n",
      "Skipping existing: S007_02_BBP_NORMAL_color_25fps_6sec_XT_S007_cloned.mp4\n",
      "Skipping existing: S007_02_BBP_NORMAL_color_25fps_6sec_YT_S007_cloned.mp4\n",
      "Skipping existing: S008_02_BBP_NORMAL_color_25fps_6sec_CV_S008_cloned.mp4\n",
      "Skipping existing: S008_02_BBP_NORMAL_color_25fps_6sec_XT_S008_cloned.mp4\n",
      "Skipping existing: S008_02_BBP_NORMAL_color_25fps_6sec_YT_S008_cloned.mp4\n",
      "Skipping existing: S009_02_BBP_NORMAL_color_25fps_6sec_CV_S009_cloned.mp4\n",
      "Skipping existing: S009_02_BBP_NORMAL_color_25fps_6sec_XT_S009_cloned.mp4\n",
      "Skipping existing: S009_02_BBP_NORMAL_color_25fps_6sec_YT_S009_cloned.mp4\n",
      "Skipping existing: S011_02_BBP_NORMAL_color_25fps_6sec_CV_S011_cloned.mp4\n",
      "Skipping existing: S011_02_BBP_NORMAL_color_25fps_6sec_XT_S011_cloned.mp4\n",
      "Skipping existing: S011_02_BBP_NORMAL_color_25fps_6sec_YT_S011_cloned.mp4\n",
      "Skipping existing: S012_02_BBP_NORMAL_color_25fps_6sec_CV_S012_cloned.mp4\n",
      "Skipping existing: S012_02_BBP_NORMAL_color_25fps_6sec_XT_S012_cloned.mp4\n",
      "Skipping existing: S012_02_BBP_NORMAL_color_25fps_6sec_YT_S012_cloned.mp4\n",
      "Skipping existing: S013_02_BBP_NORMAL_color_25fps_6sec_CV_S013_cloned.mp4\n",
      "Skipping existing: S013_02_BBP_NORMAL_color_25fps_6sec_XT_S013_cloned.mp4\n",
      "Skipping existing: S013_02_BBP_NORMAL_color_25fps_6sec_YT_S013_cloned.mp4\n"
     ]
    },
    {
     "name": "stderr",
     "output_type": "stream",
     "text": [
      "\n"
     ]
    }
   ],
   "source": [
    "import os\n",
    "import subprocess\n",
    "from pathlib import Path\n",
    "import shutil\n",
    "from tqdm import tqdm\n",
    "import yaml\n",
    "\n",
    "# Configuration\n",
    "BASE_DIR = \"/home/is/lathifgalih-k/research_naist/multimodal-clone/clone-video\"\n",
    "MUSE_VIDEO_DIR = f\"{BASE_DIR}/muse-exp/MuseTalk/data/video\"\n",
    "MUSE_AUDIO_DIR = f\"{BASE_DIR}/muse-exp/MuseTalk/data/audio\" \n",
    "MUSE_CONFIG_DIR = f\"{BASE_DIR}/muse-exp/MuseTalk/configs/inference\"\n",
    "EDTALK_DIR = f\"{BASE_DIR}/edtalk-exp/EDTalk\"\n",
    "OUTPUT_DIR = f\"{EDTALK_DIR}/results\"\n",
    "\n",
    "def extract_first_frame(video_path, output_path):\n",
    "    \"\"\"Extract first frame from video as source image\"\"\"\n",
    "    cmd = f'ffmpeg -i \"{video_path}\" -vf \"select=eq(n\\\\,0)\" -q:v 3 \"{output_path}\" -y'\n",
    "    result = subprocess.run(cmd, shell=True, capture_output=True)\n",
    "    return result.returncode == 0\n",
    "\n",
    "def run_edtalk_inference(source_img, audio_path, output_path):\n",
    "    \"\"\"Run EDTalk inference with fixed pose\"\"\"\n",
    "    cmd = f'python demo_lip_pose.py --fix_pose --source_path \"{source_img}\" --audio_driving_path \"{audio_path}\" --save_path \"{output_path}\" --face_sr'\n",
    "    result = subprocess.run(cmd, shell=True, capture_output=True, cwd=EDTALK_DIR)\n",
    "    \n",
    "    # Print error output for debugging\n",
    "    if result.returncode != 0:\n",
    "        print(f\"Error output: {result.stderr.decode() if result.stderr else 'No error message'}\")\n",
    "        print(f\"Stdout: {result.stdout.decode() if result.stdout else 'No stdout'}\")\n",
    "    \n",
    "    return result.returncode == 0\n",
    "\n",
    "def load_yaml_config(yaml_path):\n",
    "    \"\"\"Load configuration from YAML file\"\"\"\n",
    "    if not os.path.exists(yaml_path):\n",
    "        print(f\"YAML config not found: {yaml_path}\")\n",
    "        return {}\n",
    "    \n",
    "    with open(yaml_path, 'r') as file:\n",
    "        config = yaml.safe_load(file)\n",
    "    \n",
    "    return config\n",
    "\n",
    "def get_audio_type_from_path(audio_path):\n",
    "    \"\"\"Extract audio type from path\"\"\"\n",
    "    if \"CosyVoice2\" in audio_path:\n",
    "        return \"CV\"\n",
    "    elif \"XTTSv2\" in audio_path:\n",
    "        return \"XT\"\n",
    "    elif \"YourTTS\" in audio_path:\n",
    "        return \"YT\"\n",
    "    return \"Unknown\"\n",
    "\n",
    "def get_dataset_type_from_path(audio_path):\n",
    "    \"\"\"Extract dataset type from path\"\"\"\n",
    "    if \"VCTK\" in audio_path:\n",
    "        return \"VCTK\"\n",
    "    elif \"Raw\" in audio_path:\n",
    "        return \"Raw\"\n",
    "    return \"Unknown\"\n",
    "\n",
    "def get_subject_task_from_audio(audio_path):\n",
    "    \"\"\"Extract subject and task from audio filename\"\"\"\n",
    "    filename = os.path.basename(audio_path)\n",
    "    # Remove prefix (CV_, XT_, YT_) and suffix (_cloned.wav)\n",
    "    parts = filename.replace(\"CV_\", \"\").replace(\"XT_\", \"\").replace(\"YT_\", \"\").replace(\"_cloned.wav\", \"\")\n",
    "    \n",
    "    if \"_VCTK\" in parts:\n",
    "        parts = parts.replace(\"_VCTK\", \"\")\n",
    "    \n",
    "    return parts\n",
    "\n",
    "def create_output_filename(video_path, audio_path):\n",
    "    \"\"\"Create output filename based on video and audio paths\"\"\"\n",
    "    video_name = Path(video_path).stem\n",
    "    audio_type = get_audio_type_from_path(audio_path)\n",
    "    subject_task = get_subject_task_from_audio(audio_path)\n",
    "    \n",
    "    return f\"{video_name}_{audio_type}_{subject_task}_cloned.mp4\"\n",
    "\n",
    "def process_yaml_configs():\n",
    "    \"\"\"Process video-audio pairs from YAML configuration files\"\"\"\n",
    "    \n",
    "    # Create output directories\n",
    "    os.makedirs(f\"{OUTPUT_DIR}/test_raw/v15/RAW\", exist_ok=True)\n",
    "    os.makedirs(f\"{OUTPUT_DIR}/test_vctk/v15/VCTK\", exist_ok=True)\n",
    "    \n",
    "    # Load YAML configurations\n",
    "    yaml_configs = {\n",
    "        \"test_raw\": f\"{MUSE_CONFIG_DIR}/test_raw.yaml\",\n",
    "        \"test_vctk\": f\"{MUSE_CONFIG_DIR}/test_vctk.yaml\"\n",
    "    }\n",
    "    \n",
    "    for config_name, yaml_path in yaml_configs.items():\n",
    "        print(f\"\\nProcessing {config_name} configuration...\")\n",
    "        \n",
    "        # Load YAML config\n",
    "        config = load_yaml_config(yaml_path)\n",
    "        \n",
    "        if not config:\n",
    "            print(f\"No configuration found for {config_name}\")\n",
    "            continue\n",
    "        \n",
    "        # Process each task in the config\n",
    "        for task_name, task_config in tqdm(config.items(), desc=f\"Processing {config_name}\"):\n",
    "            video_path = task_config.get(\"video_path\", \"\")\n",
    "            audio_path = task_config.get(\"audio_path\", \"\")\n",
    "            \n",
    "            if not video_path or not audio_path:\n",
    "                print(f\"Invalid config for {task_name}: missing video_path or audio_path\")\n",
    "                continue\n",
    "            \n",
    "            # Check if files exist\n",
    "            if not os.path.exists(video_path):\n",
    "                print(f\"Video not found: {video_path}\")\n",
    "                continue\n",
    "                \n",
    "            if not os.path.exists(audio_path):\n",
    "                print(f\"Audio not found: {audio_path}\")\n",
    "                continue\n",
    "            \n",
    "            # Determine output path based on dataset type\n",
    "            dataset_type = get_dataset_type_from_path(audio_path)\n",
    "            output_filename = create_output_filename(video_path, audio_path)\n",
    "            \n",
    "            if dataset_type == \"Raw\" or config_name == \"test_raw\":\n",
    "                output_path = f\"{OUTPUT_DIR}/test_raw/v15/RAW/{output_filename}\"\n",
    "            else:  # VCTK\n",
    "                output_path = f\"{OUTPUT_DIR}/test_vctk/v15/VCTK/{output_filename}\"\n",
    "            \n",
    "            # Skip if output already exists\n",
    "            if os.path.exists(output_path):\n",
    "                print(f\"Skipping existing: {output_filename}\")\n",
    "                continue\n",
    "            \n",
    "            # Extract subject ID from video path\n",
    "            video_name = Path(video_path).stem\n",
    "            subject_id = video_name.split('_')[0]  # A002, S001, etc.\n",
    "            \n",
    "            # Extract first frame as source image\n",
    "            temp_source_img = f\"{EDTALK_DIR}/temp_{subject_id}_source.jpg\"\n",
    "            if not extract_first_frame(video_path, temp_source_img):\n",
    "                print(f\"Failed to extract frame from {video_path}\")\n",
    "                continue\n",
    "            \n",
    "            # Crop source image using EDTalk's crop_image2.py\n",
    "            cropped_source_img = f\"{EDTALK_DIR}/temp_{subject_id}_cropped.jpg\"\n",
    "            try:\n",
    "                crop_cmd = f'python -c \"from data_preprocess.crop_image2 import crop_image; crop_image(\\'{temp_source_img}\\', \\'{cropped_source_img}\\')\"'\n",
    "                crop_result = subprocess.run(crop_cmd, shell=True, capture_output=True, cwd=EDTALK_DIR)\n",
    "                \n",
    "                if os.path.exists(cropped_source_img):\n",
    "                    source_img = cropped_source_img\n",
    "                else:\n",
    "                    source_img = temp_source_img\n",
    "                    print(f\"Using uncropped source image for {subject_id}\")\n",
    "            except Exception as e:\n",
    "                source_img = temp_source_img\n",
    "                print(f\"Crop failed for {subject_id}, using original: {e}\")\n",
    "            \n",
    "            # Run EDTalk inference\n",
    "            print(f\"Processing: {output_filename}\")\n",
    "            success = run_edtalk_inference(source_img, audio_path, output_path)\n",
    "            \n",
    "            if success:\n",
    "                print(f\"✓ Generated: {output_path}\")\n",
    "            else:\n",
    "                print(f\"✗ Failed: {output_path}\")\n",
    "            \n",
    "            # Cleanup temp files\n",
    "            for temp_file in [temp_source_img, cropped_source_img]:\n",
    "                if os.path.exists(temp_file):\n",
    "                    os.remove(temp_file)\n",
    "\n",
    "def scan_and_process_available_files():\n",
    "    \"\"\"Scan available files and process them dynamically\"\"\"\n",
    "    \n",
    "    # Create output directories\n",
    "    os.makedirs(f\"{OUTPUT_DIR}/test_raw/v15/RAW\", exist_ok=True)\n",
    "    os.makedirs(f\"{OUTPUT_DIR}/test_vctk/v15/VCTK\", exist_ok=True)\n",
    "    \n",
    "    # Scan available video files\n",
    "    video_folders = {\n",
    "        \"als-input\": f\"{MUSE_VIDEO_DIR}/als-input\",\n",
    "        \"stroke-input\": f\"{MUSE_VIDEO_DIR}/stroke-input\"\n",
    "    }\n",
    "    \n",
    "    # Scan available audio folders\n",
    "    audio_base_folders = [\n",
    "        \"ALS-Raw\", \"ALS-VCTK\", \"Stroke-Raw\", \"Stroke-VCTK\"\n",
    "    ]\n",
    "    \n",
    "    all_tasks = []\n",
    "    \n",
    "    # Collect all video-audio pairs\n",
    "    for video_type, video_folder in video_folders.items():\n",
    "        if not os.path.exists(video_folder):\n",
    "            continue\n",
    "            \n",
    "        for video_file in os.listdir(video_folder):\n",
    "            if not video_file.endswith('.mp4'):\n",
    "                continue\n",
    "                \n",
    "            video_path = os.path.join(video_folder, video_file)\n",
    "            video_name = Path(video_file).stem\n",
    "            \n",
    "            # Extract info from video name\n",
    "            parts = video_name.split('_')\n",
    "            subject_id = parts[0]  # A002, S001, etc.\n",
    "            \n",
    "            # Determine subject type\n",
    "            if subject_id.startswith('A'):\n",
    "                subject_type = \"ALS\"\n",
    "            elif subject_id.startswith('S'):\n",
    "                subject_type = \"Stroke\"\n",
    "            else:\n",
    "                continue\n",
    "            \n",
    "            # Search for corresponding audio files\n",
    "            for audio_base_folder in audio_base_folders:\n",
    "                if not (subject_type in audio_base_folder):\n",
    "                    continue\n",
    "                    \n",
    "                audio_folder_path = f\"{MUSE_AUDIO_DIR}/{audio_base_folder}\"\n",
    "                if not os.path.exists(audio_folder_path):\n",
    "                    continue\n",
    "                \n",
    "                # Check each audio type folder\n",
    "                for audio_type_folder in [\"CosyVoice2\", \"XTTSv2\", \"YourTTS\"]:\n",
    "                    audio_type_path = f\"{audio_folder_path}/{audio_type_folder}\"\n",
    "                    if not os.path.exists(audio_type_path):\n",
    "                        continue\n",
    "                    \n",
    "                    # Find matching audio files\n",
    "                    for audio_file in os.listdir(audio_type_path):\n",
    "                        if not audio_file.endswith('.wav'):\n",
    "                            continue\n",
    "                        \n",
    "                        # Check if audio file matches the subject\n",
    "                        if subject_id in audio_file:\n",
    "                            audio_path = os.path.join(audio_type_path, audio_file)\n",
    "                            \n",
    "                            task = {\n",
    "                                \"video_path\": video_path,\n",
    "                                \"audio_path\": audio_path,\n",
    "                                \"subject_id\": subject_id,\n",
    "                                \"dataset_type\": \"Raw\" if \"Raw\" in audio_base_folder else \"VCTK\"\n",
    "                            }\n",
    "                            all_tasks.append(task)\n",
    "    \n",
    "    print(f\"Found {len(all_tasks)} video-audio pairs to process\")\n",
    "    \n",
    "    # Process all tasks\n",
    "    for task in tqdm(all_tasks, desc=\"Processing all tasks\"):\n",
    "        video_path = task[\"video_path\"]\n",
    "        audio_path = task[\"audio_path\"]\n",
    "        subject_id = task[\"subject_id\"]\n",
    "        dataset_type = task[\"dataset_type\"]\n",
    "        \n",
    "        # Create output filename\n",
    "        output_filename = create_output_filename(video_path, audio_path)\n",
    "        \n",
    "        if dataset_type == \"Raw\":\n",
    "            output_path = f\"{OUTPUT_DIR}/test_raw/v15/RAW/{output_filename}\"\n",
    "        else:  # VCTK\n",
    "            output_path = f\"{OUTPUT_DIR}/test_vctk/v15/VCTK/{output_filename}\"\n",
    "        \n",
    "        # Skip if output already exists\n",
    "        if os.path.exists(output_path):\n",
    "            print(f\"Skipping existing: {output_filename}\")\n",
    "            continue\n",
    "        \n",
    "        # Extract first frame as source image\n",
    "        temp_source_img = f\"{EDTALK_DIR}/temp_{subject_id}_source.jpg\"\n",
    "        if not extract_first_frame(video_path, temp_source_img):\n",
    "            print(f\"Failed to extract frame from {video_path}\")\n",
    "            continue\n",
    "        \n",
    "        # Crop source image using EDTalk's crop_image2.py\n",
    "        cropped_source_img = f\"{EDTALK_DIR}/temp_{subject_id}_cropped.jpg\"\n",
    "        try:\n",
    "            crop_cmd = f'python -c \"from data_preprocess.crop_image2 import crop_image; crop_image(\\'{temp_source_img}\\', \\'{cropped_source_img}\\')\"'\n",
    "            crop_result = subprocess.run(crop_cmd, shell=True, capture_output=True, cwd=EDTALK_DIR)\n",
    "            \n",
    "            if os.path.exists(cropped_source_img):\n",
    "                source_img = cropped_source_img\n",
    "            else:\n",
    "                source_img = temp_source_img\n",
    "                print(f\"Using uncropped source image for {subject_id}\")\n",
    "        except Exception as e:\n",
    "            source_img = temp_source_img\n",
    "            print(f\"Crop failed for {subject_id}, using original: {e}\")\n",
    "        \n",
    "        # Run EDTalk inference\n",
    "        print(f\"Processing: {output_filename}\")\n",
    "        success = run_edtalk_inference(source_img, audio_path, output_path)\n",
    "        \n",
    "        if success:\n",
    "            print(f\"✓ Generated: {output_path}\")\n",
    "        else:\n",
    "            print(f\"✗ Failed: {output_path}\")\n",
    "        \n",
    "        # Cleanup temp files\n",
    "        for temp_file in [temp_source_img, cropped_source_img]:\n",
    "            if os.path.exists(temp_file):\n",
    "                os.remove(temp_file)\n",
    "\n",
    "# Check if YAML configs exist, if not use file scanning approach\n",
    "yaml_configs_exist = (\n",
    "    os.path.exists(f\"{MUSE_CONFIG_DIR}/test_raw.yaml\") and \n",
    "    os.path.exists(f\"{MUSE_CONFIG_DIR}/test_vctk.yaml\")\n",
    ")\n",
    "\n",
    "if yaml_configs_exist:\n",
    "    print(\"Using YAML configuration files...\")\n",
    "    process_yaml_configs()\n",
    "else:\n",
    "    print(\"YAML configs not found, scanning available files...\")\n",
    "    scan_and_process_available_files()"
   ]
  },
  {
   "cell_type": "markdown",
   "id": "c40e4ba1",
   "metadata": {},
   "source": [
    "#### Preprocess Data Video n Generation Video with Original Pose"
   ]
  },
  {
   "cell_type": "code",
   "execution_count": 3,
   "id": "7f77ca4b",
   "metadata": {},
   "outputs": [
    {
     "name": "stdout",
     "output_type": "stream",
     "text": [
      "Using YAML configuration files...\n",
      "\n",
      "Processing test_raw configuration...\n"
     ]
    },
    {
     "name": "stderr",
     "output_type": "stream",
     "text": [
      "Processing test_raw:   0%|          | 0/60 [00:00<?, ?it/s]"
     ]
    },
    {
     "name": "stdout",
     "output_type": "stream",
     "text": [
      "Processing: A002_02_BBP_NORMAL_color_25fps_6sec_CV_A002_BBP_cloned.mp4\n"
     ]
    },
    {
     "name": "stderr",
     "output_type": "stream",
     "text": [
      "Processing test_raw:   2%|▏         | 1/60 [00:56<55:22, 56.31s/it]"
     ]
    },
    {
     "name": "stdout",
     "output_type": "stream",
     "text": [
      "✓ Generated: /home/is/lathifgalih-k/research_naist/multimodal-clone/clone-video/edtalk-exp/EDTalk/results/test_raw/pose/RAW/A002_02_BBP_NORMAL_color_25fps_6sec_CV_A002_BBP_cloned.mp4\n",
      "Processing: A002_02_BBP_NORMAL_color_25fps_6sec_XT_A002_BBP_cloned.mp4\n"
     ]
    },
    {
     "name": "stderr",
     "output_type": "stream",
     "text": [
      "Processing test_raw:   3%|▎         | 2/60 [01:52<54:25, 56.30s/it]"
     ]
    },
    {
     "name": "stdout",
     "output_type": "stream",
     "text": [
      "✓ Generated: /home/is/lathifgalih-k/research_naist/multimodal-clone/clone-video/edtalk-exp/EDTalk/results/test_raw/pose/RAW/A002_02_BBP_NORMAL_color_25fps_6sec_XT_A002_BBP_cloned.mp4\n",
      "Processing: A002_02_BBP_NORMAL_color_25fps_6sec_YT_A002_BBP_cloned.mp4\n"
     ]
    },
    {
     "name": "stderr",
     "output_type": "stream",
     "text": [
      "Processing test_raw:   5%|▌         | 3/60 [02:44<51:28, 54.19s/it]"
     ]
    },
    {
     "name": "stdout",
     "output_type": "stream",
     "text": [
      "✓ Generated: /home/is/lathifgalih-k/research_naist/multimodal-clone/clone-video/edtalk-exp/EDTalk/results/test_raw/pose/RAW/A002_02_BBP_NORMAL_color_25fps_6sec_YT_A002_BBP_cloned.mp4\n",
      "Processing: A006_02_BBP_NORMAL_color_25fps_6sec_CV_A006_BBP_cloned.mp4\n"
     ]
    },
    {
     "name": "stderr",
     "output_type": "stream",
     "text": [
      "Processing test_raw:   7%|▋         | 4/60 [03:32<48:15, 51.70s/it]"
     ]
    },
    {
     "name": "stdout",
     "output_type": "stream",
     "text": [
      "✓ Generated: /home/is/lathifgalih-k/research_naist/multimodal-clone/clone-video/edtalk-exp/EDTalk/results/test_raw/pose/RAW/A006_02_BBP_NORMAL_color_25fps_6sec_CV_A006_BBP_cloned.mp4\n",
      "Processing: A006_02_BBP_NORMAL_color_25fps_6sec_XT_A006_BBP_cloned.mp4\n"
     ]
    },
    {
     "name": "stderr",
     "output_type": "stream",
     "text": [
      "Processing test_raw:   8%|▊         | 5/60 [04:26<48:14, 52.64s/it]"
     ]
    },
    {
     "name": "stdout",
     "output_type": "stream",
     "text": [
      "✓ Generated: /home/is/lathifgalih-k/research_naist/multimodal-clone/clone-video/edtalk-exp/EDTalk/results/test_raw/pose/RAW/A006_02_BBP_NORMAL_color_25fps_6sec_XT_A006_BBP_cloned.mp4\n",
      "Processing: A006_02_BBP_NORMAL_color_25fps_6sec_YT_A006_BBP_cloned.mp4\n"
     ]
    },
    {
     "name": "stderr",
     "output_type": "stream",
     "text": [
      "Processing test_raw:  10%|█         | 6/60 [05:13<45:30, 50.57s/it]"
     ]
    },
    {
     "name": "stdout",
     "output_type": "stream",
     "text": [
      "✓ Generated: /home/is/lathifgalih-k/research_naist/multimodal-clone/clone-video/edtalk-exp/EDTalk/results/test_raw/pose/RAW/A006_02_BBP_NORMAL_color_25fps_6sec_YT_A006_BBP_cloned.mp4\n",
      "Processing: A008_02_BBP_NORMAL_color_25fps_6sec_CV_A008_BBP_cloned.mp4\n"
     ]
    },
    {
     "name": "stderr",
     "output_type": "stream",
     "text": [
      "Processing test_raw:  12%|█▏        | 7/60 [06:09<46:15, 52.37s/it]"
     ]
    },
    {
     "name": "stdout",
     "output_type": "stream",
     "text": [
      "✓ Generated: /home/is/lathifgalih-k/research_naist/multimodal-clone/clone-video/edtalk-exp/EDTalk/results/test_raw/pose/RAW/A008_02_BBP_NORMAL_color_25fps_6sec_CV_A008_BBP_cloned.mp4\n",
      "Processing: A008_02_BBP_NORMAL_color_25fps_6sec_XT_A008_BBP_cloned.mp4\n"
     ]
    },
    {
     "name": "stderr",
     "output_type": "stream",
     "text": [
      "Processing test_raw:  13%|█▎        | 8/60 [07:10<47:51, 55.22s/it]"
     ]
    },
    {
     "name": "stdout",
     "output_type": "stream",
     "text": [
      "✓ Generated: /home/is/lathifgalih-k/research_naist/multimodal-clone/clone-video/edtalk-exp/EDTalk/results/test_raw/pose/RAW/A008_02_BBP_NORMAL_color_25fps_6sec_XT_A008_BBP_cloned.mp4\n",
      "Processing: A008_02_BBP_NORMAL_color_25fps_6sec_YT_A008_BBP_cloned.mp4\n"
     ]
    },
    {
     "name": "stderr",
     "output_type": "stream",
     "text": [
      "Processing test_raw:  15%|█▌        | 9/60 [08:03<46:16, 54.44s/it]"
     ]
    },
    {
     "name": "stdout",
     "output_type": "stream",
     "text": [
      "✓ Generated: /home/is/lathifgalih-k/research_naist/multimodal-clone/clone-video/edtalk-exp/EDTalk/results/test_raw/pose/RAW/A008_02_BBP_NORMAL_color_25fps_6sec_YT_A008_BBP_cloned.mp4\n",
      "Processing: A010_02_BBP_NORMAL_color_25fps_6sec_CV_A010_BBP_cloned.mp4\n"
     ]
    },
    {
     "name": "stderr",
     "output_type": "stream",
     "text": [
      "Processing test_raw:  17%|█▋        | 10/60 [09:07<47:52, 57.45s/it]"
     ]
    },
    {
     "name": "stdout",
     "output_type": "stream",
     "text": [
      "✓ Generated: /home/is/lathifgalih-k/research_naist/multimodal-clone/clone-video/edtalk-exp/EDTalk/results/test_raw/pose/RAW/A010_02_BBP_NORMAL_color_25fps_6sec_CV_A010_BBP_cloned.mp4\n",
      "Processing: A010_02_BBP_NORMAL_color_25fps_6sec_XT_A010_BBP_cloned.mp4\n"
     ]
    },
    {
     "name": "stderr",
     "output_type": "stream",
     "text": [
      "Processing test_raw:  18%|█▊        | 11/60 [09:59<45:33, 55.78s/it]"
     ]
    },
    {
     "name": "stdout",
     "output_type": "stream",
     "text": [
      "✓ Generated: /home/is/lathifgalih-k/research_naist/multimodal-clone/clone-video/edtalk-exp/EDTalk/results/test_raw/pose/RAW/A010_02_BBP_NORMAL_color_25fps_6sec_XT_A010_BBP_cloned.mp4\n",
      "Processing: A010_02_BBP_NORMAL_color_25fps_6sec_YT_A010_BBP_cloned.mp4\n"
     ]
    },
    {
     "name": "stderr",
     "output_type": "stream",
     "text": [
      "Processing test_raw:  20%|██        | 12/60 [10:36<39:58, 49.98s/it]"
     ]
    },
    {
     "name": "stdout",
     "output_type": "stream",
     "text": [
      "✓ Generated: /home/is/lathifgalih-k/research_naist/multimodal-clone/clone-video/edtalk-exp/EDTalk/results/test_raw/pose/RAW/A010_02_BBP_NORMAL_color_25fps_6sec_YT_A010_BBP_cloned.mp4\n",
      "Processing: A011_02_BBP_NORMAL_color_25fps_6sec_CV_A011_BBP_cloned.mp4\n"
     ]
    },
    {
     "name": "stderr",
     "output_type": "stream",
     "text": [
      "Processing test_raw:  22%|██▏       | 13/60 [11:19<37:35, 47.98s/it]"
     ]
    },
    {
     "name": "stdout",
     "output_type": "stream",
     "text": [
      "✓ Generated: /home/is/lathifgalih-k/research_naist/multimodal-clone/clone-video/edtalk-exp/EDTalk/results/test_raw/pose/RAW/A011_02_BBP_NORMAL_color_25fps_6sec_CV_A011_BBP_cloned.mp4\n",
      "Processing: A011_02_BBP_NORMAL_color_25fps_6sec_XT_A011_BBP_cloned.mp4\n"
     ]
    },
    {
     "name": "stderr",
     "output_type": "stream",
     "text": [
      "Processing test_raw:  23%|██▎       | 14/60 [12:09<37:13, 48.56s/it]"
     ]
    },
    {
     "name": "stdout",
     "output_type": "stream",
     "text": [
      "✓ Generated: /home/is/lathifgalih-k/research_naist/multimodal-clone/clone-video/edtalk-exp/EDTalk/results/test_raw/pose/RAW/A011_02_BBP_NORMAL_color_25fps_6sec_XT_A011_BBP_cloned.mp4\n",
      "Processing: A011_02_BBP_NORMAL_color_25fps_6sec_YT_A011_BBP_cloned.mp4\n"
     ]
    },
    {
     "name": "stderr",
     "output_type": "stream",
     "text": [
      "Processing test_raw:  25%|██▌       | 15/60 [12:46<33:48, 45.08s/it]"
     ]
    },
    {
     "name": "stdout",
     "output_type": "stream",
     "text": [
      "✓ Generated: /home/is/lathifgalih-k/research_naist/multimodal-clone/clone-video/edtalk-exp/EDTalk/results/test_raw/pose/RAW/A011_02_BBP_NORMAL_color_25fps_6sec_YT_A011_BBP_cloned.mp4\n",
      "Processing: A014_02_BBP_NORMAL_color_25fps_6sec_CV_A014_BBP_cloned.mp4\n"
     ]
    },
    {
     "name": "stderr",
     "output_type": "stream",
     "text": [
      "Processing test_raw:  27%|██▋       | 16/60 [13:24<31:35, 43.08s/it]"
     ]
    },
    {
     "name": "stdout",
     "output_type": "stream",
     "text": [
      "✓ Generated: /home/is/lathifgalih-k/research_naist/multimodal-clone/clone-video/edtalk-exp/EDTalk/results/test_raw/pose/RAW/A014_02_BBP_NORMAL_color_25fps_6sec_CV_A014_BBP_cloned.mp4\n",
      "Processing: A014_02_BBP_NORMAL_color_25fps_6sec_XT_A014_BBP_cloned.mp4\n"
     ]
    },
    {
     "name": "stderr",
     "output_type": "stream",
     "text": [
      "Processing test_raw:  28%|██▊       | 17/60 [14:10<31:21, 43.75s/it]"
     ]
    },
    {
     "name": "stdout",
     "output_type": "stream",
     "text": [
      "✓ Generated: /home/is/lathifgalih-k/research_naist/multimodal-clone/clone-video/edtalk-exp/EDTalk/results/test_raw/pose/RAW/A014_02_BBP_NORMAL_color_25fps_6sec_XT_A014_BBP_cloned.mp4\n",
      "Processing: A014_02_BBP_NORMAL_color_25fps_6sec_YT_A014_BBP_cloned.mp4\n"
     ]
    },
    {
     "name": "stderr",
     "output_type": "stream",
     "text": [
      "Processing test_raw:  30%|███       | 18/60 [14:44<28:35, 40.84s/it]"
     ]
    },
    {
     "name": "stdout",
     "output_type": "stream",
     "text": [
      "✓ Generated: /home/is/lathifgalih-k/research_naist/multimodal-clone/clone-video/edtalk-exp/EDTalk/results/test_raw/pose/RAW/A014_02_BBP_NORMAL_color_25fps_6sec_YT_A014_BBP_cloned.mp4\n",
      "Processing: A015_02_DDK_PATAKA_color_25fps_6sec_CV_A015_PATAKA_cloned.mp4\n"
     ]
    },
    {
     "name": "stderr",
     "output_type": "stream",
     "text": [
      "Processing test_raw:  32%|███▏      | 19/60 [15:17<26:25, 38.67s/it]"
     ]
    },
    {
     "name": "stdout",
     "output_type": "stream",
     "text": [
      "✓ Generated: /home/is/lathifgalih-k/research_naist/multimodal-clone/clone-video/edtalk-exp/EDTalk/results/test_raw/pose/RAW/A015_02_DDK_PATAKA_color_25fps_6sec_CV_A015_PATAKA_cloned.mp4\n",
      "Processing: A015_02_DDK_PATAKA_color_25fps_6sec_XT_A015_PATAKA_cloned.mp4\n"
     ]
    },
    {
     "name": "stderr",
     "output_type": "stream",
     "text": [
      "Processing test_raw:  33%|███▎      | 20/60 [16:00<26:41, 40.04s/it]"
     ]
    },
    {
     "name": "stdout",
     "output_type": "stream",
     "text": [
      "✓ Generated: /home/is/lathifgalih-k/research_naist/multimodal-clone/clone-video/edtalk-exp/EDTalk/results/test_raw/pose/RAW/A015_02_DDK_PATAKA_color_25fps_6sec_XT_A015_PATAKA_cloned.mp4\n",
      "Processing: A015_02_DDK_PATAKA_color_25fps_6sec_YT_A015_PATAKA_cloned.mp4\n"
     ]
    },
    {
     "name": "stderr",
     "output_type": "stream",
     "text": [
      "Processing test_raw:  35%|███▌      | 21/60 [16:30<24:01, 36.97s/it]"
     ]
    },
    {
     "name": "stdout",
     "output_type": "stream",
     "text": [
      "✓ Generated: /home/is/lathifgalih-k/research_naist/multimodal-clone/clone-video/edtalk-exp/EDTalk/results/test_raw/pose/RAW/A015_02_DDK_PATAKA_color_25fps_6sec_YT_A015_PATAKA_cloned.mp4\n",
      "Processing: A016_02_BBP_NORMAL_color_25fps_6sec_CV_A016_BBP_cloned.mp4\n"
     ]
    },
    {
     "name": "stderr",
     "output_type": "stream",
     "text": [
      "Processing test_raw:  37%|███▋      | 22/60 [17:16<25:01, 39.51s/it]"
     ]
    },
    {
     "name": "stdout",
     "output_type": "stream",
     "text": [
      "✓ Generated: /home/is/lathifgalih-k/research_naist/multimodal-clone/clone-video/edtalk-exp/EDTalk/results/test_raw/pose/RAW/A016_02_BBP_NORMAL_color_25fps_6sec_CV_A016_BBP_cloned.mp4\n",
      "Processing: A016_02_BBP_NORMAL_color_25fps_6sec_XT_A016_BBP_cloned.mp4\n"
     ]
    },
    {
     "name": "stderr",
     "output_type": "stream",
     "text": [
      "Processing test_raw:  38%|███▊      | 23/60 [18:05<26:07, 42.37s/it]"
     ]
    },
    {
     "name": "stdout",
     "output_type": "stream",
     "text": [
      "✓ Generated: /home/is/lathifgalih-k/research_naist/multimodal-clone/clone-video/edtalk-exp/EDTalk/results/test_raw/pose/RAW/A016_02_BBP_NORMAL_color_25fps_6sec_XT_A016_BBP_cloned.mp4\n",
      "Processing: A016_02_BBP_NORMAL_color_25fps_6sec_YT_A016_BBP_cloned.mp4\n"
     ]
    },
    {
     "name": "stderr",
     "output_type": "stream",
     "text": [
      "Processing test_raw:  40%|████      | 24/60 [18:44<24:51, 41.42s/it]"
     ]
    },
    {
     "name": "stdout",
     "output_type": "stream",
     "text": [
      "✓ Generated: /home/is/lathifgalih-k/research_naist/multimodal-clone/clone-video/edtalk-exp/EDTalk/results/test_raw/pose/RAW/A016_02_BBP_NORMAL_color_25fps_6sec_YT_A016_BBP_cloned.mp4\n",
      "Processing: A017_02_BBP_NORMAL_color_25fps_6sec_CV_A017_BBP_cloned.mp4\n"
     ]
    },
    {
     "name": "stderr",
     "output_type": "stream",
     "text": [
      "Processing test_raw:  42%|████▏     | 25/60 [19:28<24:32, 42.06s/it]"
     ]
    },
    {
     "name": "stdout",
     "output_type": "stream",
     "text": [
      "✓ Generated: /home/is/lathifgalih-k/research_naist/multimodal-clone/clone-video/edtalk-exp/EDTalk/results/test_raw/pose/RAW/A017_02_BBP_NORMAL_color_25fps_6sec_CV_A017_BBP_cloned.mp4\n",
      "Processing: A017_02_BBP_NORMAL_color_25fps_6sec_XT_A017_BBP_cloned.mp4\n"
     ]
    },
    {
     "name": "stderr",
     "output_type": "stream",
     "text": [
      "Processing test_raw:  43%|████▎     | 26/60 [20:18<25:19, 44.69s/it]"
     ]
    },
    {
     "name": "stdout",
     "output_type": "stream",
     "text": [
      "✓ Generated: /home/is/lathifgalih-k/research_naist/multimodal-clone/clone-video/edtalk-exp/EDTalk/results/test_raw/pose/RAW/A017_02_BBP_NORMAL_color_25fps_6sec_XT_A017_BBP_cloned.mp4\n",
      "Processing: A017_02_BBP_NORMAL_color_25fps_6sec_YT_A017_BBP_cloned.mp4\n"
     ]
    },
    {
     "name": "stderr",
     "output_type": "stream",
     "text": [
      "Processing test_raw:  45%|████▌     | 27/60 [20:57<23:38, 42.99s/it]"
     ]
    },
    {
     "name": "stdout",
     "output_type": "stream",
     "text": [
      "✓ Generated: /home/is/lathifgalih-k/research_naist/multimodal-clone/clone-video/edtalk-exp/EDTalk/results/test_raw/pose/RAW/A017_02_BBP_NORMAL_color_25fps_6sec_YT_A017_BBP_cloned.mp4\n",
      "Processing: S001_02_DDK_PA_color_25fps_6sec_CV_S001_PA_cloned.mp4\n"
     ]
    },
    {
     "name": "stderr",
     "output_type": "stream",
     "text": [
      "Processing test_raw:  47%|████▋     | 28/60 [22:02<26:21, 49.42s/it]"
     ]
    },
    {
     "name": "stdout",
     "output_type": "stream",
     "text": [
      "✓ Generated: /home/is/lathifgalih-k/research_naist/multimodal-clone/clone-video/edtalk-exp/EDTalk/results/test_raw/pose/RAW/S001_02_DDK_PA_color_25fps_6sec_CV_S001_PA_cloned.mp4\n",
      "Processing: S001_02_DDK_PA_color_25fps_6sec_XT_S001_PA_cloned.mp4\n"
     ]
    },
    {
     "name": "stderr",
     "output_type": "stream",
     "text": [
      "Processing test_raw:  48%|████▊     | 29/60 [23:01<27:05, 52.45s/it]"
     ]
    },
    {
     "name": "stdout",
     "output_type": "stream",
     "text": [
      "✓ Generated: /home/is/lathifgalih-k/research_naist/multimodal-clone/clone-video/edtalk-exp/EDTalk/results/test_raw/pose/RAW/S001_02_DDK_PA_color_25fps_6sec_XT_S001_PA_cloned.mp4\n",
      "Processing: S001_02_DDK_PA_color_25fps_6sec_YT_S001_PA_cloned.mp4\n"
     ]
    },
    {
     "name": "stderr",
     "output_type": "stream",
     "text": [
      "Processing test_raw:  50%|█████     | 30/60 [23:40<24:10, 48.36s/it]"
     ]
    },
    {
     "name": "stdout",
     "output_type": "stream",
     "text": [
      "✓ Generated: /home/is/lathifgalih-k/research_naist/multimodal-clone/clone-video/edtalk-exp/EDTalk/results/test_raw/pose/RAW/S001_02_DDK_PA_color_25fps_6sec_YT_S001_PA_cloned.mp4\n",
      "Processing: S002_02_DDK_PA_color_25fps_6sec_CV_S002_PA_cloned.mp4\n"
     ]
    },
    {
     "name": "stderr",
     "output_type": "stream",
     "text": [
      "Processing test_raw:  52%|█████▏    | 31/60 [24:30<23:36, 48.84s/it]"
     ]
    },
    {
     "name": "stdout",
     "output_type": "stream",
     "text": [
      "✓ Generated: /home/is/lathifgalih-k/research_naist/multimodal-clone/clone-video/edtalk-exp/EDTalk/results/test_raw/pose/RAW/S002_02_DDK_PA_color_25fps_6sec_CV_S002_PA_cloned.mp4\n",
      "Processing: S002_02_DDK_PA_color_25fps_6sec_XT_S002_PA_cloned.mp4\n"
     ]
    },
    {
     "name": "stderr",
     "output_type": "stream",
     "text": [
      "Processing test_raw:  53%|█████▎    | 32/60 [25:21<23:02, 49.39s/it]"
     ]
    },
    {
     "name": "stdout",
     "output_type": "stream",
     "text": [
      "✓ Generated: /home/is/lathifgalih-k/research_naist/multimodal-clone/clone-video/edtalk-exp/EDTalk/results/test_raw/pose/RAW/S002_02_DDK_PA_color_25fps_6sec_XT_S002_PA_cloned.mp4\n",
      "Processing: S002_02_DDK_PA_color_25fps_6sec_YT_S002_PA_cloned.mp4\n"
     ]
    },
    {
     "name": "stderr",
     "output_type": "stream",
     "text": [
      "Processing test_raw:  55%|█████▌    | 33/60 [25:55<20:11, 44.87s/it]"
     ]
    },
    {
     "name": "stdout",
     "output_type": "stream",
     "text": [
      "✓ Generated: /home/is/lathifgalih-k/research_naist/multimodal-clone/clone-video/edtalk-exp/EDTalk/results/test_raw/pose/RAW/S002_02_DDK_PA_color_25fps_6sec_YT_S002_PA_cloned.mp4\n",
      "Processing: S003_02_BBP_NORMAL_color_25fps_6sec_CV_S003_BBP_cloned.mp4\n"
     ]
    },
    {
     "name": "stderr",
     "output_type": "stream",
     "text": [
      "Processing test_raw:  57%|█████▋    | 34/60 [26:36<18:58, 43.80s/it]"
     ]
    },
    {
     "name": "stdout",
     "output_type": "stream",
     "text": [
      "✓ Generated: /home/is/lathifgalih-k/research_naist/multimodal-clone/clone-video/edtalk-exp/EDTalk/results/test_raw/pose/RAW/S003_02_BBP_NORMAL_color_25fps_6sec_CV_S003_BBP_cloned.mp4\n",
      "Processing: S003_02_BBP_NORMAL_color_25fps_6sec_XT_S003_BBP_cloned.mp4\n"
     ]
    },
    {
     "name": "stderr",
     "output_type": "stream",
     "text": [
      "Processing test_raw:  58%|█████▊    | 35/60 [27:31<19:37, 47.10s/it]"
     ]
    },
    {
     "name": "stdout",
     "output_type": "stream",
     "text": [
      "✓ Generated: /home/is/lathifgalih-k/research_naist/multimodal-clone/clone-video/edtalk-exp/EDTalk/results/test_raw/pose/RAW/S003_02_BBP_NORMAL_color_25fps_6sec_XT_S003_BBP_cloned.mp4\n",
      "Processing: S003_02_BBP_NORMAL_color_25fps_6sec_YT_S003_BBP_cloned.mp4\n"
     ]
    },
    {
     "name": "stderr",
     "output_type": "stream",
     "text": [
      "Processing test_raw:  60%|██████    | 36/60 [28:09<17:45, 44.41s/it]"
     ]
    },
    {
     "name": "stdout",
     "output_type": "stream",
     "text": [
      "✓ Generated: /home/is/lathifgalih-k/research_naist/multimodal-clone/clone-video/edtalk-exp/EDTalk/results/test_raw/pose/RAW/S003_02_BBP_NORMAL_color_25fps_6sec_YT_S003_BBP_cloned.mp4\n",
      "Processing: S005_02_BBP_NORMAL_color_25fps_6sec_CV_S005_BBP_cloned.mp4\n"
     ]
    },
    {
     "name": "stderr",
     "output_type": "stream",
     "text": [
      "Processing test_raw:  62%|██████▏   | 37/60 [28:54<17:05, 44.57s/it]"
     ]
    },
    {
     "name": "stdout",
     "output_type": "stream",
     "text": [
      "✓ Generated: /home/is/lathifgalih-k/research_naist/multimodal-clone/clone-video/edtalk-exp/EDTalk/results/test_raw/pose/RAW/S005_02_BBP_NORMAL_color_25fps_6sec_CV_S005_BBP_cloned.mp4\n",
      "Processing: S005_02_BBP_NORMAL_color_25fps_6sec_XT_S005_BBP_cloned.mp4\n"
     ]
    },
    {
     "name": "stderr",
     "output_type": "stream",
     "text": [
      "Processing test_raw:  63%|██████▎   | 38/60 [29:39<16:20, 44.58s/it]"
     ]
    },
    {
     "name": "stdout",
     "output_type": "stream",
     "text": [
      "✓ Generated: /home/is/lathifgalih-k/research_naist/multimodal-clone/clone-video/edtalk-exp/EDTalk/results/test_raw/pose/RAW/S005_02_BBP_NORMAL_color_25fps_6sec_XT_S005_BBP_cloned.mp4\n",
      "Processing: S005_02_BBP_NORMAL_color_25fps_6sec_YT_S005_BBP_cloned.mp4\n"
     ]
    },
    {
     "name": "stderr",
     "output_type": "stream",
     "text": [
      "Processing test_raw:  65%|██████▌   | 39/60 [30:25<15:44, 44.96s/it]"
     ]
    },
    {
     "name": "stdout",
     "output_type": "stream",
     "text": [
      "✓ Generated: /home/is/lathifgalih-k/research_naist/multimodal-clone/clone-video/edtalk-exp/EDTalk/results/test_raw/pose/RAW/S005_02_BBP_NORMAL_color_25fps_6sec_YT_S005_BBP_cloned.mp4\n",
      "Processing: S006_02_BBP_NORMAL_color_25fps_6sec_CV_S006_BBP_cloned.mp4\n"
     ]
    },
    {
     "name": "stderr",
     "output_type": "stream",
     "text": [
      "Processing test_raw:  67%|██████▋   | 40/60 [31:08<14:47, 44.39s/it]"
     ]
    },
    {
     "name": "stdout",
     "output_type": "stream",
     "text": [
      "✓ Generated: /home/is/lathifgalih-k/research_naist/multimodal-clone/clone-video/edtalk-exp/EDTalk/results/test_raw/pose/RAW/S006_02_BBP_NORMAL_color_25fps_6sec_CV_S006_BBP_cloned.mp4\n",
      "Processing: S006_02_BBP_NORMAL_color_25fps_6sec_XT_S006_BBP_cloned.mp4\n"
     ]
    },
    {
     "name": "stderr",
     "output_type": "stream",
     "text": [
      "Processing test_raw:  68%|██████▊   | 41/60 [31:52<14:04, 44.47s/it]"
     ]
    },
    {
     "name": "stdout",
     "output_type": "stream",
     "text": [
      "✓ Generated: /home/is/lathifgalih-k/research_naist/multimodal-clone/clone-video/edtalk-exp/EDTalk/results/test_raw/pose/RAW/S006_02_BBP_NORMAL_color_25fps_6sec_XT_S006_BBP_cloned.mp4\n",
      "Processing: S006_02_BBP_NORMAL_color_25fps_6sec_YT_S006_BBP_cloned.mp4\n"
     ]
    },
    {
     "name": "stderr",
     "output_type": "stream",
     "text": [
      "Processing test_raw:  70%|███████   | 42/60 [32:30<12:40, 42.25s/it]"
     ]
    },
    {
     "name": "stdout",
     "output_type": "stream",
     "text": [
      "✓ Generated: /home/is/lathifgalih-k/research_naist/multimodal-clone/clone-video/edtalk-exp/EDTalk/results/test_raw/pose/RAW/S006_02_BBP_NORMAL_color_25fps_6sec_YT_S006_BBP_cloned.mp4\n",
      "Processing: S007_02_BBP_NORMAL_color_25fps_6sec_CV_S007_BBP_cloned.mp4\n"
     ]
    },
    {
     "name": "stderr",
     "output_type": "stream",
     "text": [
      "Processing test_raw:  72%|███████▏  | 43/60 [33:13<12:04, 42.60s/it]"
     ]
    },
    {
     "name": "stdout",
     "output_type": "stream",
     "text": [
      "✓ Generated: /home/is/lathifgalih-k/research_naist/multimodal-clone/clone-video/edtalk-exp/EDTalk/results/test_raw/pose/RAW/S007_02_BBP_NORMAL_color_25fps_6sec_CV_S007_BBP_cloned.mp4\n",
      "Processing: S007_02_BBP_NORMAL_color_25fps_6sec_XT_S007_BBP_cloned.mp4\n"
     ]
    },
    {
     "name": "stderr",
     "output_type": "stream",
     "text": [
      "Processing test_raw:  73%|███████▎  | 44/60 [33:59<11:39, 43.69s/it]"
     ]
    },
    {
     "name": "stdout",
     "output_type": "stream",
     "text": [
      "✓ Generated: /home/is/lathifgalih-k/research_naist/multimodal-clone/clone-video/edtalk-exp/EDTalk/results/test_raw/pose/RAW/S007_02_BBP_NORMAL_color_25fps_6sec_XT_S007_BBP_cloned.mp4\n",
      "Processing: S007_02_BBP_NORMAL_color_25fps_6sec_YT_S007_BBP_cloned.mp4\n"
     ]
    },
    {
     "name": "stderr",
     "output_type": "stream",
     "text": [
      "Processing test_raw:  75%|███████▌  | 45/60 [34:42<10:51, 43.42s/it]"
     ]
    },
    {
     "name": "stdout",
     "output_type": "stream",
     "text": [
      "✓ Generated: /home/is/lathifgalih-k/research_naist/multimodal-clone/clone-video/edtalk-exp/EDTalk/results/test_raw/pose/RAW/S007_02_BBP_NORMAL_color_25fps_6sec_YT_S007_BBP_cloned.mp4\n",
      "Processing: S008_02_BBP_NORMAL_color_25fps_6sec_CV_S008_BBP_cloned.mp4\n"
     ]
    },
    {
     "name": "stderr",
     "output_type": "stream",
     "text": [
      "Processing test_raw:  77%|███████▋  | 46/60 [35:36<10:54, 46.74s/it]"
     ]
    },
    {
     "name": "stdout",
     "output_type": "stream",
     "text": [
      "✓ Generated: /home/is/lathifgalih-k/research_naist/multimodal-clone/clone-video/edtalk-exp/EDTalk/results/test_raw/pose/RAW/S008_02_BBP_NORMAL_color_25fps_6sec_CV_S008_BBP_cloned.mp4\n",
      "Processing: S008_02_BBP_NORMAL_color_25fps_6sec_XT_S008_BBP_cloned.mp4\n"
     ]
    },
    {
     "name": "stderr",
     "output_type": "stream",
     "text": [
      "Processing test_raw:  78%|███████▊  | 47/60 [36:22<10:03, 46.40s/it]"
     ]
    },
    {
     "name": "stdout",
     "output_type": "stream",
     "text": [
      "✓ Generated: /home/is/lathifgalih-k/research_naist/multimodal-clone/clone-video/edtalk-exp/EDTalk/results/test_raw/pose/RAW/S008_02_BBP_NORMAL_color_25fps_6sec_XT_S008_BBP_cloned.mp4\n",
      "Processing: S008_02_BBP_NORMAL_color_25fps_6sec_YT_S008_BBP_cloned.mp4\n"
     ]
    },
    {
     "name": "stderr",
     "output_type": "stream",
     "text": [
      "Processing test_raw:  80%|████████  | 48/60 [37:04<09:00, 45.04s/it]"
     ]
    },
    {
     "name": "stdout",
     "output_type": "stream",
     "text": [
      "✓ Generated: /home/is/lathifgalih-k/research_naist/multimodal-clone/clone-video/edtalk-exp/EDTalk/results/test_raw/pose/RAW/S008_02_BBP_NORMAL_color_25fps_6sec_YT_S008_BBP_cloned.mp4\n",
      "Processing: S009_02_BBP_NORMAL_color_25fps_6sec_CV_S009_BBP_cloned.mp4\n"
     ]
    },
    {
     "name": "stderr",
     "output_type": "stream",
     "text": [
      "Processing test_raw:  82%|████████▏ | 49/60 [37:48<08:13, 44.86s/it]"
     ]
    },
    {
     "name": "stdout",
     "output_type": "stream",
     "text": [
      "✓ Generated: /home/is/lathifgalih-k/research_naist/multimodal-clone/clone-video/edtalk-exp/EDTalk/results/test_raw/pose/RAW/S009_02_BBP_NORMAL_color_25fps_6sec_CV_S009_BBP_cloned.mp4\n",
      "Processing: S009_02_BBP_NORMAL_color_25fps_6sec_XT_S009_BBP_cloned.mp4\n"
     ]
    },
    {
     "name": "stderr",
     "output_type": "stream",
     "text": [
      "Processing test_raw:  83%|████████▎ | 50/60 [38:33<07:27, 44.70s/it]"
     ]
    },
    {
     "name": "stdout",
     "output_type": "stream",
     "text": [
      "✓ Generated: /home/is/lathifgalih-k/research_naist/multimodal-clone/clone-video/edtalk-exp/EDTalk/results/test_raw/pose/RAW/S009_02_BBP_NORMAL_color_25fps_6sec_XT_S009_BBP_cloned.mp4\n",
      "Processing: S009_02_BBP_NORMAL_color_25fps_6sec_YT_S009_BBP_cloned.mp4\n"
     ]
    },
    {
     "name": "stderr",
     "output_type": "stream",
     "text": [
      "Processing test_raw:  85%|████████▌ | 51/60 [39:14<06:32, 43.56s/it]"
     ]
    },
    {
     "name": "stdout",
     "output_type": "stream",
     "text": [
      "✓ Generated: /home/is/lathifgalih-k/research_naist/multimodal-clone/clone-video/edtalk-exp/EDTalk/results/test_raw/pose/RAW/S009_02_BBP_NORMAL_color_25fps_6sec_YT_S009_BBP_cloned.mp4\n",
      "Processing: S011_02_BBP_NORMAL_color_25fps_6sec_CV_S011_BBP_cloned.mp4\n"
     ]
    },
    {
     "name": "stderr",
     "output_type": "stream",
     "text": [
      "Processing test_raw:  87%|████████▋ | 52/60 [40:00<05:54, 44.34s/it]"
     ]
    },
    {
     "name": "stdout",
     "output_type": "stream",
     "text": [
      "✓ Generated: /home/is/lathifgalih-k/research_naist/multimodal-clone/clone-video/edtalk-exp/EDTalk/results/test_raw/pose/RAW/S011_02_BBP_NORMAL_color_25fps_6sec_CV_S011_BBP_cloned.mp4\n",
      "Processing: S011_02_BBP_NORMAL_color_25fps_6sec_XT_S011_BBP_cloned.mp4\n"
     ]
    },
    {
     "name": "stderr",
     "output_type": "stream",
     "text": [
      "Processing test_raw:  88%|████████▊ | 53/60 [40:50<05:23, 46.25s/it]"
     ]
    },
    {
     "name": "stdout",
     "output_type": "stream",
     "text": [
      "✓ Generated: /home/is/lathifgalih-k/research_naist/multimodal-clone/clone-video/edtalk-exp/EDTalk/results/test_raw/pose/RAW/S011_02_BBP_NORMAL_color_25fps_6sec_XT_S011_BBP_cloned.mp4\n",
      "Processing: S011_02_BBP_NORMAL_color_25fps_6sec_YT_S011_BBP_cloned.mp4\n"
     ]
    },
    {
     "name": "stderr",
     "output_type": "stream",
     "text": [
      "Processing test_raw:  90%|█████████ | 54/60 [41:30<04:25, 44.17s/it]"
     ]
    },
    {
     "name": "stdout",
     "output_type": "stream",
     "text": [
      "✓ Generated: /home/is/lathifgalih-k/research_naist/multimodal-clone/clone-video/edtalk-exp/EDTalk/results/test_raw/pose/RAW/S011_02_BBP_NORMAL_color_25fps_6sec_YT_S011_BBP_cloned.mp4\n",
      "Processing: S012_02_BBP_NORMAL_color_25fps_6sec_CV_S012_BBP_cloned.mp4\n"
     ]
    },
    {
     "name": "stderr",
     "output_type": "stream",
     "text": [
      "Processing test_raw:  92%|█████████▏| 55/60 [42:15<03:42, 44.52s/it]"
     ]
    },
    {
     "name": "stdout",
     "output_type": "stream",
     "text": [
      "✓ Generated: /home/is/lathifgalih-k/research_naist/multimodal-clone/clone-video/edtalk-exp/EDTalk/results/test_raw/pose/RAW/S012_02_BBP_NORMAL_color_25fps_6sec_CV_S012_BBP_cloned.mp4\n",
      "Processing: S012_02_BBP_NORMAL_color_25fps_6sec_XT_S012_BBP_cloned.mp4\n"
     ]
    },
    {
     "name": "stderr",
     "output_type": "stream",
     "text": [
      "Processing test_raw:  93%|█████████▎| 56/60 [43:02<03:01, 45.33s/it]"
     ]
    },
    {
     "name": "stdout",
     "output_type": "stream",
     "text": [
      "✓ Generated: /home/is/lathifgalih-k/research_naist/multimodal-clone/clone-video/edtalk-exp/EDTalk/results/test_raw/pose/RAW/S012_02_BBP_NORMAL_color_25fps_6sec_XT_S012_BBP_cloned.mp4\n",
      "Processing: S012_02_BBP_NORMAL_color_25fps_6sec_YT_S012_BBP_cloned.mp4\n"
     ]
    },
    {
     "name": "stderr",
     "output_type": "stream",
     "text": [
      "Processing test_raw:  95%|█████████▌| 57/60 [43:45<02:13, 44.44s/it]"
     ]
    },
    {
     "name": "stdout",
     "output_type": "stream",
     "text": [
      "✓ Generated: /home/is/lathifgalih-k/research_naist/multimodal-clone/clone-video/edtalk-exp/EDTalk/results/test_raw/pose/RAW/S012_02_BBP_NORMAL_color_25fps_6sec_YT_S012_BBP_cloned.mp4\n",
      "Processing: S013_02_BBP_NORMAL_color_25fps_6sec_CV_S013_BBP_cloned.mp4\n"
     ]
    },
    {
     "name": "stderr",
     "output_type": "stream",
     "text": [
      "Processing test_raw:  97%|█████████▋| 58/60 [44:23<01:25, 42.60s/it]"
     ]
    },
    {
     "name": "stdout",
     "output_type": "stream",
     "text": [
      "✓ Generated: /home/is/lathifgalih-k/research_naist/multimodal-clone/clone-video/edtalk-exp/EDTalk/results/test_raw/pose/RAW/S013_02_BBP_NORMAL_color_25fps_6sec_CV_S013_BBP_cloned.mp4\n",
      "Processing: S013_02_BBP_NORMAL_color_25fps_6sec_XT_S013_BBP_cloned.mp4\n"
     ]
    },
    {
     "name": "stderr",
     "output_type": "stream",
     "text": [
      "Processing test_raw:  98%|█████████▊| 59/60 [45:17<00:46, 46.00s/it]"
     ]
    },
    {
     "name": "stdout",
     "output_type": "stream",
     "text": [
      "✓ Generated: /home/is/lathifgalih-k/research_naist/multimodal-clone/clone-video/edtalk-exp/EDTalk/results/test_raw/pose/RAW/S013_02_BBP_NORMAL_color_25fps_6sec_XT_S013_BBP_cloned.mp4\n",
      "Processing: S013_02_BBP_NORMAL_color_25fps_6sec_YT_S013_BBP_cloned.mp4\n"
     ]
    },
    {
     "name": "stderr",
     "output_type": "stream",
     "text": [
      "Processing test_raw: 100%|██████████| 60/60 [45:53<00:00, 45.89s/it]\n"
     ]
    },
    {
     "name": "stdout",
     "output_type": "stream",
     "text": [
      "✓ Generated: /home/is/lathifgalih-k/research_naist/multimodal-clone/clone-video/edtalk-exp/EDTalk/results/test_raw/pose/RAW/S013_02_BBP_NORMAL_color_25fps_6sec_YT_S013_BBP_cloned.mp4\n",
      "\n",
      "Processing test_vctk configuration...\n"
     ]
    },
    {
     "name": "stderr",
     "output_type": "stream",
     "text": [
      "Processing test_vctk:   0%|          | 0/60 [00:00<?, ?it/s]"
     ]
    },
    {
     "name": "stdout",
     "output_type": "stream",
     "text": [
      "Processing: A002_02_BBP_NORMAL_color_25fps_6sec_CV_A002_cloned.mp4\n"
     ]
    },
    {
     "name": "stderr",
     "output_type": "stream",
     "text": [
      "Processing test_vctk:   2%|▏         | 1/60 [00:37<36:29, 37.11s/it]"
     ]
    },
    {
     "name": "stdout",
     "output_type": "stream",
     "text": [
      "✓ Generated: /home/is/lathifgalih-k/research_naist/multimodal-clone/clone-video/edtalk-exp/EDTalk/results/test_vctk/pose/VCTK/A002_02_BBP_NORMAL_color_25fps_6sec_CV_A002_cloned.mp4\n",
      "Processing: A002_02_BBP_NORMAL_color_25fps_6sec_XT_A002_cloned.mp4\n"
     ]
    },
    {
     "name": "stderr",
     "output_type": "stream",
     "text": [
      "Processing test_vctk:   3%|▎         | 2/60 [01:14<35:50, 37.07s/it]"
     ]
    },
    {
     "name": "stdout",
     "output_type": "stream",
     "text": [
      "✓ Generated: /home/is/lathifgalih-k/research_naist/multimodal-clone/clone-video/edtalk-exp/EDTalk/results/test_vctk/pose/VCTK/A002_02_BBP_NORMAL_color_25fps_6sec_XT_A002_cloned.mp4\n",
      "Processing: A002_02_BBP_NORMAL_color_25fps_6sec_YT_A002_cloned.mp4\n"
     ]
    },
    {
     "name": "stderr",
     "output_type": "stream",
     "text": [
      "Processing test_vctk:   5%|▌         | 3/60 [01:50<34:45, 36.60s/it]"
     ]
    },
    {
     "name": "stdout",
     "output_type": "stream",
     "text": [
      "✓ Generated: /home/is/lathifgalih-k/research_naist/multimodal-clone/clone-video/edtalk-exp/EDTalk/results/test_vctk/pose/VCTK/A002_02_BBP_NORMAL_color_25fps_6sec_YT_A002_cloned.mp4\n",
      "Processing: A006_02_BBP_NORMAL_color_25fps_6sec_CV_A006_cloned.mp4\n"
     ]
    },
    {
     "name": "stderr",
     "output_type": "stream",
     "text": [
      "Processing test_vctk:   7%|▋         | 4/60 [02:33<36:40, 39.29s/it]"
     ]
    },
    {
     "name": "stdout",
     "output_type": "stream",
     "text": [
      "✓ Generated: /home/is/lathifgalih-k/research_naist/multimodal-clone/clone-video/edtalk-exp/EDTalk/results/test_vctk/pose/VCTK/A006_02_BBP_NORMAL_color_25fps_6sec_CV_A006_cloned.mp4\n",
      "Processing: A006_02_BBP_NORMAL_color_25fps_6sec_XT_A006_cloned.mp4\n"
     ]
    },
    {
     "name": "stderr",
     "output_type": "stream",
     "text": [
      "Processing test_vctk:   8%|▊         | 5/60 [03:15<36:59, 40.36s/it]"
     ]
    },
    {
     "name": "stdout",
     "output_type": "stream",
     "text": [
      "✓ Generated: /home/is/lathifgalih-k/research_naist/multimodal-clone/clone-video/edtalk-exp/EDTalk/results/test_vctk/pose/VCTK/A006_02_BBP_NORMAL_color_25fps_6sec_XT_A006_cloned.mp4\n",
      "Processing: A006_02_BBP_NORMAL_color_25fps_6sec_YT_A006_cloned.mp4\n"
     ]
    },
    {
     "name": "stderr",
     "output_type": "stream",
     "text": [
      "Processing test_vctk:  10%|█         | 6/60 [03:52<35:11, 39.11s/it]"
     ]
    },
    {
     "name": "stdout",
     "output_type": "stream",
     "text": [
      "✓ Generated: /home/is/lathifgalih-k/research_naist/multimodal-clone/clone-video/edtalk-exp/EDTalk/results/test_vctk/pose/VCTK/A006_02_BBP_NORMAL_color_25fps_6sec_YT_A006_cloned.mp4\n",
      "Processing: A008_02_BBP_NORMAL_color_25fps_6sec_CV_A008_cloned.mp4\n"
     ]
    },
    {
     "name": "stderr",
     "output_type": "stream",
     "text": [
      "Processing test_vctk:  12%|█▏        | 7/60 [04:35<35:31, 40.22s/it]"
     ]
    },
    {
     "name": "stdout",
     "output_type": "stream",
     "text": [
      "✓ Generated: /home/is/lathifgalih-k/research_naist/multimodal-clone/clone-video/edtalk-exp/EDTalk/results/test_vctk/pose/VCTK/A008_02_BBP_NORMAL_color_25fps_6sec_CV_A008_cloned.mp4\n",
      "Processing: A008_02_BBP_NORMAL_color_25fps_6sec_XT_A008_cloned.mp4\n"
     ]
    },
    {
     "name": "stderr",
     "output_type": "stream",
     "text": [
      "Processing test_vctk:  13%|█▎        | 8/60 [05:15<34:48, 40.17s/it]"
     ]
    },
    {
     "name": "stdout",
     "output_type": "stream",
     "text": [
      "✓ Generated: /home/is/lathifgalih-k/research_naist/multimodal-clone/clone-video/edtalk-exp/EDTalk/results/test_vctk/pose/VCTK/A008_02_BBP_NORMAL_color_25fps_6sec_XT_A008_cloned.mp4\n",
      "Processing: A008_02_BBP_NORMAL_color_25fps_6sec_YT_A008_cloned.mp4\n"
     ]
    },
    {
     "name": "stderr",
     "output_type": "stream",
     "text": [
      "Processing test_vctk:  15%|█▌        | 9/60 [05:51<33:02, 38.87s/it]"
     ]
    },
    {
     "name": "stdout",
     "output_type": "stream",
     "text": [
      "✓ Generated: /home/is/lathifgalih-k/research_naist/multimodal-clone/clone-video/edtalk-exp/EDTalk/results/test_vctk/pose/VCTK/A008_02_BBP_NORMAL_color_25fps_6sec_YT_A008_cloned.mp4\n",
      "Processing: A010_02_BBP_NORMAL_color_25fps_6sec_CV_A010_cloned.mp4\n"
     ]
    },
    {
     "name": "stderr",
     "output_type": "stream",
     "text": [
      "Processing test_vctk:  17%|█▋        | 10/60 [06:31<32:42, 39.25s/it]"
     ]
    },
    {
     "name": "stdout",
     "output_type": "stream",
     "text": [
      "✓ Generated: /home/is/lathifgalih-k/research_naist/multimodal-clone/clone-video/edtalk-exp/EDTalk/results/test_vctk/pose/VCTK/A010_02_BBP_NORMAL_color_25fps_6sec_CV_A010_cloned.mp4\n",
      "Processing: A010_02_BBP_NORMAL_color_25fps_6sec_XT_A010_cloned.mp4\n"
     ]
    },
    {
     "name": "stderr",
     "output_type": "stream",
     "text": [
      "Processing test_vctk:  18%|█▊        | 11/60 [07:17<33:51, 41.47s/it]"
     ]
    },
    {
     "name": "stdout",
     "output_type": "stream",
     "text": [
      "✓ Generated: /home/is/lathifgalih-k/research_naist/multimodal-clone/clone-video/edtalk-exp/EDTalk/results/test_vctk/pose/VCTK/A010_02_BBP_NORMAL_color_25fps_6sec_XT_A010_cloned.mp4\n",
      "Processing: A010_02_BBP_NORMAL_color_25fps_6sec_YT_A010_cloned.mp4\n"
     ]
    },
    {
     "name": "stderr",
     "output_type": "stream",
     "text": [
      "Processing test_vctk:  20%|██        | 12/60 [07:54<31:57, 39.94s/it]"
     ]
    },
    {
     "name": "stdout",
     "output_type": "stream",
     "text": [
      "✓ Generated: /home/is/lathifgalih-k/research_naist/multimodal-clone/clone-video/edtalk-exp/EDTalk/results/test_vctk/pose/VCTK/A010_02_BBP_NORMAL_color_25fps_6sec_YT_A010_cloned.mp4\n",
      "Processing: A011_02_BBP_NORMAL_color_25fps_6sec_CV_A011_cloned.mp4\n"
     ]
    },
    {
     "name": "stderr",
     "output_type": "stream",
     "text": [
      "Processing test_vctk:  22%|██▏       | 13/60 [08:39<32:28, 41.45s/it]"
     ]
    },
    {
     "name": "stdout",
     "output_type": "stream",
     "text": [
      "✓ Generated: /home/is/lathifgalih-k/research_naist/multimodal-clone/clone-video/edtalk-exp/EDTalk/results/test_vctk/pose/VCTK/A011_02_BBP_NORMAL_color_25fps_6sec_CV_A011_cloned.mp4\n",
      "Processing: A011_02_BBP_NORMAL_color_25fps_6sec_XT_A011_cloned.mp4\n"
     ]
    },
    {
     "name": "stderr",
     "output_type": "stream",
     "text": [
      "Processing test_vctk:  23%|██▎       | 14/60 [09:16<30:49, 40.21s/it]"
     ]
    },
    {
     "name": "stdout",
     "output_type": "stream",
     "text": [
      "✓ Generated: /home/is/lathifgalih-k/research_naist/multimodal-clone/clone-video/edtalk-exp/EDTalk/results/test_vctk/pose/VCTK/A011_02_BBP_NORMAL_color_25fps_6sec_XT_A011_cloned.mp4\n",
      "Processing: A011_02_BBP_NORMAL_color_25fps_6sec_YT_A011_cloned.mp4\n"
     ]
    },
    {
     "name": "stderr",
     "output_type": "stream",
     "text": [
      "Processing test_vctk:  25%|██▌       | 15/60 [09:56<30:11, 40.25s/it]"
     ]
    },
    {
     "name": "stdout",
     "output_type": "stream",
     "text": [
      "✓ Generated: /home/is/lathifgalih-k/research_naist/multimodal-clone/clone-video/edtalk-exp/EDTalk/results/test_vctk/pose/VCTK/A011_02_BBP_NORMAL_color_25fps_6sec_YT_A011_cloned.mp4\n",
      "Processing: A014_02_BBP_NORMAL_color_25fps_6sec_CV_A014_cloned.mp4\n"
     ]
    },
    {
     "name": "stderr",
     "output_type": "stream",
     "text": [
      "Processing test_vctk:  27%|██▋       | 16/60 [10:49<32:21, 44.12s/it]"
     ]
    },
    {
     "name": "stdout",
     "output_type": "stream",
     "text": [
      "✓ Generated: /home/is/lathifgalih-k/research_naist/multimodal-clone/clone-video/edtalk-exp/EDTalk/results/test_vctk/pose/VCTK/A014_02_BBP_NORMAL_color_25fps_6sec_CV_A014_cloned.mp4\n",
      "Processing: A014_02_BBP_NORMAL_color_25fps_6sec_XT_A014_cloned.mp4\n"
     ]
    },
    {
     "name": "stderr",
     "output_type": "stream",
     "text": [
      "Processing test_vctk:  28%|██▊       | 17/60 [11:28<30:21, 42.37s/it]"
     ]
    },
    {
     "name": "stdout",
     "output_type": "stream",
     "text": [
      "✓ Generated: /home/is/lathifgalih-k/research_naist/multimodal-clone/clone-video/edtalk-exp/EDTalk/results/test_vctk/pose/VCTK/A014_02_BBP_NORMAL_color_25fps_6sec_XT_A014_cloned.mp4\n",
      "Processing: A014_02_BBP_NORMAL_color_25fps_6sec_YT_A014_cloned.mp4\n"
     ]
    },
    {
     "name": "stderr",
     "output_type": "stream",
     "text": [
      "Processing test_vctk:  30%|███       | 18/60 [12:04<28:18, 40.43s/it]"
     ]
    },
    {
     "name": "stdout",
     "output_type": "stream",
     "text": [
      "✓ Generated: /home/is/lathifgalih-k/research_naist/multimodal-clone/clone-video/edtalk-exp/EDTalk/results/test_vctk/pose/VCTK/A014_02_BBP_NORMAL_color_25fps_6sec_YT_A014_cloned.mp4\n",
      "Processing: A015_02_DDK_PATAKA_color_25fps_6sec_CV_A015_cloned.mp4\n"
     ]
    },
    {
     "name": "stderr",
     "output_type": "stream",
     "text": [
      "Processing test_vctk:  32%|███▏      | 19/60 [12:55<29:57, 43.85s/it]"
     ]
    },
    {
     "name": "stdout",
     "output_type": "stream",
     "text": [
      "✓ Generated: /home/is/lathifgalih-k/research_naist/multimodal-clone/clone-video/edtalk-exp/EDTalk/results/test_vctk/pose/VCTK/A015_02_DDK_PATAKA_color_25fps_6sec_CV_A015_cloned.mp4\n",
      "Processing: A015_02_DDK_PATAKA_color_25fps_6sec_XT_A015_cloned.mp4\n"
     ]
    },
    {
     "name": "stderr",
     "output_type": "stream",
     "text": [
      "Processing test_vctk:  33%|███▎      | 20/60 [13:33<28:04, 42.12s/it]"
     ]
    },
    {
     "name": "stdout",
     "output_type": "stream",
     "text": [
      "✓ Generated: /home/is/lathifgalih-k/research_naist/multimodal-clone/clone-video/edtalk-exp/EDTalk/results/test_vctk/pose/VCTK/A015_02_DDK_PATAKA_color_25fps_6sec_XT_A015_cloned.mp4\n",
      "Processing: A015_02_DDK_PATAKA_color_25fps_6sec_YT_A015_cloned.mp4\n"
     ]
    },
    {
     "name": "stderr",
     "output_type": "stream",
     "text": [
      "Processing test_vctk:  35%|███▌      | 21/60 [14:16<27:32, 42.37s/it]"
     ]
    },
    {
     "name": "stdout",
     "output_type": "stream",
     "text": [
      "✓ Generated: /home/is/lathifgalih-k/research_naist/multimodal-clone/clone-video/edtalk-exp/EDTalk/results/test_vctk/pose/VCTK/A015_02_DDK_PATAKA_color_25fps_6sec_YT_A015_cloned.mp4\n",
      "Processing: A016_02_BBP_NORMAL_color_25fps_6sec_CV_A016_cloned.mp4\n"
     ]
    },
    {
     "name": "stderr",
     "output_type": "stream",
     "text": [
      "Processing test_vctk:  37%|███▋      | 22/60 [15:00<27:01, 42.66s/it]"
     ]
    },
    {
     "name": "stdout",
     "output_type": "stream",
     "text": [
      "✓ Generated: /home/is/lathifgalih-k/research_naist/multimodal-clone/clone-video/edtalk-exp/EDTalk/results/test_vctk/pose/VCTK/A016_02_BBP_NORMAL_color_25fps_6sec_CV_A016_cloned.mp4\n",
      "Processing: A016_02_BBP_NORMAL_color_25fps_6sec_XT_A016_cloned.mp4\n"
     ]
    },
    {
     "name": "stderr",
     "output_type": "stream",
     "text": [
      "Processing test_vctk:  38%|███▊      | 23/60 [15:37<25:19, 41.07s/it]"
     ]
    },
    {
     "name": "stdout",
     "output_type": "stream",
     "text": [
      "✓ Generated: /home/is/lathifgalih-k/research_naist/multimodal-clone/clone-video/edtalk-exp/EDTalk/results/test_vctk/pose/VCTK/A016_02_BBP_NORMAL_color_25fps_6sec_XT_A016_cloned.mp4\n",
      "Processing: A016_02_BBP_NORMAL_color_25fps_6sec_YT_A016_cloned.mp4\n"
     ]
    },
    {
     "name": "stderr",
     "output_type": "stream",
     "text": [
      "Processing test_vctk:  40%|████      | 24/60 [16:18<24:33, 40.94s/it]"
     ]
    },
    {
     "name": "stdout",
     "output_type": "stream",
     "text": [
      "✓ Generated: /home/is/lathifgalih-k/research_naist/multimodal-clone/clone-video/edtalk-exp/EDTalk/results/test_vctk/pose/VCTK/A016_02_BBP_NORMAL_color_25fps_6sec_YT_A016_cloned.mp4\n",
      "Processing: A017_02_BBP_NORMAL_color_25fps_6sec_CV_A017_cloned.mp4\n"
     ]
    },
    {
     "name": "stderr",
     "output_type": "stream",
     "text": [
      "Processing test_vctk:  42%|████▏     | 25/60 [17:08<25:25, 43.59s/it]"
     ]
    },
    {
     "name": "stdout",
     "output_type": "stream",
     "text": [
      "✓ Generated: /home/is/lathifgalih-k/research_naist/multimodal-clone/clone-video/edtalk-exp/EDTalk/results/test_vctk/pose/VCTK/A017_02_BBP_NORMAL_color_25fps_6sec_CV_A017_cloned.mp4\n",
      "Processing: A017_02_BBP_NORMAL_color_25fps_6sec_XT_A017_cloned.mp4\n"
     ]
    },
    {
     "name": "stderr",
     "output_type": "stream",
     "text": [
      "Processing test_vctk:  43%|████▎     | 26/60 [17:50<24:31, 43.27s/it]"
     ]
    },
    {
     "name": "stdout",
     "output_type": "stream",
     "text": [
      "✓ Generated: /home/is/lathifgalih-k/research_naist/multimodal-clone/clone-video/edtalk-exp/EDTalk/results/test_vctk/pose/VCTK/A017_02_BBP_NORMAL_color_25fps_6sec_XT_A017_cloned.mp4\n",
      "Processing: A017_02_BBP_NORMAL_color_25fps_6sec_YT_A017_cloned.mp4\n"
     ]
    },
    {
     "name": "stderr",
     "output_type": "stream",
     "text": [
      "Processing test_vctk:  45%|████▌     | 27/60 [18:31<23:22, 42.49s/it]"
     ]
    },
    {
     "name": "stdout",
     "output_type": "stream",
     "text": [
      "✓ Generated: /home/is/lathifgalih-k/research_naist/multimodal-clone/clone-video/edtalk-exp/EDTalk/results/test_vctk/pose/VCTK/A017_02_BBP_NORMAL_color_25fps_6sec_YT_A017_cloned.mp4\n",
      "Processing: S001_02_DDK_PA_color_25fps_6sec_CV_S001_cloned.mp4\n"
     ]
    },
    {
     "name": "stderr",
     "output_type": "stream",
     "text": [
      "Processing test_vctk:  47%|████▋     | 28/60 [19:04<21:11, 39.73s/it]"
     ]
    },
    {
     "name": "stdout",
     "output_type": "stream",
     "text": [
      "✓ Generated: /home/is/lathifgalih-k/research_naist/multimodal-clone/clone-video/edtalk-exp/EDTalk/results/test_vctk/pose/VCTK/S001_02_DDK_PA_color_25fps_6sec_CV_S001_cloned.mp4\n",
      "Processing: S001_02_DDK_PA_color_25fps_6sec_XT_S001_cloned.mp4\n"
     ]
    },
    {
     "name": "stderr",
     "output_type": "stream",
     "text": [
      "Processing test_vctk:  48%|████▊     | 29/60 [19:39<19:48, 38.33s/it]"
     ]
    },
    {
     "name": "stdout",
     "output_type": "stream",
     "text": [
      "✓ Generated: /home/is/lathifgalih-k/research_naist/multimodal-clone/clone-video/edtalk-exp/EDTalk/results/test_vctk/pose/VCTK/S001_02_DDK_PA_color_25fps_6sec_XT_S001_cloned.mp4\n",
      "Processing: S001_02_DDK_PA_color_25fps_6sec_YT_S001_cloned.mp4\n"
     ]
    },
    {
     "name": "stderr",
     "output_type": "stream",
     "text": [
      "Processing test_vctk:  50%|█████     | 30/60 [20:15<18:49, 37.65s/it]"
     ]
    },
    {
     "name": "stdout",
     "output_type": "stream",
     "text": [
      "✓ Generated: /home/is/lathifgalih-k/research_naist/multimodal-clone/clone-video/edtalk-exp/EDTalk/results/test_vctk/pose/VCTK/S001_02_DDK_PA_color_25fps_6sec_YT_S001_cloned.mp4\n",
      "Processing: S002_02_DDK_PA_color_25fps_6sec_CV_S002_cloned.mp4\n"
     ]
    },
    {
     "name": "stderr",
     "output_type": "stream",
     "text": [
      "Processing test_vctk:  52%|█████▏    | 31/60 [20:56<18:37, 38.55s/it]"
     ]
    },
    {
     "name": "stdout",
     "output_type": "stream",
     "text": [
      "✓ Generated: /home/is/lathifgalih-k/research_naist/multimodal-clone/clone-video/edtalk-exp/EDTalk/results/test_vctk/pose/VCTK/S002_02_DDK_PA_color_25fps_6sec_CV_S002_cloned.mp4\n",
      "Processing: S002_02_DDK_PA_color_25fps_6sec_XT_S002_cloned.mp4\n"
     ]
    },
    {
     "name": "stderr",
     "output_type": "stream",
     "text": [
      "Processing test_vctk:  53%|█████▎    | 32/60 [21:46<19:35, 41.98s/it]"
     ]
    },
    {
     "name": "stdout",
     "output_type": "stream",
     "text": [
      "✓ Generated: /home/is/lathifgalih-k/research_naist/multimodal-clone/clone-video/edtalk-exp/EDTalk/results/test_vctk/pose/VCTK/S002_02_DDK_PA_color_25fps_6sec_XT_S002_cloned.mp4\n",
      "Processing: S002_02_DDK_PA_color_25fps_6sec_YT_S002_cloned.mp4\n"
     ]
    },
    {
     "name": "stderr",
     "output_type": "stream",
     "text": [
      "Processing test_vctk:  55%|█████▌    | 33/60 [22:23<18:11, 40.42s/it]"
     ]
    },
    {
     "name": "stdout",
     "output_type": "stream",
     "text": [
      "✓ Generated: /home/is/lathifgalih-k/research_naist/multimodal-clone/clone-video/edtalk-exp/EDTalk/results/test_vctk/pose/VCTK/S002_02_DDK_PA_color_25fps_6sec_YT_S002_cloned.mp4\n",
      "Processing: S003_02_BBP_NORMAL_color_25fps_6sec_CV_S003_cloned.mp4\n"
     ]
    },
    {
     "name": "stderr",
     "output_type": "stream",
     "text": [
      "Processing test_vctk:  57%|█████▋    | 34/60 [23:06<17:50, 41.18s/it]"
     ]
    },
    {
     "name": "stdout",
     "output_type": "stream",
     "text": [
      "✓ Generated: /home/is/lathifgalih-k/research_naist/multimodal-clone/clone-video/edtalk-exp/EDTalk/results/test_vctk/pose/VCTK/S003_02_BBP_NORMAL_color_25fps_6sec_CV_S003_cloned.mp4\n",
      "Processing: S003_02_BBP_NORMAL_color_25fps_6sec_XT_S003_cloned.mp4\n"
     ]
    },
    {
     "name": "stderr",
     "output_type": "stream",
     "text": [
      "Processing test_vctk:  58%|█████▊    | 35/60 [23:47<17:13, 41.35s/it]"
     ]
    },
    {
     "name": "stdout",
     "output_type": "stream",
     "text": [
      "✓ Generated: /home/is/lathifgalih-k/research_naist/multimodal-clone/clone-video/edtalk-exp/EDTalk/results/test_vctk/pose/VCTK/S003_02_BBP_NORMAL_color_25fps_6sec_XT_S003_cloned.mp4\n",
      "Processing: S003_02_BBP_NORMAL_color_25fps_6sec_YT_S003_cloned.mp4\n"
     ]
    },
    {
     "name": "stderr",
     "output_type": "stream",
     "text": [
      "Processing test_vctk:  60%|██████    | 36/60 [24:23<15:51, 39.66s/it]"
     ]
    },
    {
     "name": "stdout",
     "output_type": "stream",
     "text": [
      "✓ Generated: /home/is/lathifgalih-k/research_naist/multimodal-clone/clone-video/edtalk-exp/EDTalk/results/test_vctk/pose/VCTK/S003_02_BBP_NORMAL_color_25fps_6sec_YT_S003_cloned.mp4\n",
      "Processing: S005_02_BBP_NORMAL_color_25fps_6sec_CV_S005_cloned.mp4\n"
     ]
    },
    {
     "name": "stderr",
     "output_type": "stream",
     "text": [
      "Processing test_vctk:  62%|██████▏   | 37/60 [25:05<15:30, 40.46s/it]"
     ]
    },
    {
     "name": "stdout",
     "output_type": "stream",
     "text": [
      "✓ Generated: /home/is/lathifgalih-k/research_naist/multimodal-clone/clone-video/edtalk-exp/EDTalk/results/test_vctk/pose/VCTK/S005_02_BBP_NORMAL_color_25fps_6sec_CV_S005_cloned.mp4\n",
      "Processing: S005_02_BBP_NORMAL_color_25fps_6sec_XT_S005_cloned.mp4\n"
     ]
    },
    {
     "name": "stderr",
     "output_type": "stream",
     "text": [
      "Processing test_vctk:  63%|██████▎   | 38/60 [25:47<14:56, 40.73s/it]"
     ]
    },
    {
     "name": "stdout",
     "output_type": "stream",
     "text": [
      "✓ Generated: /home/is/lathifgalih-k/research_naist/multimodal-clone/clone-video/edtalk-exp/EDTalk/results/test_vctk/pose/VCTK/S005_02_BBP_NORMAL_color_25fps_6sec_XT_S005_cloned.mp4\n",
      "Processing: S005_02_BBP_NORMAL_color_25fps_6sec_YT_S005_cloned.mp4\n"
     ]
    },
    {
     "name": "stderr",
     "output_type": "stream",
     "text": [
      "Processing test_vctk:  65%|██████▌   | 39/60 [26:26<14:05, 40.26s/it]"
     ]
    },
    {
     "name": "stdout",
     "output_type": "stream",
     "text": [
      "✓ Generated: /home/is/lathifgalih-k/research_naist/multimodal-clone/clone-video/edtalk-exp/EDTalk/results/test_vctk/pose/VCTK/S005_02_BBP_NORMAL_color_25fps_6sec_YT_S005_cloned.mp4\n",
      "Processing: S006_02_BBP_NORMAL_color_25fps_6sec_CV_S006_cloned.mp4\n"
     ]
    },
    {
     "name": "stderr",
     "output_type": "stream",
     "text": [
      "Processing test_vctk:  67%|██████▋   | 40/60 [27:07<13:30, 40.52s/it]"
     ]
    },
    {
     "name": "stdout",
     "output_type": "stream",
     "text": [
      "✓ Generated: /home/is/lathifgalih-k/research_naist/multimodal-clone/clone-video/edtalk-exp/EDTalk/results/test_vctk/pose/VCTK/S006_02_BBP_NORMAL_color_25fps_6sec_CV_S006_cloned.mp4\n",
      "Processing: S006_02_BBP_NORMAL_color_25fps_6sec_XT_S006_cloned.mp4\n"
     ]
    },
    {
     "name": "stderr",
     "output_type": "stream",
     "text": [
      "Processing test_vctk:  68%|██████▊   | 41/60 [27:49<13:00, 41.07s/it]"
     ]
    },
    {
     "name": "stdout",
     "output_type": "stream",
     "text": [
      "✓ Generated: /home/is/lathifgalih-k/research_naist/multimodal-clone/clone-video/edtalk-exp/EDTalk/results/test_vctk/pose/VCTK/S006_02_BBP_NORMAL_color_25fps_6sec_XT_S006_cloned.mp4\n",
      "Processing: S006_02_BBP_NORMAL_color_25fps_6sec_YT_S006_cloned.mp4\n"
     ]
    },
    {
     "name": "stderr",
     "output_type": "stream",
     "text": [
      "Processing test_vctk:  70%|███████   | 42/60 [28:27<12:00, 40.04s/it]"
     ]
    },
    {
     "name": "stdout",
     "output_type": "stream",
     "text": [
      "✓ Generated: /home/is/lathifgalih-k/research_naist/multimodal-clone/clone-video/edtalk-exp/EDTalk/results/test_vctk/pose/VCTK/S006_02_BBP_NORMAL_color_25fps_6sec_YT_S006_cloned.mp4\n",
      "Processing: S007_02_BBP_NORMAL_color_25fps_6sec_CV_S007_cloned.mp4\n"
     ]
    },
    {
     "name": "stderr",
     "output_type": "stream",
     "text": [
      "Processing test_vctk:  72%|███████▏  | 43/60 [29:10<11:37, 41.02s/it]"
     ]
    },
    {
     "name": "stdout",
     "output_type": "stream",
     "text": [
      "✓ Generated: /home/is/lathifgalih-k/research_naist/multimodal-clone/clone-video/edtalk-exp/EDTalk/results/test_vctk/pose/VCTK/S007_02_BBP_NORMAL_color_25fps_6sec_CV_S007_cloned.mp4\n",
      "Processing: S007_02_BBP_NORMAL_color_25fps_6sec_XT_S007_cloned.mp4\n"
     ]
    },
    {
     "name": "stderr",
     "output_type": "stream",
     "text": [
      "Processing test_vctk:  73%|███████▎  | 44/60 [29:52<10:58, 41.13s/it]"
     ]
    },
    {
     "name": "stdout",
     "output_type": "stream",
     "text": [
      "✓ Generated: /home/is/lathifgalih-k/research_naist/multimodal-clone/clone-video/edtalk-exp/EDTalk/results/test_vctk/pose/VCTK/S007_02_BBP_NORMAL_color_25fps_6sec_XT_S007_cloned.mp4\n",
      "Processing: S007_02_BBP_NORMAL_color_25fps_6sec_YT_S007_cloned.mp4\n"
     ]
    },
    {
     "name": "stderr",
     "output_type": "stream",
     "text": [
      "Processing test_vctk:  75%|███████▌  | 45/60 [30:33<10:18, 41.23s/it]"
     ]
    },
    {
     "name": "stdout",
     "output_type": "stream",
     "text": [
      "✓ Generated: /home/is/lathifgalih-k/research_naist/multimodal-clone/clone-video/edtalk-exp/EDTalk/results/test_vctk/pose/VCTK/S007_02_BBP_NORMAL_color_25fps_6sec_YT_S007_cloned.mp4\n",
      "Processing: S008_02_BBP_NORMAL_color_25fps_6sec_CV_S008_cloned.mp4\n"
     ]
    },
    {
     "name": "stderr",
     "output_type": "stream",
     "text": [
      "Processing test_vctk:  77%|███████▋  | 46/60 [31:09<09:16, 39.74s/it]"
     ]
    },
    {
     "name": "stdout",
     "output_type": "stream",
     "text": [
      "✓ Generated: /home/is/lathifgalih-k/research_naist/multimodal-clone/clone-video/edtalk-exp/EDTalk/results/test_vctk/pose/VCTK/S008_02_BBP_NORMAL_color_25fps_6sec_CV_S008_cloned.mp4\n",
      "Processing: S008_02_BBP_NORMAL_color_25fps_6sec_XT_S008_cloned.mp4\n"
     ]
    },
    {
     "name": "stderr",
     "output_type": "stream",
     "text": [
      "Processing test_vctk:  78%|███████▊  | 47/60 [31:59<09:15, 42.72s/it]"
     ]
    },
    {
     "name": "stdout",
     "output_type": "stream",
     "text": [
      "✓ Generated: /home/is/lathifgalih-k/research_naist/multimodal-clone/clone-video/edtalk-exp/EDTalk/results/test_vctk/pose/VCTK/S008_02_BBP_NORMAL_color_25fps_6sec_XT_S008_cloned.mp4\n",
      "Processing: S008_02_BBP_NORMAL_color_25fps_6sec_YT_S008_cloned.mp4\n"
     ]
    },
    {
     "name": "stderr",
     "output_type": "stream",
     "text": [
      "Processing test_vctk:  80%|████████  | 48/60 [32:36<08:13, 41.10s/it]"
     ]
    },
    {
     "name": "stdout",
     "output_type": "stream",
     "text": [
      "✓ Generated: /home/is/lathifgalih-k/research_naist/multimodal-clone/clone-video/edtalk-exp/EDTalk/results/test_vctk/pose/VCTK/S008_02_BBP_NORMAL_color_25fps_6sec_YT_S008_cloned.mp4\n",
      "Processing: S009_02_BBP_NORMAL_color_25fps_6sec_CV_S009_cloned.mp4\n"
     ]
    },
    {
     "name": "stderr",
     "output_type": "stream",
     "text": [
      "Processing test_vctk:  82%|████████▏ | 49/60 [33:12<07:14, 39.48s/it]"
     ]
    },
    {
     "name": "stdout",
     "output_type": "stream",
     "text": [
      "✓ Generated: /home/is/lathifgalih-k/research_naist/multimodal-clone/clone-video/edtalk-exp/EDTalk/results/test_vctk/pose/VCTK/S009_02_BBP_NORMAL_color_25fps_6sec_CV_S009_cloned.mp4\n",
      "Processing: S009_02_BBP_NORMAL_color_25fps_6sec_XT_S009_cloned.mp4\n"
     ]
    },
    {
     "name": "stderr",
     "output_type": "stream",
     "text": [
      "Processing test_vctk:  83%|████████▎ | 50/60 [33:49<06:26, 38.63s/it]"
     ]
    },
    {
     "name": "stdout",
     "output_type": "stream",
     "text": [
      "✓ Generated: /home/is/lathifgalih-k/research_naist/multimodal-clone/clone-video/edtalk-exp/EDTalk/results/test_vctk/pose/VCTK/S009_02_BBP_NORMAL_color_25fps_6sec_XT_S009_cloned.mp4\n",
      "Processing: S009_02_BBP_NORMAL_color_25fps_6sec_YT_S009_cloned.mp4\n"
     ]
    },
    {
     "name": "stderr",
     "output_type": "stream",
     "text": [
      "Processing test_vctk:  85%|████████▌ | 51/60 [34:28<05:48, 38.71s/it]"
     ]
    },
    {
     "name": "stdout",
     "output_type": "stream",
     "text": [
      "✓ Generated: /home/is/lathifgalih-k/research_naist/multimodal-clone/clone-video/edtalk-exp/EDTalk/results/test_vctk/pose/VCTK/S009_02_BBP_NORMAL_color_25fps_6sec_YT_S009_cloned.mp4\n",
      "Processing: S011_02_BBP_NORMAL_color_25fps_6sec_CV_S011_cloned.mp4\n"
     ]
    },
    {
     "name": "stderr",
     "output_type": "stream",
     "text": [
      "Processing test_vctk:  87%|████████▋ | 52/60 [35:04<05:03, 37.92s/it]"
     ]
    },
    {
     "name": "stdout",
     "output_type": "stream",
     "text": [
      "✓ Generated: /home/is/lathifgalih-k/research_naist/multimodal-clone/clone-video/edtalk-exp/EDTalk/results/test_vctk/pose/VCTK/S011_02_BBP_NORMAL_color_25fps_6sec_CV_S011_cloned.mp4\n",
      "Processing: S011_02_BBP_NORMAL_color_25fps_6sec_XT_S011_cloned.mp4\n"
     ]
    },
    {
     "name": "stderr",
     "output_type": "stream",
     "text": [
      "Processing test_vctk:  88%|████████▊ | 53/60 [35:42<04:27, 38.16s/it]"
     ]
    },
    {
     "name": "stdout",
     "output_type": "stream",
     "text": [
      "✓ Generated: /home/is/lathifgalih-k/research_naist/multimodal-clone/clone-video/edtalk-exp/EDTalk/results/test_vctk/pose/VCTK/S011_02_BBP_NORMAL_color_25fps_6sec_XT_S011_cloned.mp4\n",
      "Processing: S011_02_BBP_NORMAL_color_25fps_6sec_YT_S011_cloned.mp4\n"
     ]
    },
    {
     "name": "stderr",
     "output_type": "stream",
     "text": [
      "Processing test_vctk:  90%|█████████ | 54/60 [36:19<03:46, 37.69s/it]"
     ]
    },
    {
     "name": "stdout",
     "output_type": "stream",
     "text": [
      "✓ Generated: /home/is/lathifgalih-k/research_naist/multimodal-clone/clone-video/edtalk-exp/EDTalk/results/test_vctk/pose/VCTK/S011_02_BBP_NORMAL_color_25fps_6sec_YT_S011_cloned.mp4\n",
      "Processing: S012_02_BBP_NORMAL_color_25fps_6sec_CV_S012_cloned.mp4\n"
     ]
    },
    {
     "name": "stderr",
     "output_type": "stream",
     "text": [
      "Processing test_vctk:  92%|█████████▏| 55/60 [37:03<03:18, 39.62s/it]"
     ]
    },
    {
     "name": "stdout",
     "output_type": "stream",
     "text": [
      "✓ Generated: /home/is/lathifgalih-k/research_naist/multimodal-clone/clone-video/edtalk-exp/EDTalk/results/test_vctk/pose/VCTK/S012_02_BBP_NORMAL_color_25fps_6sec_CV_S012_cloned.mp4\n",
      "Processing: S012_02_BBP_NORMAL_color_25fps_6sec_XT_S012_cloned.mp4\n"
     ]
    },
    {
     "name": "stderr",
     "output_type": "stream",
     "text": [
      "Processing test_vctk:  93%|█████████▎| 56/60 [37:44<02:40, 40.10s/it]"
     ]
    },
    {
     "name": "stdout",
     "output_type": "stream",
     "text": [
      "✓ Generated: /home/is/lathifgalih-k/research_naist/multimodal-clone/clone-video/edtalk-exp/EDTalk/results/test_vctk/pose/VCTK/S012_02_BBP_NORMAL_color_25fps_6sec_XT_S012_cloned.mp4\n",
      "Processing: S012_02_BBP_NORMAL_color_25fps_6sec_YT_S012_cloned.mp4\n"
     ]
    },
    {
     "name": "stderr",
     "output_type": "stream",
     "text": [
      "Processing test_vctk:  95%|█████████▌| 57/60 [38:22<01:58, 39.41s/it]"
     ]
    },
    {
     "name": "stdout",
     "output_type": "stream",
     "text": [
      "✓ Generated: /home/is/lathifgalih-k/research_naist/multimodal-clone/clone-video/edtalk-exp/EDTalk/results/test_vctk/pose/VCTK/S012_02_BBP_NORMAL_color_25fps_6sec_YT_S012_cloned.mp4\n",
      "Processing: S013_02_BBP_NORMAL_color_25fps_6sec_CV_S013_cloned.mp4\n"
     ]
    },
    {
     "name": "stderr",
     "output_type": "stream",
     "text": [
      "Processing test_vctk:  97%|█████████▋| 58/60 [39:03<01:19, 39.94s/it]"
     ]
    },
    {
     "name": "stdout",
     "output_type": "stream",
     "text": [
      "✓ Generated: /home/is/lathifgalih-k/research_naist/multimodal-clone/clone-video/edtalk-exp/EDTalk/results/test_vctk/pose/VCTK/S013_02_BBP_NORMAL_color_25fps_6sec_CV_S013_cloned.mp4\n",
      "Processing: S013_02_BBP_NORMAL_color_25fps_6sec_XT_S013_cloned.mp4\n"
     ]
    },
    {
     "name": "stderr",
     "output_type": "stream",
     "text": [
      "Processing test_vctk:  98%|█████████▊| 59/60 [39:40<00:39, 39.03s/it]"
     ]
    },
    {
     "name": "stdout",
     "output_type": "stream",
     "text": [
      "✓ Generated: /home/is/lathifgalih-k/research_naist/multimodal-clone/clone-video/edtalk-exp/EDTalk/results/test_vctk/pose/VCTK/S013_02_BBP_NORMAL_color_25fps_6sec_XT_S013_cloned.mp4\n",
      "Processing: S013_02_BBP_NORMAL_color_25fps_6sec_YT_S013_cloned.mp4\n"
     ]
    },
    {
     "name": "stderr",
     "output_type": "stream",
     "text": [
      "Processing test_vctk: 100%|██████████| 60/60 [40:17<00:00, 40.29s/it]"
     ]
    },
    {
     "name": "stdout",
     "output_type": "stream",
     "text": [
      "✓ Generated: /home/is/lathifgalih-k/research_naist/multimodal-clone/clone-video/edtalk-exp/EDTalk/results/test_vctk/pose/VCTK/S013_02_BBP_NORMAL_color_25fps_6sec_YT_S013_cloned.mp4\n"
     ]
    },
    {
     "name": "stderr",
     "output_type": "stream",
     "text": [
      "\n"
     ]
    }
   ],
   "source": [
    "import os\n",
    "import subprocess\n",
    "from pathlib import Path\n",
    "import shutil\n",
    "from tqdm import tqdm\n",
    "import yaml\n",
    "\n",
    "# Configuration\n",
    "BASE_DIR = \"/home/is/lathifgalih-k/research_naist/multimodal-clone/clone-video\"\n",
    "MUSE_VIDEO_DIR = f\"{BASE_DIR}/muse-exp/MuseTalk/data/video\"\n",
    "MUSE_AUDIO_DIR = f\"{BASE_DIR}/muse-exp/MuseTalk/data/audio\" \n",
    "MUSE_CONFIG_DIR = f\"{BASE_DIR}/muse-exp/MuseTalk/configs/inference\"\n",
    "EDTALK_DIR = f\"{BASE_DIR}/edtalk-exp/EDTalk\"\n",
    "OUTPUT_DIR = f\"{EDTALK_DIR}/results\"\n",
    "\n",
    "def extract_first_frame(video_path, output_path):\n",
    "    \"\"\"Extract first frame from video as source image\"\"\"\n",
    "    cmd = f'ffmpeg -i \"{video_path}\" -vf \"select=eq(n\\\\,0)\" -q:v 3 \"{output_path}\" -y'\n",
    "    result = subprocess.run(cmd, shell=True, capture_output=True)\n",
    "    return result.returncode == 0\n",
    "\n",
    "def run_edtalk_pose_inference(source_img, audio_path, output_path, source_video):\n",
    "    \"\"\"Run EDTalk inference with fixed pose\"\"\"\n",
    "    cmd = f'python demo_lip_pose.py --source_path \"{source_img}\" --audio_driving_path \"{audio_path}\" --pose_driving_path \"{source_video}\" --save_path \"{output_path}\" --face_sr'\n",
    "    result = subprocess.run(cmd, shell=True, capture_output=True, cwd=EDTALK_DIR)\n",
    "    \n",
    "    # Print error output for debugging\n",
    "    if result.returncode != 0:\n",
    "        print(f\"Error output: {result.stderr.decode() if result.stderr else 'No error message'}\")\n",
    "        print(f\"Stdout: {result.stdout.decode() if result.stdout else 'No stdout'}\")\n",
    "    \n",
    "    return result.returncode == 0\n",
    "\n",
    "def load_yaml_config(yaml_path):\n",
    "    \"\"\"Load configuration from YAML file\"\"\"\n",
    "    if not os.path.exists(yaml_path):\n",
    "        print(f\"YAML config not found: {yaml_path}\")\n",
    "        return {}\n",
    "    \n",
    "    with open(yaml_path, 'r') as file:\n",
    "        config = yaml.safe_load(file)\n",
    "    \n",
    "    return config\n",
    "\n",
    "def get_audio_type_from_path(audio_path):\n",
    "    \"\"\"Extract audio type from path\"\"\"\n",
    "    if \"CosyVoice2\" in audio_path:\n",
    "        return \"CV\"\n",
    "    elif \"XTTSv2\" in audio_path:\n",
    "        return \"XT\"\n",
    "    elif \"YourTTS\" in audio_path:\n",
    "        return \"YT\"\n",
    "    return \"Unknown\"\n",
    "\n",
    "def get_dataset_type_from_path(audio_path):\n",
    "    \"\"\"Extract dataset type from path\"\"\"\n",
    "    if \"VCTK\" in audio_path:\n",
    "        return \"VCTK\"\n",
    "    elif \"Raw\" in audio_path:\n",
    "        return \"Raw\"\n",
    "    return \"Unknown\"\n",
    "\n",
    "def get_subject_task_from_audio(audio_path):\n",
    "    \"\"\"Extract subject and task from audio filename\"\"\"\n",
    "    filename = os.path.basename(audio_path)\n",
    "    # Remove prefix (CV_, XT_, YT_) and suffix (_cloned.wav)\n",
    "    parts = filename.replace(\"CV_\", \"\").replace(\"XT_\", \"\").replace(\"YT_\", \"\").replace(\"_cloned.wav\", \"\")\n",
    "    \n",
    "    if \"_VCTK\" in parts:\n",
    "        parts = parts.replace(\"_VCTK\", \"\")\n",
    "    \n",
    "    return parts\n",
    "\n",
    "def create_output_filename(video_path, audio_path):\n",
    "    \"\"\"Create output filename based on video and audio paths\"\"\"\n",
    "    video_name = Path(video_path).stem\n",
    "    audio_type = get_audio_type_from_path(audio_path)\n",
    "    subject_task = get_subject_task_from_audio(audio_path)\n",
    "    \n",
    "    return f\"{video_name}_{audio_type}_{subject_task}_cloned.mp4\"\n",
    "\n",
    "def process_yaml_configs_pose():\n",
    "    \"\"\"Process video-audio pairs from YAML configuration files\"\"\"\n",
    "    \n",
    "    # Create output directories\n",
    "    os.makedirs(f\"{OUTPUT_DIR}/test_raw/v15/RAW\", exist_ok=True)\n",
    "    os.makedirs(f\"{OUTPUT_DIR}/test_vctk/v15/VCTK\", exist_ok=True)\n",
    "    \n",
    "    # Load YAML configurations\n",
    "    yaml_configs = {\n",
    "        \"test_raw\": f\"{MUSE_CONFIG_DIR}/test_raw.yaml\",\n",
    "        \"test_vctk\": f\"{MUSE_CONFIG_DIR}/test_vctk.yaml\"\n",
    "    }\n",
    "    \n",
    "    for config_name, yaml_path in yaml_configs.items():\n",
    "        print(f\"\\nProcessing {config_name} configuration...\")\n",
    "        \n",
    "        # Load YAML config\n",
    "        config = load_yaml_config(yaml_path)\n",
    "        \n",
    "        if not config:\n",
    "            print(f\"No configuration found for {config_name}\")\n",
    "            continue\n",
    "        \n",
    "        # Process each task in the config\n",
    "        for task_name, task_config in tqdm(config.items(), desc=f\"Processing {config_name}\"):\n",
    "            video_path = task_config.get(\"video_path\", \"\")\n",
    "            audio_path = task_config.get(\"audio_path\", \"\")\n",
    "            \n",
    "            if not video_path or not audio_path:\n",
    "                print(f\"Invalid config for {task_name}: missing video_path or audio_path\")\n",
    "                continue\n",
    "            \n",
    "            # Check if files exist\n",
    "            if not os.path.exists(video_path):\n",
    "                print(f\"Video not found: {video_path}\")\n",
    "                continue\n",
    "                \n",
    "            if not os.path.exists(audio_path):\n",
    "                print(f\"Audio not found: {audio_path}\")\n",
    "                continue\n",
    "            \n",
    "            # Determine output path based on dataset type\n",
    "            dataset_type = get_dataset_type_from_path(audio_path)\n",
    "            output_filename = create_output_filename(video_path, audio_path)\n",
    "            \n",
    "            if dataset_type == \"Raw\" or config_name == \"test_raw\":\n",
    "                output_path = f\"{OUTPUT_DIR}/test_raw/pose/RAW/{output_filename}\"\n",
    "            else:  # VCTK\n",
    "                output_path = f\"{OUTPUT_DIR}/test_vctk/pose/VCTK/{output_filename}\"\n",
    "            \n",
    "            # Skip if output already exists\n",
    "            if os.path.exists(output_path):\n",
    "                print(f\"Skipping existing: {output_filename}\")\n",
    "                continue\n",
    "            \n",
    "            # Extract subject ID from video path\n",
    "            video_name = Path(video_path).stem\n",
    "            subject_id = video_name.split('_')[0]  # A002, S001, etc.\n",
    "            \n",
    "            # Extract first frame as source image\n",
    "            temp_source_img = f\"{EDTALK_DIR}/temp_{subject_id}_source.jpg\"\n",
    "            if not extract_first_frame(video_path, temp_source_img):\n",
    "                print(f\"Failed to extract frame from {video_path}\")\n",
    "                continue\n",
    "            \n",
    "            # Crop source image using EDTalk's crop_image2.py\n",
    "            cropped_source_img = f\"{EDTALK_DIR}/temp_{subject_id}_cropped.jpg\"\n",
    "            try:\n",
    "                crop_cmd = f'python -c \"from data_preprocess.crop_image2 import crop_image; crop_image(\\'{temp_source_img}\\', \\'{cropped_source_img}\\')\"'\n",
    "                crop_result = subprocess.run(crop_cmd, shell=True, capture_output=True, cwd=EDTALK_DIR)\n",
    "                \n",
    "                if os.path.exists(cropped_source_img):\n",
    "                    source_img = cropped_source_img\n",
    "                else:\n",
    "                    source_img = temp_source_img\n",
    "                    print(f\"Using uncropped source image for {subject_id}\")\n",
    "            except Exception as e:\n",
    "                source_img = temp_source_img\n",
    "                print(f\"Crop failed for {subject_id}, using original: {e}\")\n",
    "            \n",
    "            # Run EDTalk inference\n",
    "            print(f\"Processing: {output_filename}\")\n",
    "            success = run_edtalk_pose_inference(source_img, audio_path, output_path, video_path)\n",
    "            \n",
    "            if success:\n",
    "                print(f\"✓ Generated: {output_path}\")\n",
    "            else:\n",
    "                print(f\"✗ Failed: {output_path}\")\n",
    "            \n",
    "            # Cleanup temp files\n",
    "            for temp_file in [temp_source_img, cropped_source_img]:\n",
    "                if os.path.exists(temp_file):\n",
    "                    os.remove(temp_file)\n",
    "\n",
    "def scan_and_process_available_files_pose():\n",
    "    \"\"\"Scan available files and process them dynamically\"\"\"\n",
    "    \n",
    "    # Create output directories\n",
    "    os.makedirs(f\"{OUTPUT_DIR}/test_raw/pose/RAW\", exist_ok=True)\n",
    "    os.makedirs(f\"{OUTPUT_DIR}/test_vctk/pose/VCTK\", exist_ok=True)\n",
    "    \n",
    "    # Scan available video files\n",
    "    video_folders = {\n",
    "        \"als-input\": f\"{MUSE_VIDEO_DIR}/als-input\",\n",
    "        \"stroke-input\": f\"{MUSE_VIDEO_DIR}/stroke-input\"\n",
    "    }\n",
    "    \n",
    "    # Scan available audio folders\n",
    "    audio_base_folders = [\n",
    "        \"ALS-Raw\", \"ALS-VCTK\", \"Stroke-Raw\", \"Stroke-VCTK\"\n",
    "    ]\n",
    "    \n",
    "    all_tasks = []\n",
    "    \n",
    "    # Collect all video-audio pairs\n",
    "    for video_type, video_folder in video_folders.items():\n",
    "        if not os.path.exists(video_folder):\n",
    "            continue\n",
    "            \n",
    "        for video_file in os.listdir(video_folder):\n",
    "            if not video_file.endswith('.mp4'):\n",
    "                continue\n",
    "                \n",
    "            video_path = os.path.join(video_folder, video_file)\n",
    "            video_name = Path(video_file).stem\n",
    "            \n",
    "            # Extract info from video name\n",
    "            parts = video_name.split('_')\n",
    "            subject_id = parts[0]  # A002, S001, etc.\n",
    "            \n",
    "            # Determine subject type\n",
    "            if subject_id.startswith('A'):\n",
    "                subject_type = \"ALS\"\n",
    "            elif subject_id.startswith('S'):\n",
    "                subject_type = \"Stroke\"\n",
    "            else:\n",
    "                continue\n",
    "            \n",
    "            # Search for corresponding audio files\n",
    "            for audio_base_folder in audio_base_folders:\n",
    "                if not (subject_type in audio_base_folder):\n",
    "                    continue\n",
    "                    \n",
    "                audio_folder_path = f\"{MUSE_AUDIO_DIR}/{audio_base_folder}\"\n",
    "                if not os.path.exists(audio_folder_path):\n",
    "                    continue\n",
    "                \n",
    "                # Check each audio type folder\n",
    "                for audio_type_folder in [\"CosyVoice2\", \"XTTSv2\", \"YourTTS\"]:\n",
    "                    audio_type_path = f\"{audio_folder_path}/{audio_type_folder}\"\n",
    "                    if not os.path.exists(audio_type_path):\n",
    "                        continue\n",
    "                    \n",
    "                    # Find matching audio files\n",
    "                    for audio_file in os.listdir(audio_type_path):\n",
    "                        if not audio_file.endswith('.wav'):\n",
    "                            continue\n",
    "                        \n",
    "                        # Check if audio file matches the subject\n",
    "                        if subject_id in audio_file:\n",
    "                            audio_path = os.path.join(audio_type_path, audio_file)\n",
    "                            \n",
    "                            task = {\n",
    "                                \"video_path\": video_path,\n",
    "                                \"audio_path\": audio_path,\n",
    "                                \"subject_id\": subject_id,\n",
    "                                \"dataset_type\": \"Raw\" if \"Raw\" in audio_base_folder else \"VCTK\"\n",
    "                            }\n",
    "                            all_tasks.append(task)\n",
    "    \n",
    "    print(f\"Found {len(all_tasks)} video-audio pairs to process\")\n",
    "    \n",
    "    # Process all tasks\n",
    "    for task in tqdm(all_tasks, desc=\"Processing all tasks\"):\n",
    "        video_path = task[\"video_path\"]\n",
    "        audio_path = task[\"audio_path\"]\n",
    "        subject_id = task[\"subject_id\"]\n",
    "        dataset_type = task[\"dataset_type\"]\n",
    "        \n",
    "        # Create output filename\n",
    "        output_filename = create_output_filename(video_path, audio_path)\n",
    "        \n",
    "        if dataset_type == \"Raw\":\n",
    "            output_path = f\"{OUTPUT_DIR}/test_raw/pose/RAW/{output_filename}\"\n",
    "        else:  # VCTK\n",
    "            output_path = f\"{OUTPUT_DIR}/test_vctk/pose/VCTK/{output_filename}\"\n",
    "        \n",
    "        # print(output_path)\n",
    "        # Skip if output already exists\n",
    "        if os.path.exists(output_path):\n",
    "            print(f\"Skipping existing: {output_path}\")\n",
    "            continue\n",
    "        \n",
    "        # Extract first frame as source image\n",
    "        temp_source_img = f\"{EDTALK_DIR}/temp_{subject_id}_source.jpg\"\n",
    "        if not extract_first_frame(video_path, temp_source_img):\n",
    "            print(f\"Failed to extract frame from {video_path}\")\n",
    "            continue\n",
    "        \n",
    "        # Crop source image using EDTalk's crop_image2.py\n",
    "        cropped_source_img = f\"{EDTALK_DIR}/temp_{subject_id}_cropped.jpg\"\n",
    "        try:\n",
    "            crop_cmd = f'python -c \"from data_preprocess.crop_image2 import crop_image; crop_image(\\'{temp_source_img}\\', \\'{cropped_source_img}\\')\"'\n",
    "            crop_result = subprocess.run(crop_cmd, shell=True, capture_output=True, cwd=EDTALK_DIR)\n",
    "            \n",
    "            if os.path.exists(cropped_source_img):\n",
    "                source_img = cropped_source_img\n",
    "            else:\n",
    "                source_img = temp_source_img\n",
    "                print(f\"Using uncropped source image for {subject_id}\")\n",
    "        except Exception as e:\n",
    "            source_img = temp_source_img\n",
    "            print(f\"Crop failed for {subject_id}, using original: {e}\")\n",
    "        \n",
    "        # Run EDTalk inference\n",
    "        print(f\"Processing: {output_filename}\")\n",
    "        success = run_edtalk_pose_inference(source_img, audio_path, output_path, video_path)\n",
    "        \n",
    "        if success:\n",
    "            print(f\"✓ Generated: {output_path}\")\n",
    "        else:\n",
    "            print(f\"✗ Failed: {output_path}\")\n",
    "        \n",
    "        # Cleanup temp files\n",
    "        for temp_file in [temp_source_img, cropped_source_img]:\n",
    "            if os.path.exists(temp_file):\n",
    "                os.remove(temp_file)\n",
    "\n",
    "# Check if YAML configs exist, if not use file scanning approach\n",
    "yaml_configs_exist = (\n",
    "    os.path.exists(f\"{MUSE_CONFIG_DIR}/test_raw.yaml\") and \n",
    "    os.path.exists(f\"{MUSE_CONFIG_DIR}/test_vctk.yaml\")\n",
    ")\n",
    "\n",
    "if yaml_configs_exist:\n",
    "    print(\"Using YAML configuration files...\")\n",
    "    process_yaml_configs_pose()\n",
    "else:\n",
    "    print(\"YAML configs not found, scanning available files...\")\n",
    "    scan_and_process_available_files_pose()"
   ]
  }
 ],
 "metadata": {
  "kernelspec": {
   "display_name": "EDTalk",
   "language": "python",
   "name": "python3"
  },
  "language_info": {
   "codemirror_mode": {
    "name": "ipython",
    "version": 3
   },
   "file_extension": ".py",
   "mimetype": "text/x-python",
   "name": "python",
   "nbconvert_exporter": "python",
   "pygments_lexer": "ipython3",
   "version": "3.8.20"
  }
 },
 "nbformat": 4,
 "nbformat_minor": 5
}
